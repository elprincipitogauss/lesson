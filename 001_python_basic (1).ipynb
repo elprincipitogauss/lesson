{
  "cells": [
    {
      "cell_type": "markdown",
      "metadata": {
        "id": "JotXunZRIClk"
      },
      "source": [
        "# BASES DE PYTHON\n",
        "\n",
        "*   Variables\n",
        "*   Variables numéricas\n",
        "*   Variables de texto\n",
        "*   Rangos\n",
        "*   Listas\n",
        "*   Tuplas\n",
        "*   Diccionarios\n",
        "*   Condicionales\n",
        "*   Loops\n",
        "*   Funciones\n",
        "*   Lambda\n",
        "*   Funcion map\n",
        "*   Errores y excepciones\n",
        "*   Bibliografía\n"
      ]
    },
    {
      "cell_type": "markdown",
      "metadata": {
        "id": "NjozzhYC6Lwn"
      },
      "source": [
        "## Variables"
      ]
    },
    {
      "cell_type": "markdown",
      "metadata": {
        "id": "jQalsqZ48ND_"
      },
      "source": [
        "**Reglas para la creación de variables** \\\n",
        "* El nombre de una variable **debe comenzar** con una letra ó con _. \\\n",
        "* El nombre de una variable **no puede comenzar** con un número.\n",
        "* El nombre de una variable **sólo puede contener** carácteres alfa-numéricos.\n",
        "* El nombre de una variable tiene **sensibilidad a mayúsculas y minúsculas** (x es diferente de X)."
      ]
    },
    {
      "cell_type": "code",
      "execution_count": null,
      "metadata": {
        "id": "5C3iE7hZ6PpY"
      },
      "outputs": [],
      "source": [
        "# la asignacion de informacion a una variable\n",
        "Hola_mundo = \"Hola Mundo\" # a la variable Hola_mundo le asigno una cadena de caracteres (string) delimityado por unas comillas\n",
        "print(Hola_mundo) # mostrar en pantalla la informacion asignada a la variable Hola_mundo"
      ]
    },
    {
      "cell_type": "code",
      "execution_count": null,
      "metadata": {
        "id": "K9pkuae56LGK"
      },
      "outputs": [],
      "source": [
        "Hola_mundo2 = \"Hola\\nMundo\" # \\n genera un salto de linea\n",
        "print(Hola_mundo2)"
      ]
    },
    {
      "cell_type": "markdown",
      "metadata": {
        "id": "lWhYWwEGOnk5"
      },
      "source": [
        "## variables numéricas"
      ]
    },
    {
      "cell_type": "code",
      "execution_count": null,
      "metadata": {
        "id": "7wEUS6EUOvkh"
      },
      "outputs": [],
      "source": [
        "20220820"
      ]
    },
    {
      "cell_type": "code",
      "execution_count": null,
      "metadata": {
        "id": "8LoTAkFDO35E"
      },
      "outputs": [],
      "source": [
        "num = 20220820 # asignar un valor numerico(entero) a la variable num\n",
        "print(num) # muestre lo que tiene la variable num"
      ]
    },
    {
      "cell_type": "code",
      "execution_count": null,
      "metadata": {
        "id": "BZjejybxMzx_"
      },
      "outputs": [],
      "source": [
        "num = 20220820 # asigna iformacion (integer) a variable\n",
        "print(type(num)) # utilizar type para obtener el tipo de dato"
      ]
    },
    {
      "cell_type": "code",
      "execution_count": null,
      "metadata": {
        "id": "gwFnCuAyM3fb"
      },
      "outputs": [],
      "source": [
        "num = 2022.0820 # asigna iformacion (float) a variable\n",
        "print(type(num)) # utilizar type para obtener el tipo de dato"
      ]
    },
    {
      "cell_type": "markdown",
      "metadata": {
        "id": "tHBtQEzCNKZ_"
      },
      "source": [
        "### Operadores"
      ]
    },
    {
      "cell_type": "markdown",
      "metadata": {
        "id": "dKSnGetNPpWa"
      },
      "source": [
        "Python soporta los siguientes operadores aritmeticos:\n",
        "\n",
        "*   \\+ (Adición)\n",
        "*   \\* (multiplicación)\n",
        "*   / (división)\n",
        "*   ** (potencia)\n",
        "*   // (división entera)."
      ]
    },
    {
      "cell_type": "code",
      "execution_count": null,
      "metadata": {
        "id": "zPdC0ZE_PGnF"
      },
      "outputs": [],
      "source": [
        "num_a = 2 # asignar informacion numerica a variable\n",
        "num_b = 3 # asignar informacion numerica a variable\n",
        "num = num_a + num_b # operar entre variables numericas\n",
        "print(num) # muestra el resultado de la operacion"
      ]
    },
    {
      "cell_type": "code",
      "execution_count": null,
      "metadata": {
        "id": "nWtfFN3CK3uR"
      },
      "outputs": [],
      "source": [
        "num_a = 2 # asignar informacion numerica a variable\n",
        "num_b = 3 # asignar informacion numerica a variable\n",
        "num = num_a - num_b # operar entre variables numericas\n",
        "print(num) # muestra el resultado de la operacion"
      ]
    },
    {
      "cell_type": "code",
      "execution_count": null,
      "metadata": {
        "id": "xhzU-cGgQF_A"
      },
      "outputs": [],
      "source": [
        "num_a = 2 # asignar informacion numerica a variable\n",
        "num_b = 3 # asignar informacion numerica a variable\n",
        "num = num_a * num_b # operar entre variables numericas\n",
        "print(num) # muestra el resultado de la operacion"
      ]
    },
    {
      "cell_type": "code",
      "execution_count": null,
      "metadata": {
        "id": "nX1FEL3YQFtb"
      },
      "outputs": [],
      "source": [
        "num_a = 2 # asignar informacion numerica a variable\n",
        "num_b = 3 # asignar informacion numerica a variable\n",
        "num = num_a / num_b # operar entre variables numericas\n",
        "print(num) # muestra el resultado de la operacion"
      ]
    },
    {
      "cell_type": "code",
      "execution_count": null,
      "metadata": {
        "id": "HTjd9WdbQFie"
      },
      "outputs": [],
      "source": [
        "num_a = 2\n",
        "num_b = 3\n",
        "num = num_a ** num_b # variable num_a elevada a la variable num_b\n",
        "print(num)"
      ]
    },
    {
      "cell_type": "code",
      "execution_count": null,
      "metadata": {
        "id": "mNsvPOh1QFUJ"
      },
      "outputs": [],
      "source": [
        "num_a = 6\n",
        "num_b = 4\n",
        "num = num_a // num_b # division entera\n",
        "print(num)"
      ]
    },
    {
      "cell_type": "code",
      "execution_count": null,
      "metadata": {
        "id": "7hsLUZNrJ5Mp"
      },
      "outputs": [],
      "source": [
        "num = round(6.5) # funciones de redondeo (ojo) funciones de redondeo de numpy\n",
        "print(num)"
      ]
    },
    {
      "cell_type": "markdown",
      "metadata": {
        "id": "XgUduxV4MqQ-"
      },
      "source": [
        "## variables de texto"
      ]
    },
    {
      "cell_type": "markdown",
      "metadata": {
        "id": "Rgm3R1qXRAKv"
      },
      "source": [
        "Una cadena es una secuencia de caracteres\n",
        "* son inmutables"
      ]
    },
    {
      "cell_type": "code",
      "execution_count": null,
      "metadata": {
        "id": "FQsbzcMAHmjQ"
      },
      "outputs": [],
      "source": [
        "'Hola' # cadena de caratceres o texto que estan delmitadas por comillas simples' ', dobles \" \" o por triple comilla doble \"\"\" \"\"\""
      ]
    },
    {
      "cell_type": "code",
      "execution_count": null,
      "metadata": {
        "id": "WsTKmqOhK3uT"
      },
      "outputs": [],
      "source": [
        "txt = \"Hola\" # asigna una cadena de caratcer a una variable\n",
        "print(txt)"
      ]
    },
    {
      "cell_type": "code",
      "execution_count": null,
      "metadata": {
        "id": "An-Nrz1PJTgB"
      },
      "outputs": [],
      "source": [
        "txt = 'Hola' # asigna una cadena de caratcer a una variable\n",
        "print(txt)"
      ]
    },
    {
      "cell_type": "code",
      "execution_count": null,
      "metadata": {
        "id": "XS8_PCxkK3uT"
      },
      "outputs": [],
      "source": [
        "txt = 'Hola \"campeón\", cómo te fue en tu partido?' # utilizar comillas dentro del texto\n",
        "print(txt)"
      ]
    },
    {
      "cell_type": "code",
      "execution_count": null,
      "metadata": {
        "id": "FNgnNs3xIUf8"
      },
      "outputs": [],
      "source": [
        "\"\"\"Poverty is the deprivation of opportunity.\n",
        " Education makes us the human beings we are.\"\"\""
      ]
    },
    {
      "cell_type": "code",
      "execution_count": null,
      "metadata": {
        "id": "AavkgQs5JJvo"
      },
      "outputs": [],
      "source": [
        "# el uiso de triple doble comilla es para textos largos, parrafos y/o con saltos de linea\n",
        "txt = \"\"\"Poverty is the deprivation of opportunity.\n",
        "Education makes us the human beings we are.\"\"\"\n",
        "print(txt)"
      ]
    },
    {
      "cell_type": "code",
      "execution_count": null,
      "metadata": {
        "id": "dmA6MmQ0Ih_E"
      },
      "outputs": [],
      "source": [
        "# uso de comillas dentro de comillas, deben ser diferentes a las que utilizan para delimitar\n",
        "txt = \"\"\"Poverty is the deprivation of 'opportunity'.\n",
        "\"Education\" makes us the human beings we are.\"\"\"\n",
        "print(txt)"
      ]
    },
    {
      "cell_type": "code",
      "execution_count": null,
      "metadata": {
        "id": "ps3Xa7h3JDz6"
      },
      "outputs": [],
      "source": [
        "txt = 'La ruta del archivo es C:\\nombre\\lesson.ipynb' # asignacion de informacion a variables\n",
        "print(txt) # mostrar en pantalla la informacion dentro de la variable"
      ]
    },
    {
      "cell_type": "code",
      "execution_count": null,
      "metadata": {
        "id": "5HodPCi7JDpu"
      },
      "outputs": [],
      "source": [
        "# formas de escapar a expresion\n",
        "# uso de \\ antes de la expresion\n",
        "txt = 'La ruta del archivo es C:\\\\nombre\\\\lesson.ipynb'\n",
        "print(txt)"
      ]
    },
    {
      "cell_type": "code",
      "execution_count": null,
      "metadata": {
        "id": "ghxSo0mcJc3n"
      },
      "outputs": [],
      "source": [
        "# tomar de forma estricta y literal lo que se escribe\n",
        "# uso de r antes de el string\n",
        "txt = r'La ruta del archivo es C:\\nombre\\lesson.ipynb'\n",
        "print(txt)"
      ]
    },
    {
      "cell_type": "markdown",
      "metadata": {
        "id": "fgB1EzfVNOZU"
      },
      "source": [
        "### operadores"
      ]
    },
    {
      "cell_type": "code",
      "execution_count": null,
      "metadata": {
        "id": "UnFo3HnWJ5DI"
      },
      "outputs": [],
      "source": [
        "txt_a = 'Poverty is the '\n",
        "txt_b = 'deprivation of opportunity.'\n",
        "txt = txt_a+txt_b # operador de suma para vars de texto (concatenar|paste)\n",
        "print(txt)"
      ]
    },
    {
      "cell_type": "code",
      "execution_count": null,
      "metadata": {
        "id": "hzHt_IzqJaPQ"
      },
      "outputs": [],
      "source": [
        "txt_a = 'Poverty is the deprivation of opportunity.'\n",
        "txt_b = ' \\n'\n",
        "txt_c = 'Education makes us the human beings we are.'\n",
        "txt = txt_a+txt_b+txt_c # puedo concatenar varias vars de texto\n",
        "print(txt)"
      ]
    },
    {
      "cell_type": "code",
      "execution_count": null,
      "metadata": {
        "id": "L5Ltt9So77bz"
      },
      "outputs": [],
      "source": [
        "txt_a = 'peace_' # var de texto\n",
        "txt_times = 5 # var numerica\n",
        "txt = txt_a*txt_times # escriber tantas veces un mismo texto\n",
        "print(txt)"
      ]
    },
    {
      "cell_type": "markdown",
      "metadata": {
        "id": "FOJDvodhNShf"
      },
      "source": [
        "### entrada de texto"
      ]
    },
    {
      "cell_type": "code",
      "execution_count": null,
      "metadata": {
        "id": "EBtdD_zhJtia"
      },
      "outputs": [],
      "source": [
        "txt_input = input(\"Escriba algún texto: \") # escribe mnensaje en pantalla para esperar entrada del usuario\n",
        "print(txt_input)"
      ]
    },
    {
      "cell_type": "markdown",
      "metadata": {
        "id": "PaUShapyNVAt"
      },
      "source": [
        "### tratamiento de texto"
      ]
    },
    {
      "cell_type": "code",
      "execution_count": null,
      "metadata": {
        "id": "BpUVEJtWKexD"
      },
      "outputs": [],
      "source": [
        "txt_a = '             Poverty Is The             '\n",
        "txt = txt_a.lower() # metodo pasar a minusculas\n",
        "print(txt)"
      ]
    },
    {
      "cell_type": "code",
      "execution_count": null,
      "metadata": {
        "id": "9SmweogZKvIt"
      },
      "outputs": [],
      "source": [
        "txt_a = '             Poverty Is The             '\n",
        "txt = txt_a.upper() # metodo para pasar a mayusculas\n",
        "print(txt)"
      ]
    },
    {
      "cell_type": "code",
      "execution_count": null,
      "metadata": {
        "id": "TZJ4cHvNLsZ-"
      },
      "outputs": [],
      "source": [
        "txt_a = '             Poverty Is The             '\n",
        "txt = txt_a.lstrip() # metodo para quitar los vacios a la izquierda (left)\n",
        "print(txt)"
      ]
    },
    {
      "cell_type": "code",
      "execution_count": null,
      "metadata": {
        "id": "ORcEv08MLtDR"
      },
      "outputs": [],
      "source": [
        "txt_a = '             Poverty Is The             '\n",
        "txt = txt_a.rstrip()# metodo para quitar los vacios a la derecha (right)\n",
        "print(txt)"
      ]
    },
    {
      "cell_type": "code",
      "execution_count": null,
      "metadata": {
        "id": "_SaWdXLFLtjx"
      },
      "outputs": [],
      "source": [
        "txt_a = '             Poverty Is The             '\n",
        "txt = txt_a.strip() # metodo para quitar los vacios a ambos lados\n",
        "print(txt)"
      ]
    },
    {
      "cell_type": "code",
      "execution_count": null,
      "metadata": {
        "id": "UXeVxFstL60w"
      },
      "outputs": [],
      "source": [
        "txt_a = '             Poverty Is The             '\n",
        "txt = txt_a.startswith(\"Po\") # metodo para revisar si comienza con\n",
        "print(txt)"
      ]
    },
    {
      "cell_type": "code",
      "execution_count": null,
      "metadata": {
        "id": "96OAjKnlMKAg"
      },
      "outputs": [],
      "source": [
        "txt_a = '             Poverty Is The             '\n",
        "# podemos encadenar varios metodos... el resultado de aplicar uno le podemos aplicar el siguiente\n",
        "txt = txt_a.strip().startswith(\"Po\") # metodo para quitar vacios y luego si verificar si inicia con po\n",
        "print(txt)"
      ]
    },
    {
      "cell_type": "code",
      "execution_count": null,
      "metadata": {
        "id": "CwSBXm65K3ud"
      },
      "outputs": [],
      "source": [
        "txt_a = '             Poverty Is The             '\n",
        "# podemos encadenar varios metodos... el resultado de aplicar uno le podemos aplicar el siguiente\n",
        "txt = txt_a.strip().lower().startswith(\"po\") # metodo para quitar vacios y luego si verificar si inicia con po\n",
        "print(txt)"
      ]
    },
    {
      "cell_type": "code",
      "source": [
        "'Poverty is the deprivation of opportunity. Education makes us the human beings we are.'"
      ],
      "metadata": {
        "id": "cpy4z3_woNzH"
      },
      "execution_count": null,
      "outputs": []
    },
    {
      "cell_type": "code",
      "execution_count": null,
      "metadata": {
        "id": "0_7I-ysiMSbt"
      },
      "outputs": [],
      "source": [
        "# yo puedo utilizar la informacion en variables para completar texto indexado\n",
        "txt_a = 'Poverty is the deprivation of opportunity.'\n",
        "txt_b = 'Education makes us the human beings we are.'\n",
        "print(\"{} {}.\".format(txt_a, txt_b))"
      ]
    },
    {
      "cell_type": "code",
      "execution_count": null,
      "metadata": {
        "id": "mRdTQEcWM8Rr"
      },
      "outputs": [],
      "source": [
        "txt_a = 'Poverty is the deprivation of opportunity.'\n",
        "txt_b = 'Education makes us the human beings we are.'\n",
        "print(\"{0} {1}.\".format(txt_a, txt_b))"
      ]
    },
    {
      "cell_type": "code",
      "execution_count": null,
      "metadata": {
        "id": "ae1250Z6M-wR"
      },
      "outputs": [],
      "source": [
        "txt_a = 'Poverty is the deprivation of opportunity.'\n",
        "txt_b = 'Education makes us the human beings we are.'\n",
        "print(\"{1} {0}.\".format(txt_a, txt_b))"
      ]
    },
    {
      "cell_type": "code",
      "execution_count": null,
      "metadata": {
        "id": "Gu5eHjBCK3ud"
      },
      "outputs": [],
      "source": [
        "txt_a = 'a Andres'\n",
        "txt_b = 'no le gustan los viernes'\n",
        "txt_c = 'tampoco le gustan los lunes'\n",
        "print(\"{0} {1}, {0} {2}\".format(txt_a, txt_b, txt_c))"
      ]
    },
    {
      "cell_type": "code",
      "source": [
        "# crear variables a utilizar en el correo\n",
        "fecha = '2023/07/24'\n",
        "nombre = 'William'\n",
        "id = '9876543621'\n",
        "cuerpo = 'Hola, \\n me estoy mudando aquí cerca, necesito un servicio de mudanza.'\n",
        "\n",
        "# generar el correo\n",
        "\n",
        "correo = 'fecha de solicitud : {0} \\n {1} \\n solicitante :{2} \\n identificaión: {3} \\n fecha de mudanza: {0}'.format(fecha,cuerpo,nombre,id)\n",
        "# muestre en pantalla resultado\n",
        "print(correo)"
      ],
      "metadata": {
        "id": "3A6Mc0O4rmJs"
      },
      "execution_count": null,
      "outputs": []
    },
    {
      "cell_type": "code",
      "execution_count": null,
      "metadata": {
        "id": "FzFnbImWNDaa"
      },
      "outputs": [],
      "source": [
        "txt_a = '             Poverty Is The             '\n",
        "pattern = 'e'\n",
        "txt = txt_a.find(pattern) # metodo de busqueda de un patroin y devuelve posicion dentro de string\n",
        "print(txt)"
      ]
    },
    {
      "cell_type": "code",
      "execution_count": null,
      "metadata": {
        "id": "FGJAQRVnNSu3"
      },
      "outputs": [],
      "source": [
        "txt_a = '             Poverty Is The             '\n",
        "pattern = 'e'\n",
        "replace = 'X'\n",
        "txt = txt_a.replace(pattern,replace) # metodo de reemplazo\n",
        "print(txt)"
      ]
    },
    {
      "cell_type": "markdown",
      "metadata": {
        "id": "cvgpPFi7h7vg"
      },
      "source": [
        "* Longitud"
      ]
    },
    {
      "cell_type": "code",
      "execution_count": null,
      "metadata": {
        "id": "Hhlcc56R7Swr"
      },
      "outputs": [],
      "source": [
        "txt = 'Hola mundo'\n",
        "len(txt) # es la longitud de una variable de texto"
      ]
    },
    {
      "cell_type": "markdown",
      "metadata": {
        "id": "KTW-t3_17QiB"
      },
      "source": [
        "## Rangos"
      ]
    },
    {
      "cell_type": "markdown",
      "metadata": {
        "id": "Mm_IJKGSJjsb"
      },
      "source": [
        "Es una función que devuelve una secuencia de numeros.\n",
        "* Todas las secuencias en Python comienzan a numerarse desde 0 (n-1)-ésimo elemento de un tupla"
      ]
    },
    {
      "cell_type": "code",
      "execution_count": null,
      "metadata": {
        "id": "Sz-GgNn9K3uf",
        "colab": {
          "base_uri": "https://localhost:8080/"
        },
        "outputId": "dcbedba0-8a2d-4c0c-ccaf-96dc2c36e0d4"
      },
      "outputs": [
        {
          "output_type": "stream",
          "name": "stdout",
          "text": [
            "<class 'range'>\n",
            "range(0, 10)\n",
            "0\n",
            "1\n",
            "2\n",
            "3\n",
            "4\n",
            "5\n",
            "6\n",
            "7\n",
            "8\n",
            "9\n"
          ]
        }
      ],
      "source": [
        "# el caso en el que le doy solo una entrada al rango\n",
        "rang = range(10) # asignar a una variable un rango\n",
        "print(type(rang)) # muestreme en pantalla el tipo de objeto o informacion en la variable\n",
        "print(rang) # muestre la informacion dentro del objeto\n",
        "for num in rang: # FOR estructura de control o bucles o ciclos\n",
        "  print(num) # va a mostrar en pantalla los elementos del rango"
      ]
    },
    {
      "cell_type": "code",
      "execution_count": null,
      "metadata": {
        "id": "Dejnealo7jj6",
        "colab": {
          "base_uri": "https://localhost:8080/"
        },
        "outputId": "86f95bae-15af-4657-b515-7c68879f349e"
      },
      "outputs": [
        {
          "output_type": "stream",
          "name": "stdout",
          "text": [
            "<class 'range'>\n",
            "range(1, 10)\n",
            "1\n",
            "2\n",
            "3\n",
            "4\n",
            "5\n",
            "6\n",
            "7\n",
            "8\n",
            "9\n"
          ]
        }
      ],
      "source": [
        "# el caso en el que le doy dos entrada al rango\n",
        "rang = range(1, 10) # asignar a una variable un rango\n",
        "print(type(rang)) # muestreme en pantalla el tipo de objeto o informacion en la variable\n",
        "print(rang) # muestre la informacion dentro del objeto\n",
        "for num in rang: # FOR estructura de control o bucles o ciclos\n",
        "  print(num) # va a mostrar en pantalla los elementos del rango"
      ]
    },
    {
      "cell_type": "code",
      "execution_count": null,
      "metadata": {
        "id": "WN9x3nDW74wB",
        "colab": {
          "base_uri": "https://localhost:8080/"
        },
        "outputId": "2d90aec7-c726-4a76-c0b3-5826b47700ba"
      },
      "outputs": [
        {
          "output_type": "stream",
          "name": "stdout",
          "text": [
            "<class 'range'>\n",
            "range(5, 16, 2)\n",
            "5\n",
            "7\n",
            "9\n",
            "11\n",
            "13\n",
            "15\n"
          ]
        }
      ],
      "source": [
        "# el caso en el que le doy tres entrada al rango\n",
        "rang = range(5, 16, 2) # saltos al rango 5,7,9,11,13,15 ... no incluye 16\n",
        "print(type(rang))\n",
        "print(rang)\n",
        "for num in rang:\n",
        "  print(num)"
      ]
    },
    {
      "cell_type": "markdown",
      "metadata": {
        "id": "pBCamJX7QmNU"
      },
      "source": [
        "## listas"
      ]
    },
    {
      "cell_type": "markdown",
      "metadata": {
        "id": "GbT6Wb8HPfIt"
      },
      "source": [
        "* Son secuencias mutables\n",
        "* Para buscar en las listas, se utiliza un algoritmo de comparación que tarda cada vez más a medida que la lista se hace más larga.\n",
        "\n"
      ]
    },
    {
      "cell_type": "code",
      "execution_count": null,
      "metadata": {
        "id": "5_H-4P88NUW7",
        "colab": {
          "base_uri": "https://localhost:8080/"
        },
        "outputId": "c488d924-26e7-4e1d-f08b-dfc898a6b732"
      },
      "outputs": [
        {
          "output_type": "stream",
          "name": "stdout",
          "text": [
            "[]\n"
          ]
        }
      ],
      "source": [
        "list = [] # asignar una lista vacia a la variable\n",
        "print(list)"
      ]
    },
    {
      "cell_type": "code",
      "execution_count": null,
      "metadata": {
        "id": "C91U45WIQxSA",
        "colab": {
          "base_uri": "https://localhost:8080/"
        },
        "outputId": "ab8cd264-e181-4b95-f665-68e3572a4263"
      },
      "outputs": [
        {
          "output_type": "stream",
          "name": "stdout",
          "text": [
            "['2022', '08', '20']\n"
          ]
        }
      ],
      "source": [
        "list = ['2022', '08', '20'] # asignar una lista de tres elementos/variables de texto\n",
        "print(list)"
      ]
    },
    {
      "cell_type": "code",
      "execution_count": null,
      "metadata": {
        "id": "h4IzATWIK3ug",
        "colab": {
          "base_uri": "https://localhost:8080/"
        },
        "outputId": "99c548ea-d27e-4176-a029-7c5f539c348b"
      },
      "outputs": [
        {
          "output_type": "stream",
          "name": "stdout",
          "text": [
            "[2022, 8, 20]\n"
          ]
        }
      ],
      "source": [
        "list = [2022,8,20] # asignar una lista de tres elementos/variables de numericos\n",
        "print(list)"
      ]
    },
    {
      "cell_type": "code",
      "execution_count": null,
      "metadata": {
        "id": "lMe5Vxe7K3ug",
        "colab": {
          "base_uri": "https://localhost:8080/"
        },
        "outputId": "a1637d03-4969-464d-d318-032ead47f617"
      },
      "outputs": [
        {
          "output_type": "stream",
          "name": "stdout",
          "text": [
            "[2022, 8, 20, 'sabado']\n"
          ]
        }
      ],
      "source": [
        "list = [2022, 8, 20, 'sabado'] # asignar una lista de tres elementos/variables numericos o de texto\n",
        "print(list)"
      ]
    },
    {
      "cell_type": "code",
      "execution_count": null,
      "metadata": {
        "id": "Qf6m3EGfRBfh",
        "colab": {
          "base_uri": "https://localhost:8080/"
        },
        "outputId": "10ccb6fe-a558-4b5d-9fe6-2776363bf176"
      },
      "outputs": [
        {
          "output_type": "execute_result",
          "data": {
            "text/plain": [
              "['2022', '08', '20', 'sabado']"
            ]
          },
          "metadata": {},
          "execution_count": 8
        }
      ],
      "source": [
        "list_a = ['2022', '08', '20']#crear la lista\n",
        "var_b = 'sabado'# variable de texto\n",
        "list_a.append(var_b)# metodo append para agregar a la lista un nuevo elemento\n",
        "list_a"
      ]
    },
    {
      "cell_type": "code",
      "execution_count": null,
      "metadata": {
        "id": "iK0ALjA4Q3oZ",
        "colab": {
          "base_uri": "https://localhost:8080/"
        },
        "outputId": "f0d37ce0-851c-4988-a4ea-49556f1031c6"
      },
      "outputs": [
        {
          "output_type": "stream",
          "name": "stdout",
          "text": [
            "[2022, 8, 20, 'sabado']\n"
          ]
        }
      ],
      "source": [
        "list = [2022, 8, 20] #crear la lista\n",
        "var_a = 'sabado' # variable de texto\n",
        "list.append(var_a) # metodo append para agregar a la lista un nuevo elemento\n",
        "print(list)"
      ]
    },
    {
      "cell_type": "code",
      "execution_count": null,
      "metadata": {
        "id": "PpHrD3K1TJrd",
        "colab": {
          "base_uri": "https://localhost:8080/",
          "height": 36
        },
        "outputId": "49cad150-169e-4f72-9fc4-eb8132df145f"
      },
      "outputs": [
        {
          "output_type": "execute_result",
          "data": {
            "text/plain": [
              "'20'"
            ],
            "application/vnd.google.colaboratory.intrinsic+json": {
              "type": "string"
            }
          },
          "metadata": {},
          "execution_count": 10
        }
      ],
      "source": [
        "list = ['2022', '08', '20']\n",
        "list[2] # posicion de elementos en una lista"
      ]
    },
    {
      "cell_type": "code",
      "execution_count": null,
      "metadata": {
        "id": "HqBL92EaTutU",
        "colab": {
          "base_uri": "https://localhost:8080/"
        },
        "outputId": "40421ae7-cfec-4249-d0c7-70639d6d5451"
      },
      "outputs": [
        {
          "output_type": "execute_result",
          "data": {
            "text/plain": [
              "['2022', '08']"
            ]
          },
          "metadata": {},
          "execution_count": 14
        }
      ],
      "source": [
        "list = ['2022', '08', '20']\n",
        "list[0:2] # seleccionar segun un rango de posiciones"
      ]
    },
    {
      "cell_type": "code",
      "execution_count": null,
      "metadata": {
        "id": "AfLkvOpPTxpc",
        "colab": {
          "base_uri": "https://localhost:8080/"
        },
        "outputId": "ea3b4a0f-0448-4895-e96c-6d9acd666ea4"
      },
      "outputs": [
        {
          "output_type": "execute_result",
          "data": {
            "text/plain": [
              "['08', '20']"
            ]
          },
          "metadata": {},
          "execution_count": 15
        }
      ],
      "source": [
        "list = ['2022', '08', '20']\n",
        "list[1:] # seleccionar los elementos desde una posicion hasta la ultima (inluyendola)"
      ]
    },
    {
      "cell_type": "code",
      "execution_count": null,
      "metadata": {
        "id": "pUU3UuNgT1io",
        "colab": {
          "base_uri": "https://localhost:8080/"
        },
        "outputId": "9948dc4f-2fc1-4b93-d86e-e8c5750a6df8"
      },
      "outputs": [
        {
          "output_type": "execute_result",
          "data": {
            "text/plain": [
              "True"
            ]
          },
          "metadata": {},
          "execution_count": 16
        }
      ],
      "source": [
        "list = ['2022', '08', '20']\n",
        "'20' in list # verificar condición de si existe un elemento en la lista"
      ]
    },
    {
      "cell_type": "code",
      "execution_count": null,
      "metadata": {
        "id": "PqgqDoo5K3uh",
        "colab": {
          "base_uri": "https://localhost:8080/"
        },
        "outputId": "084ae5eb-77a5-4fcf-9537-87c3e44da3a0"
      },
      "outputs": [
        {
          "output_type": "execute_result",
          "data": {
            "text/plain": [
              "False"
            ]
          },
          "metadata": {},
          "execution_count": 17
        }
      ],
      "source": [
        "list = ['2022', '08', '20']\n",
        "20 in list # verificar condición de si existe un elemento en la lista"
      ]
    },
    {
      "cell_type": "code",
      "execution_count": null,
      "metadata": {
        "id": "Qu-SX8U_T8c2",
        "colab": {
          "base_uri": "https://localhost:8080/"
        },
        "outputId": "4f8bd84a-6b9e-4b36-ff48-e08609e4e462"
      },
      "outputs": [
        {
          "output_type": "stream",
          "name": "stdout",
          "text": [
            "3\n",
            "['2022', '08', '20']\n"
          ]
        }
      ],
      "source": [
        "print(len(list)) # dimensiones de las listas\n",
        "print(list)"
      ]
    },
    {
      "cell_type": "code",
      "execution_count": null,
      "metadata": {
        "id": "bl1pM1UYQFjy",
        "colab": {
          "base_uri": "https://localhost:8080/"
        },
        "outputId": "3547553d-5902-48bb-d8eb-f20875f046a4"
      },
      "outputs": [
        {
          "output_type": "stream",
          "name": "stdout",
          "text": [
            "['Hoy', '2022', '08', '20']\n"
          ]
        }
      ],
      "source": [
        "list = ['2022', '08', '20'] # creo una lista\n",
        "list.insert(0,'Hoy') # metodo insert para agregar un elemento indicando una posicion\n",
        "print(list)"
      ]
    },
    {
      "cell_type": "code",
      "execution_count": null,
      "metadata": {
        "id": "Isj2mNTfQImR",
        "colab": {
          "base_uri": "https://localhost:8080/"
        },
        "outputId": "51b27a81-92c7-4256-a45a-8546c41806ea"
      },
      "outputs": [
        {
          "output_type": "stream",
          "name": "stdout",
          "text": [
            "['08', '20']\n"
          ]
        }
      ],
      "source": [
        "list = ['2022', '08', '20'] # creo una lista\n",
        "list.remove('2022') # elimino elemento de la lista\n",
        "print(list)"
      ]
    },
    {
      "cell_type": "code",
      "execution_count": null,
      "metadata": {
        "id": "ZzbAqtW_K3ui",
        "colab": {
          "base_uri": "https://localhost:8080/"
        },
        "outputId": "906abe5f-4dad-479e-c4ab-6543176b4dae"
      },
      "outputs": [
        {
          "output_type": "execute_result",
          "data": {
            "text/plain": [
              "2"
            ]
          },
          "metadata": {},
          "execution_count": 22
        }
      ],
      "source": [
        "list = ['2022', '08', '20']\n",
        "list.index('20') # cual es el indice/posicion del elemento buscado en la lista"
      ]
    },
    {
      "cell_type": "code",
      "execution_count": null,
      "metadata": {
        "id": "bJT5h1cdQjRp",
        "colab": {
          "base_uri": "https://localhost:8080/"
        },
        "outputId": "9efe933d-3e69-431d-c313-c888cf079462"
      },
      "outputs": [
        {
          "output_type": "stream",
          "name": "stdout",
          "text": [
            "2\n"
          ]
        }
      ],
      "source": [
        "list = ['2022', '08', '20']\n",
        "print(list.index('20')) # metodo index para averiguar el indice en el que se posiciona un elemento"
      ]
    },
    {
      "cell_type": "code",
      "source": [
        "list = ['hoy','ayer','mañana','lunes','martes','hoy','hoy','miercoles','jueves','viernes','lunes']\n",
        "list.count('sabado') # contar la frecuencia de un elemento en la lista"
      ],
      "metadata": {
        "colab": {
          "base_uri": "https://localhost:8080/"
        },
        "id": "FlCq06JPi-p6",
        "outputId": "cdf557ac-bb45-4a8a-b942-cf8856d35691"
      },
      "execution_count": null,
      "outputs": [
        {
          "output_type": "execute_result",
          "data": {
            "text/plain": [
              "0"
            ]
          },
          "metadata": {},
          "execution_count": 30
        }
      ]
    },
    {
      "cell_type": "markdown",
      "metadata": {
        "id": "ewsXo0_cIWiF"
      },
      "source": [
        "## Tuplas"
      ]
    },
    {
      "cell_type": "markdown",
      "metadata": {
        "id": "q1VkN8-UJN9g"
      },
      "source": [
        "Las tuplas son secuencias, igual que las cadenas, y se puede utilizar la misma notación de índices que en las cadenas para obtener cada una de sus componentes.\n",
        "* Es posible anidar tuplas\n",
        "* Las tuplas son inmutables\n"
      ]
    },
    {
      "cell_type": "code",
      "execution_count": null,
      "metadata": {
        "id": "NATvL-SCIYe5",
        "colab": {
          "base_uri": "https://localhost:8080/"
        },
        "outputId": "258a2782-bad4-4f57-f681-46a45471d201"
      },
      "outputs": [
        {
          "output_type": "stream",
          "name": "stdout",
          "text": [
            "<class 'tuple'>\n",
            "(20, 'Agosto', 2022)\n"
          ]
        }
      ],
      "source": [
        "tup = (20, \"Agosto\", 2022)\n",
        "print(type(tup))\n",
        "print(tup)"
      ]
    },
    {
      "cell_type": "code",
      "execution_count": null,
      "metadata": {
        "id": "Hc7WJeVdK92g",
        "colab": {
          "base_uri": "https://localhost:8080/"
        },
        "outputId": "c5926822-86fa-49a3-8d22-d520688df59d"
      },
      "outputs": [
        {
          "output_type": "stream",
          "name": "stdout",
          "text": [
            "('hoy', (20, 'Agosto', 2022))\n"
          ]
        }
      ],
      "source": [
        "tup_a = (20, \"Agosto\", 2022)\n",
        "tup_b = ('hoy', tup_a) # anidar tuplas\n",
        "print(tup_b)"
      ]
    },
    {
      "cell_type": "code",
      "execution_count": null,
      "metadata": {
        "id": "C3W6dt2gK3uj",
        "colab": {
          "base_uri": "https://localhost:8080/"
        },
        "outputId": "e5a8e4d1-a3f6-404d-d072-8f176f88bff8"
      },
      "outputs": [
        {
          "output_type": "stream",
          "name": "stdout",
          "text": [
            "('lunes', 'martes', 'miercoles')\n",
            "('lunes', 'martes', 'miercoles', 'jueves', 'viernes')\n",
            "(('lunes', 'martes', 'miercoles'), 'jueves', 'viernes')\n",
            "('lunes', 'martes', 'miercoles', 'jueves', 'viernes')\n"
          ]
        }
      ],
      "source": [
        "# empaquetando\n",
        "tupla_a = ('lunes','martes','miercoles')\n",
        "print(tupla_a)\n",
        "# empaquetando\n",
        "tupla_b = ('lunes','martes','miercoles','jueves','viernes')\n",
        "print(tupla_b)\n",
        "# empaquetando (2da forma)\n",
        "tupla_c = tupla_a, 'jueves','viernes'\n",
        "print(tupla_c)\n",
        "\n",
        "# conocer la cantidad de elementos que posee una tupla\n",
        "len(tupla_a)\n",
        "# desempaquetar\n",
        "ele_1_tup_a,ele_2_tup_a,ele_3_tup_a = tupla_a\n",
        "\n",
        "# crear una tupla usando los elementos anteriormente desempaquetados y agregando unos nuevos\n",
        "tupla_d = ele_1_tup_a,ele_2_tup_a,ele_3_tup_a, 'jueves','viernes'\n",
        "print(tupla_d)"
      ]
    },
    {
      "cell_type": "markdown",
      "metadata": {
        "id": "WkuK0k0JMIAt"
      },
      "source": [
        "**Empaquetado y desempaquetado**"
      ]
    },
    {
      "cell_type": "code",
      "execution_count": null,
      "metadata": {
        "id": "PjMV84CCL7rA",
        "colab": {
          "base_uri": "https://localhost:8080/"
        },
        "outputId": "1b91773e-5584-4d61-e784-58410ad4e0b4"
      },
      "outputs": [
        {
          "output_type": "stream",
          "name": "stdout",
          "text": [
            "<class 'tuple'>\n",
            "(20, 'Agosto', 2022)\n"
          ]
        }
      ],
      "source": [
        "tup = 20, \"Agosto\", 2022 # crear una tupla empaquetando elementos\n",
        "print(type(tup))\n",
        "print(tup)"
      ]
    },
    {
      "cell_type": "code",
      "execution_count": null,
      "metadata": {
        "id": "8KKRLkqEMNEc",
        "colab": {
          "base_uri": "https://localhost:8080/"
        },
        "outputId": "a67d1513-7b89-4c0d-89b9-57383fe19ff9"
      },
      "outputs": [
        {
          "output_type": "stream",
          "name": "stdout",
          "text": [
            "<class 'int'>\n",
            "20\n",
            "<class 'str'>\n",
            "Agosto\n",
            "<class 'int'>\n",
            "2022\n"
          ]
        }
      ],
      "source": [
        "tup = 20, \"Agosto\", 2022 # crear una tupla empaquetando\n",
        "a, b, c = tup # desempacar una tupla\n",
        "print(type(a))\n",
        "print(a)\n",
        "print(type(b))\n",
        "print(b)\n",
        "print(type(c))\n",
        "print(c)"
      ]
    },
    {
      "cell_type": "markdown",
      "metadata": {
        "id": "PKVwthpaIY-u"
      },
      "source": [
        "## Diccionarios"
      ]
    },
    {
      "cell_type": "markdown",
      "metadata": {
        "id": "1zvU2P8cNngy"
      },
      "source": [
        "Un diccionario es una colección no-ordenada de valores que son accedidos a traves de una clave\n",
        "* El algoritmo que usa Python internamente para buscar un elemento en un diccionario es muy distinto que el que utiliza para buscar en listas. Para buscar en diccionarios se utiliza un algoritmo llamado hash, que se basa en realizar un cálculo numérico sobre la clave del elemento, y tiene una propiedad muy interesante: sin importar cuántos elementos tenga el diccionario, el tiempo de búsqueda es siempre aproximadamente igual."
      ]
    },
    {
      "cell_type": "code",
      "execution_count": null,
      "metadata": {
        "id": "nqwWIHXkIagn",
        "colab": {
          "base_uri": "https://localhost:8080/"
        },
        "outputId": "92d777db-4856-4d9b-d584-3f99967a743b"
      },
      "outputs": [
        {
          "output_type": "stream",
          "name": "stdout",
          "text": [
            "<class 'dict'>\n",
            "{}\n"
          ]
        }
      ],
      "source": [
        "dicti = {}\n",
        "print(type(dicti))\n",
        "print(dicti)"
      ]
    },
    {
      "cell_type": "code",
      "execution_count": null,
      "metadata": {
        "id": "Amd96mMzOB7o",
        "colab": {
          "base_uri": "https://localhost:8080/"
        },
        "outputId": "994468d0-2c2d-4777-ffe7-cd1c27fe688a"
      },
      "outputs": [
        {
          "output_type": "stream",
          "name": "stdout",
          "text": [
            "<class 'dict'>\n",
            "{'Jairo': [29, 'ingenieria'], 'Carlos': [29, 'Matematicas', 'estadistica', 'fisica'], 'Juliana': [25, 'derecho', 'penal']}\n"
          ]
        }
      ],
      "source": [
        "dicti = {} # creo un diccionario vacio\n",
        "\n",
        "dicti[\"Jairo\"] = [29, 'ingenieria'] # asignar informacion a llaves del diccionario\n",
        "dicti[\"Carlos\"] = [29, 'Matematicas','estadistica','fisica'] # asignar informacion a llaves del diccionario\n",
        "dicti[\"Juliana\"] = [25, 'derecho','penal'] # asignar informacion a llaves del diccionario\n",
        "\n",
        "print(type(dicti)) # que tipo de dato quedó siendo\n",
        "print(dicti) # muestre la informacion que tiene el diccionario por dentro"
      ]
    },
    {
      "cell_type": "code",
      "execution_count": null,
      "metadata": {
        "id": "Rh8z2arzOoVb",
        "colab": {
          "base_uri": "https://localhost:8080/"
        },
        "outputId": "fb1a53b6-4a65-4ae8-87af-3d61998d6125"
      },
      "outputs": [
        {
          "output_type": "stream",
          "name": "stdout",
          "text": [
            "{'Jairo': [29, 'ingenieria']}\n",
            "<class 'list'>\n",
            "[29, 'ingenieria']\n",
            "<class 'list'>\n",
            "[29, 'ingenieria']\n"
          ]
        }
      ],
      "source": [
        "dicti = {} # creo diccionario vacio\n",
        "dicti[\"Jairo\"] = [29, 'ingenieria'] #creo una llave con una informacion\n",
        "print(dicti)\n",
        "\n",
        "\n",
        "print(type(dicti[\"Jairo\"] )) # muestre enn pantalla el tipo de dato de la llave jairo\n",
        "print(dicti[\"Jairo\"]) # muestre la informacion que tiene adentro de la llave jairo\n",
        "\n",
        "print(type(dicti.get(\"Jairo\") ))  # metodo get para traer la informacion que tiene en una llave\n",
        "print(dicti.get(\"Jairo\")) #"
      ]
    },
    {
      "cell_type": "markdown",
      "metadata": {
        "id": "waEjd4d6PN4J"
      },
      "source": [
        "**recorrido**"
      ]
    },
    {
      "cell_type": "code",
      "execution_count": null,
      "metadata": {
        "id": "tZkxwyGPPEKT",
        "colab": {
          "base_uri": "https://localhost:8080/"
        },
        "outputId": "f93a37b6-5a58-40a6-d974-fe9f9840f80c"
      },
      "outputs": [
        {
          "output_type": "stream",
          "name": "stdout",
          "text": [
            "Jairo : [29, 'ingenieria']\n",
            "Carlos : [29, 'Matematicas', 'estadistica', 'fisica']\n",
            "Juliana : [25, 'derecho', 'penal']\n"
          ]
        }
      ],
      "source": [
        "dicti = {} # creo un diccionario\n",
        "dicti[\"Jairo\"] = [29, 'ingenieria'] # lleno de informacion el diccionario segun llaves\n",
        "dicti[\"Carlos\"] = [29, 'Matematicas','estadistica','fisica'] # lleno de informacion el diccionario segun llaves\n",
        "dicti[\"Juliana\"] = [25, 'derecho','penal'] # lleno de informacion el diccionario segun llaves\n",
        "\n",
        "\n",
        "for nombre, info in dicti.items(): # for (estructura de control) usando items\n",
        "   print(nombre, \":\", info) # muestre en pantalla la concatenacion de el nbombre : informacion"
      ]
    },
    {
      "cell_type": "code",
      "source": [
        "dicti = {} # creo un diccionario\n",
        "dicti[\"Jairo\"] = [29, 'ingenieria'] # lleno de informacion el diccionario segun llaves\n",
        "dicti[\"Carlos\"] = [29, 'Matematicas','estadistica','fisica'] # lleno de informacion el diccionario segun llaves\n",
        "dicti[\"Juliana\"] = [25, 'derecho','penal'] # lleno de informacion el diccionario segun llaves\n",
        "\n",
        "\n",
        "for nombre, info in dicti.items(): # for (estructura de control) usando items\n",
        "   print('llave :',nombre, \", información :\", info) # muestre en pantalla la concatenacion de el nbombre : informacion"
      ],
      "metadata": {
        "colab": {
          "base_uri": "https://localhost:8080/"
        },
        "id": "SjbqYTi5xOWE",
        "outputId": "648d964d-73d1-4e4a-cd7b-15a9d6545d81"
      },
      "execution_count": null,
      "outputs": [
        {
          "output_type": "stream",
          "name": "stdout",
          "text": [
            "llave : Jairo , información : [29, 'ingenieria']\n",
            "llave : Carlos , información : [29, 'Matematicas', 'estadistica', 'fisica']\n",
            "llave : Juliana , información : [25, 'derecho', 'penal']\n"
          ]
        }
      ]
    },
    {
      "cell_type": "code",
      "execution_count": null,
      "metadata": {
        "id": "URdJ-ZikDbBu",
        "colab": {
          "base_uri": "https://localhost:8080/",
          "height": 217
        },
        "outputId": "c45e9a88-a609-430f-d75b-1271486cedbb"
      },
      "outputs": [
        {
          "output_type": "error",
          "ename": "ValueError",
          "evalue": "ignored",
          "traceback": [
            "\u001b[0;31m---------------------------------------------------------------------------\u001b[0m",
            "\u001b[0;31mValueError\u001b[0m                                Traceback (most recent call last)",
            "\u001b[0;32m<ipython-input-55-c452b4b4b1be>\u001b[0m in \u001b[0;36m<cell line: 6>\u001b[0;34m()\u001b[0m\n\u001b[1;32m      4\u001b[0m \u001b[0mdicti\u001b[0m\u001b[0;34m[\u001b[0m\u001b[0;34m\"Juliana\"\u001b[0m\u001b[0;34m]\u001b[0m \u001b[0;34m=\u001b[0m \u001b[0;34m[\u001b[0m\u001b[0;36m25\u001b[0m\u001b[0;34m,\u001b[0m \u001b[0;34m'derecho'\u001b[0m\u001b[0;34m,\u001b[0m\u001b[0;34m'penal'\u001b[0m\u001b[0;34m]\u001b[0m\u001b[0;34m\u001b[0m\u001b[0;34m\u001b[0m\u001b[0m\n\u001b[1;32m      5\u001b[0m \u001b[0;34m\u001b[0m\u001b[0m\n\u001b[0;32m----> 6\u001b[0;31m \u001b[0;32mfor\u001b[0m \u001b[0mnombre\u001b[0m\u001b[0;34m,\u001b[0m \u001b[0minfo\u001b[0m\u001b[0;34m,\u001b[0m \u001b[0mpor\u001b[0m \u001b[0;32min\u001b[0m \u001b[0mdicti\u001b[0m\u001b[0;34m.\u001b[0m\u001b[0mitems\u001b[0m\u001b[0;34m(\u001b[0m\u001b[0;34m)\u001b[0m\u001b[0;34m:\u001b[0m\u001b[0;34m\u001b[0m\u001b[0;34m\u001b[0m\u001b[0m\n\u001b[0m\u001b[1;32m      7\u001b[0m    \u001b[0mprint\u001b[0m\u001b[0;34m(\u001b[0m\u001b[0mnombre\u001b[0m\u001b[0;34m,\u001b[0m \u001b[0;34m\":\"\u001b[0m\u001b[0;34m,\u001b[0m \u001b[0minfo\u001b[0m\u001b[0;34m,\u001b[0m \u001b[0mpor\u001b[0m\u001b[0;34m)\u001b[0m\u001b[0;34m\u001b[0m\u001b[0;34m\u001b[0m\u001b[0m\n",
            "\u001b[0;31mValueError\u001b[0m: not enough values to unpack (expected 3, got 2)"
          ]
        }
      ],
      "source": [
        "# errores por cantidad a desempacar\n",
        "dicti = {}\n",
        "dicti[\"Jairo\"] = [29, 'ingenieria']\n",
        "dicti[\"Carlos\"] = [29, 'Matematicas','estadistica','fisica']\n",
        "dicti[\"Juliana\"] = [25, 'derecho','penal']\n",
        "\n",
        "for nombre, info, por in dicti.items():\n",
        "   print(nombre, \":\", info, por)"
      ]
    },
    {
      "cell_type": "code",
      "source": [
        "dicti = {} # creo un diccionario\n",
        "dicti[\"Jairo\"] = [29, 'ingenieria'] # lleno de informacion el diccionario segun llaves\n",
        "dicti[\"Carlos\"] = [29, 'Matematicas','estadistica','fisica'] # lleno de informacion el diccionario segun llaves\n",
        "dicti[\"Juliana\"] = [25, 'derecho','penal'] # lleno de informacion el diccionario segun llaves\n",
        "dicti[\"Andres\"] = 'Munoz' # lleno de informacion el diccionario segun llaves\n",
        "\n",
        "for nombre, info in dicti.items(): # for (estructura de control) usando items\n",
        "   print('llave :',nombre, \", información :\", info[0]) # muestre en pantalla la concatenacion de el nbombre : informacion"
      ],
      "metadata": {
        "colab": {
          "base_uri": "https://localhost:8080/"
        },
        "id": "0t1FATLdxs5j",
        "outputId": "39ba0916-2b90-4b81-e928-008fd0556300"
      },
      "execution_count": null,
      "outputs": [
        {
          "output_type": "stream",
          "name": "stdout",
          "text": [
            "llave : Jairo , información : 29\n",
            "llave : Carlos , información : 29\n",
            "llave : Juliana , información : 25\n",
            "llave : Andres , información : M\n"
          ]
        }
      ]
    },
    {
      "cell_type": "markdown",
      "metadata": {
        "id": "dxyWQi8EUSyl"
      },
      "source": [
        "## Condicionales"
      ]
    },
    {
      "cell_type": "markdown",
      "metadata": {
        "id": "zIfaPXsIK3ul"
      },
      "source": [
        "Comparar\n",
        "\n",
        "* menor <\n",
        "* mayor >\n",
        "* igual =="
      ]
    },
    {
      "cell_type": "code",
      "execution_count": null,
      "metadata": {
        "id": "j5zgBmg7UChI",
        "colab": {
          "base_uri": "https://localhost:8080/"
        },
        "outputId": "e2e023e2-addb-43d5-c262-02423209b2b9"
      },
      "outputs": [
        {
          "output_type": "stream",
          "name": "stdout",
          "text": [
            "mayor\n"
          ]
        }
      ],
      "source": [
        "var = 29876540 # uso = para asignar\n",
        "\n",
        "if var < 20220820: # usando un IF ELIF ELSE\n",
        "  print(\"menor\")\n",
        "elif var == 20220820: # uso == para comparar\n",
        "  print(\"exacto\")\n",
        "else: # my_variable > 20220820\n",
        "  print(\"mayor\")"
      ]
    },
    {
      "cell_type": "code",
      "execution_count": null,
      "metadata": {
        "id": "Tw4EWTlgK3ul",
        "colab": {
          "base_uri": "https://localhost:8080/"
        },
        "outputId": "f83590cf-8525-4c35-a053-444ee9282368"
      },
      "outputs": [
        {
          "output_type": "stream",
          "name": "stdout",
          "text": [
            "La hora de llegada de el estudiante  fue a las 8\n",
            "La hora de inicio de la clase es a las 6  y la hora de finalización de la ckase es a las  9\n",
            "El estudiante Llegó tarde a clase\n"
          ]
        }
      ],
      "source": [
        "# ejemplo\n",
        "# hora de llegada a clase a las 6\n",
        "# hora de finalizacion de la clase a las 9\n",
        "jaime_horallegada = 8\n",
        "print('La hora de llegada de el estudiante  fue a las',jaime_horallegada)\n",
        "\n",
        "# parametros del programa\n",
        "hora_inicio_clase = 6\n",
        "hora_final_clase = 9\n",
        "print('La hora de inicio de la clase es a las',hora_inicio_clase,' y la hora de finalización de la ckase es a las ', hora_final_clase)\n",
        "\n",
        "# programa\n",
        "if (jaime_horallegada<=hora_inicio_clase):\n",
        "    print('El estudiante Llegó a tiempo a clase')\n",
        "elif (jaime_horallegada<=hora_final_clase):\n",
        "    print('El estudiante Llegó tarde a clase')\n",
        "else:\n",
        "    print('El estudiante No llegó a clase')"
      ]
    },
    {
      "cell_type": "markdown",
      "metadata": {
        "id": "vC7X16TJVv_G"
      },
      "source": [
        "## Loops"
      ]
    },
    {
      "cell_type": "code",
      "execution_count": null,
      "metadata": {
        "id": "v1JoIc8uVf1B",
        "colab": {
          "base_uri": "https://localhost:8080/"
        },
        "outputId": "ad1c407c-4292-4c12-cd0e-2e3063b8ac65"
      },
      "outputs": [
        {
          "output_type": "stream",
          "name": "stdout",
          "text": [
            "2022\n",
            "08\n",
            "20\n"
          ]
        }
      ],
      "source": [
        "list = ['2022', '08', '20'] # creo una lista sobre la que quiero recorrer\n",
        "i = 0 # variable de control o de escape que inicia en cero # se desa que converja en algun momento\n",
        "while i < len(list): # mientras se cumpla una condicion\n",
        "  print(list[i]) # muestre en pantalla el elemento i de la lista\n",
        "  i += 1 # es lo mismo que escribir i = i + 1 # una instruccion para obligar a converger"
      ]
    },
    {
      "cell_type": "code",
      "execution_count": null,
      "metadata": {
        "id": "kHWQ6soIVzY9",
        "colab": {
          "base_uri": "https://localhost:8080/"
        },
        "outputId": "0002c702-d27f-4073-dadc-5a65f87ad92d"
      },
      "outputs": [
        {
          "output_type": "stream",
          "name": "stdout",
          "text": [
            "2022\n",
            "08\n",
            "20\n"
          ]
        }
      ],
      "source": [
        "list = ['2022', '08', '20']\n",
        "for i in range(len(list)): # for\n",
        "  print(list[i]) # usando la posicion del elemento la lista"
      ]
    },
    {
      "cell_type": "code",
      "execution_count": null,
      "metadata": {
        "id": "6ZOo98IPV65T",
        "colab": {
          "base_uri": "https://localhost:8080/"
        },
        "outputId": "88da96c9-84f3-4b39-99eb-445d1eec0103"
      },
      "outputs": [
        {
          "output_type": "stream",
          "name": "stdout",
          "text": [
            "2022\n",
            "08\n",
            "20\n"
          ]
        }
      ],
      "source": [
        "list = ['2022', '08', '20']\n",
        "for element in list: # for usando la información del elemento la lista\n",
        "  print(element)"
      ]
    },
    {
      "cell_type": "code",
      "execution_count": null,
      "metadata": {
        "id": "H3e1zoUGKSuo",
        "colab": {
          "base_uri": "https://localhost:8080/"
        },
        "outputId": "2bbe41b9-748a-477e-b034-7ebdf802a665"
      },
      "outputs": [
        {
          "output_type": "stream",
          "name": "stdout",
          "text": [
            "2022\n",
            "08\n"
          ]
        }
      ],
      "source": [
        "list = ['2022', '08', '20']\n",
        "for i in range(len(list)):\n",
        "  print(list[i])\n",
        "  if i == 1: # condicion de break\n",
        "    break"
      ]
    },
    {
      "cell_type": "code",
      "execution_count": null,
      "metadata": {
        "id": "8OkEGQsGK3um",
        "colab": {
          "base_uri": "https://localhost:8080/"
        },
        "outputId": "c2642d3b-e611-4ce2-f1d6-d8e9efdd604f"
      },
      "outputs": [
        {
          "output_type": "stream",
          "name": "stdout",
          "text": [
            "15\n",
            "repartir sorpresa a : Hugo\n",
            "repartir sorpresa a : Ivan\n",
            "repartir sorpresa a : Juan\n",
            "repartir sorpresa a : Lara\n",
            "repartir sorpresa a : Ana\n",
            "repartir sorpresa a : Enzo\n"
          ]
        }
      ],
      "source": [
        "# fiesta con unos invitados\n",
        "list = ['Hugo','Ivan','Juan','Lara','Ana','Enzo','Leo','Luz','Mar','Nora','Angela','Eric','Eva','Raul','Sara']\n",
        "print(len(list))\n",
        "# solo tengo 6 sorpresas de regalos (i == 5)\n",
        "cantidad_regalos_disp = 5\n",
        "\n",
        "# programa\n",
        "for i in range(len(list)):\n",
        "  print('repartir sorpresa a :',list[i])\n",
        "  if i == cantidad_regalos_disp: # condicion de break\n",
        "    break"
      ]
    },
    {
      "cell_type": "markdown",
      "metadata": {
        "id": "Zqdxm86VWRFP"
      },
      "source": [
        "## Funciones"
      ]
    },
    {
      "cell_type": "markdown",
      "metadata": {
        "id": "ISgUansdRn2b"
      },
      "source": [
        "Definición de nuevas instrucciones que reciben parametros llamados argumentos.\n",
        "\n",
        "* La documentación de una función se coloca luego del encabezado de la función, en un párrafo encerrado entre tres comillas dobles \"\"\"\n"
      ]
    },
    {
      "cell_type": "code",
      "execution_count": null,
      "metadata": {
        "id": "F9QvDJY2K3un"
      },
      "outputs": [],
      "source": [
        "def llegada_tarde(hora):\n",
        "    \"\"\"\n",
        "    se crea funcion para identificar si el alumno llega tarde a clase a partir de una hora de llegada\n",
        "    variable hora debe ser numerica y corresponde a la hora de llegada del alumno\n",
        "    \"\"\"\n",
        "    hora1 = 'prueba'\n",
        "    if hora <= 6:\n",
        "        revision = 'El almuno llegó a tiempo'\n",
        "    elif hora <= 9:\n",
        "        revision = 'El almuno llegó a clase tarde'\n",
        "    else:\n",
        "        revision = 'El alumno no llegó a clase'\n",
        "    return revision"
      ]
    },
    {
      "cell_type": "code",
      "execution_count": null,
      "metadata": {
        "id": "VxJsHdsGK3un",
        "colab": {
          "base_uri": "https://localhost:8080/"
        },
        "outputId": "ffbb2342-50b3-49e1-aeae-4844462bd628"
      },
      "outputs": [
        {
          "output_type": "stream",
          "name": "stdout",
          "text": [
            "El almuno llegó a tiempo\n",
            "El almuno llegó a clase tarde\n",
            "El alumno no llegó a clase\n"
          ]
        }
      ],
      "source": [
        "# evaluar si el alumno llego a la clase de 6 a 9\n",
        "print(llegada_tarde(6))\n",
        "print(llegada_tarde(8))\n",
        "print(llegada_tarde(10))\n"
      ]
    },
    {
      "cell_type": "code",
      "execution_count": null,
      "metadata": {
        "id": "g46dMNI_K3un"
      },
      "outputs": [],
      "source": [
        "def llegada_tarde_recargada(hora_alumno,hora_entrada, hora_salida):\n",
        "    \"\"\"\n",
        "    se crea funcion para identificar si el alumno llega tarde a clase\n",
        "    variable hora debe ser numerica y corresponde a la hora de llegada del alumno\n",
        "    variable hora entrada a clase debe ser numerica\n",
        "    variable hora salida a clase debe ser numerica\n",
        "    \"\"\"\n",
        "    if hora_alumno <= hora_entrada:\n",
        "        revision = 'El almuno llegó a tiempo'\n",
        "    elif hora_alumno <= hora_salida:\n",
        "        revision = 'El almuno llegó a clase tarde'\n",
        "    else:\n",
        "        revision = 'El alumno no llegó a clase'\n",
        "    return revision"
      ]
    },
    {
      "cell_type": "code",
      "execution_count": null,
      "metadata": {
        "id": "eAZS9U1PK3un",
        "colab": {
          "base_uri": "https://localhost:8080/"
        },
        "outputId": "1a1733f5-5261-4fe9-85ee-87122f9f6c09"
      },
      "outputs": [
        {
          "output_type": "stream",
          "name": "stdout",
          "text": [
            "El alumno no llegó a clase\n",
            "El almuno llegó a clase tarde\n",
            "El almuno llegó a tiempo\n",
            "El almuno llegó a tiempo\n"
          ]
        }
      ],
      "source": [
        "# evaluar si el alumno llego a la clase en las horas debidas\n",
        "print(llegada_tarde_recargada(10,6,9))\n",
        "print(llegada_tarde_recargada(10,8,12))\n",
        "print(llegada_tarde_recargada(10,12,15))\n",
        "print(llegada_tarde_recargada(10,20,22))"
      ]
    },
    {
      "cell_type": "code",
      "source": [
        "def llegada_tarde_recargada(hora_alumno,hora_entrada = 6, hora_salida =9):\n",
        "    \"\"\"\n",
        "    se crea funcion para identificar si el alumno llega tarde a clase\n",
        "    variable hora debe ser numerica y corresponde a la hora de llegada del alumno\n",
        "    variable hora entrada a clase debe ser numerica\n",
        "    variable hora salida a clase debe ser numerica\n",
        "    \"\"\"\n",
        "    if hora_alumno <= hora_entrada:\n",
        "        revision = 'El almuno llegó a tiempo'\n",
        "    elif hora_alumno <= hora_salida:\n",
        "        revision = 'El almuno llegó a clase tarde'\n",
        "    else:\n",
        "        revision = 'El alumno no llegó a clase'\n",
        "    return revision"
      ],
      "metadata": {
        "id": "hVxauAW0pnvY"
      },
      "execution_count": null,
      "outputs": []
    },
    {
      "cell_type": "code",
      "source": [
        "# evaluar si el alumno llego a la clase en las horas debidas\n",
        "print(llegada_tarde_recargada(10,6,9))\n",
        "print(llegada_tarde_recargada(10))"
      ],
      "metadata": {
        "colab": {
          "base_uri": "https://localhost:8080/"
        },
        "id": "Gw2rEOM7pykf",
        "outputId": "574af792-2eeb-4c8b-8f5c-78b6b12c87a5"
      },
      "execution_count": null,
      "outputs": [
        {
          "output_type": "stream",
          "name": "stdout",
          "text": [
            "El alumno no llegó a clase\n",
            "El alumno no llegó a clase\n"
          ]
        }
      ]
    },
    {
      "cell_type": "code",
      "execution_count": null,
      "metadata": {
        "id": "JL2l5TBXWGAI"
      },
      "outputs": [],
      "source": [
        "def func_exp(x):\n",
        "  \"\"\" Aquí debe documentar la función. \"\"\"\n",
        "  y = x ** 2\n",
        "  return y"
      ]
    },
    {
      "cell_type": "code",
      "execution_count": null,
      "metadata": {
        "id": "XuJF4egh6RKe",
        "colab": {
          "base_uri": "https://localhost:8080/"
        },
        "outputId": "23b78f8c-1015-42c4-840a-51b8927bd19f"
      },
      "outputs": [
        {
          "output_type": "execute_result",
          "data": {
            "text/plain": [
              "25"
            ]
          },
          "metadata": {},
          "execution_count": 11
        }
      ],
      "source": [
        "func_exp(5)"
      ]
    },
    {
      "cell_type": "code",
      "execution_count": null,
      "metadata": {
        "id": "WBikvqhF4cNP"
      },
      "outputs": [],
      "source": [
        "def func_exp(x, exp):\n",
        "  \"\"\" Aquí debe documentar la función. \"\"\"\n",
        "  y = x ** exp\n",
        "  return y"
      ]
    },
    {
      "cell_type": "code",
      "execution_count": null,
      "metadata": {
        "id": "EATiXTwy6Zjz",
        "colab": {
          "base_uri": "https://localhost:8080/"
        },
        "outputId": "4dc757df-8e33-433c-f4ca-323b48b0efc4"
      },
      "outputs": [
        {
          "output_type": "execute_result",
          "data": {
            "text/plain": [
              "64"
            ]
          },
          "metadata": {},
          "execution_count": 13
        }
      ],
      "source": [
        "func_exp(4,3) # 4 a la 3 = 4*4*4 = 64"
      ]
    },
    {
      "cell_type": "code",
      "execution_count": null,
      "metadata": {
        "id": "t0Ta1BSg4bsy"
      },
      "outputs": [],
      "source": [
        "# funciones anidades o funciones dentro de funciones\n",
        "def func_exp_texto(x, exp):\n",
        "  \"\"\" Aquí debe documentar la función. \"\"\"\n",
        "  y = func_exp(x, exp) # calculeme el resultado\n",
        "  txt = \"{0} elevado a la {1} es igual a {2}.\".format(x, exp, y) # use las parametros de entrada y el resultado en una cadena de texto\n",
        "  return txt"
      ]
    },
    {
      "cell_type": "code",
      "execution_count": null,
      "metadata": {
        "id": "kEXecjloTRtV",
        "colab": {
          "base_uri": "https://localhost:8080/",
          "height": 36
        },
        "outputId": "8e2b1f9d-bae9-471e-aac8-83153b26a7d8"
      },
      "outputs": [
        {
          "output_type": "execute_result",
          "data": {
            "text/plain": [
              "'4 elevado a la 3 es igual a 64.'"
            ],
            "application/vnd.google.colaboratory.intrinsic+json": {
              "type": "string"
            }
          },
          "metadata": {},
          "execution_count": 15
        }
      ],
      "source": [
        "func_exp_texto(4,3)"
      ]
    },
    {
      "cell_type": "code",
      "execution_count": null,
      "metadata": {
        "id": "knvx9TAkOTaf"
      },
      "outputs": [],
      "source": [
        "# tuplas\n",
        "def func_exp_2_3(x):\n",
        "  \"\"\" Aquí debe documentar la función. \"\"\"\n",
        "  y_1 = x ** 2\n",
        "  y_2 = x ** 3\n",
        "  return y_1, y_2"
      ]
    },
    {
      "cell_type": "code",
      "execution_count": null,
      "metadata": {
        "id": "t-NUvrclTToo",
        "colab": {
          "base_uri": "https://localhost:8080/"
        },
        "outputId": "206788a8-ded5-4c33-8ca4-0708df3297bc"
      },
      "outputs": [
        {
          "output_type": "stream",
          "name": "stdout",
          "text": [
            "<class 'int'>\n",
            "16\n",
            "<class 'int'>\n",
            "64\n"
          ]
        }
      ],
      "source": [
        "a, b = func_exp_2_3(4)\n",
        "print(type(a))\n",
        "print(a)\n",
        "print(type(b))\n",
        "print(b)"
      ]
    },
    {
      "cell_type": "code",
      "source": [
        "# como indicar entrada y salida de datos\n",
        "def llegada_tarde_recargada_2(\n",
        "    hora_alumno:int,\n",
        "    hora_entrada:int,\n",
        "    hora_salida:int\n",
        "    ):\n",
        "    \"\"\"\n",
        "    se crea funcion para identificar si el alumno llega tarde a clase\n",
        "    variable hora debe ser numerica y corresponde a la hora de llegada del alumno\n",
        "    variable hora entrada a clase debe ser numerica\n",
        "    variable hora salida a clase debe ser numerica\n",
        "    \"\"\"\n",
        "    try:\n",
        "        if hora_alumno <= hora_entrada:\n",
        "          revision = 'El almuno llegó a tiempo'\n",
        "        elif hora_alumno <= hora_salida:\n",
        "            revision = 'El almuno llegó a clase tarde'\n",
        "        else:\n",
        "            revision = 'El alumno no llegó a clase'\n",
        "    except:\n",
        "        revision = 'no ingresó las entradas en el formato correcto'\n",
        "    return revision\n"
      ],
      "metadata": {
        "id": "pLml65L_rAxH"
      },
      "execution_count": null,
      "outputs": []
    },
    {
      "cell_type": "code",
      "source": [
        "# evaluar si el alumno llego a la clase en las horas debidas\n",
        "print(llegada_tarde_recargada_2(10,6,'9'))\n",
        "# print(llegada_tarde_recargada_2('10'))"
      ],
      "metadata": {
        "colab": {
          "base_uri": "https://localhost:8080/"
        },
        "id": "BE3JvebQr6FO",
        "outputId": "6c936baa-b26c-40de-ad80-a232857eac25"
      },
      "execution_count": null,
      "outputs": [
        {
          "output_type": "stream",
          "name": "stdout",
          "text": [
            "no ingreso las entradas en el formato correcto\n"
          ]
        }
      ]
    },
    {
      "cell_type": "markdown",
      "metadata": {
        "id": "XECcj15L_r0H"
      },
      "source": [
        "## Lambda"
      ]
    },
    {
      "cell_type": "markdown",
      "metadata": {
        "id": "nmJM_YvpX7z9"
      },
      "source": [
        " Son funciones anónimas que solo pueden contener una expresión"
      ]
    },
    {
      "cell_type": "code",
      "execution_count": null,
      "metadata": {
        "id": "rPg2o7K8dW91",
        "colab": {
          "base_uri": "https://localhost:8080/"
        },
        "outputId": "10511357-bcd4-45fe-f30f-59ec2d7e6515"
      },
      "outputs": [
        {
          "output_type": "stream",
          "name": "stdout",
          "text": [
            "<class 'str'>\n",
            "Hola, mundo\n"
          ]
        }
      ],
      "source": [
        "func_lambda_txt = lambda arg1,arg2: arg1+', '+arg2\n",
        "txt_1 = 'Hola'\n",
        "txt_2 = 'mundo'\n",
        "txt = func_lambda_txt(txt_1,txt_2)\n",
        "print(type(txt))\n",
        "print(txt)"
      ]
    },
    {
      "cell_type": "markdown",
      "metadata": {
        "id": "-zs05rxrYEPU"
      },
      "source": [
        "## función Map"
      ]
    },
    {
      "cell_type": "markdown",
      "metadata": {
        "id": "tpWPoX4cav_R"
      },
      "source": [
        "Para el procesamiento de objetos iterables como listas e iteradores se ha implementado algunas funciones de orden superior de uso común y estas devuelven un iterador que ahorra espacio."
      ]
    },
    {
      "cell_type": "code",
      "execution_count": null,
      "metadata": {
        "id": "VcIx8Vf5YDph",
        "colab": {
          "base_uri": "https://localhost:8080/"
        },
        "outputId": "17d78f1b-a0da-49b1-f805-ec483b6f8630"
      },
      "outputs": [
        {
          "output_type": "stream",
          "name": "stdout",
          "text": [
            "1, 4, 9, 16, 25, 36, "
          ]
        }
      ],
      "source": [
        "# defino una funcion que deseo aplicar a cada uno de los elementos de la lista\n",
        "def func_exp(x):\n",
        "  \"\"\" Aquí debe documentar la función. \"\"\"\n",
        "  y = x ** 2\n",
        "  return y\n",
        "\n",
        "# creo la lista\n",
        "list_a = [1, 2, 3, 4, 5, 6]\n",
        "\n",
        "# recorrer con el map la lista\n",
        "map_a = map(func_exp, list_a)\n",
        "\n",
        "# recorra loss elemento resultado de hacer map\n",
        "for map_i in map_a:\n",
        "    print(map_i, end = \", \")"
      ]
    },
    {
      "cell_type": "code",
      "execution_count": null,
      "metadata": {
        "id": "OGQxhdEAgcu6",
        "colab": {
          "base_uri": "https://localhost:8080/"
        },
        "outputId": "8cbb849b-ce13-4b0b-c9e8-07c1aa554511"
      },
      "outputs": [
        {
          "output_type": "stream",
          "name": "stdout",
          "text": [
            "1, 4, 9, 16, 25, 36, "
          ]
        }
      ],
      "source": [
        "# usando funciones anonimas lambda\n",
        "# crear una lista\n",
        "list_a = [1, 2, 3, 4, 5, 6]\n",
        "\n",
        "# va a recorrer la lista aplicando la funcion anonima lambda\n",
        "map_a = map(lambda x: x ** 2, list_a)\n",
        "\n",
        "# recorra loss elemento resultado de hacer map\n",
        "for map_i in map_a:\n",
        "    print(map_i, end = \", \")"
      ]
    },
    {
      "cell_type": "markdown",
      "metadata": {
        "id": "bAOwhfGMUIn6"
      },
      "source": [
        "## Errores y excepciones"
      ]
    },
    {
      "cell_type": "markdown",
      "metadata": {
        "id": "6mJtaWhoVN_I"
      },
      "source": [
        "Los errores de ejecución son llamados comúnmente excepciones. \\\n",
        "Durante la ejecución de un programa, si dentro de una función surge una excepción y la función no la maneja, la excepción se propaga hacia la función que la invocó, si esta otra tampoco la maneja, la excepción continua propagándose hasta llegar a la función inicial del programa y si esta tampoco la maneja se interrumpe la ejecución del programa"
      ]
    },
    {
      "cell_type": "code",
      "source": [
        "# parametros de entrada\n",
        "dividendo = 5\n",
        "divisor = 0"
      ],
      "metadata": {
        "id": "VOE1YjGexGFq"
      },
      "execution_count": null,
      "outputs": []
    },
    {
      "cell_type": "code",
      "execution_count": null,
      "metadata": {
        "id": "Yw8oxx4oKw5P",
        "colab": {
          "base_uri": "https://localhost:8080/",
          "height": 165
        },
        "outputId": "27e41ec7-e713-4da6-a5ef-d7d7a23b9f73"
      },
      "outputs": [
        {
          "output_type": "error",
          "ename": "ZeroDivisionError",
          "evalue": "ignored",
          "traceback": [
            "\u001b[0;31m---------------------------------------------------------------------------\u001b[0m",
            "\u001b[0;31mZeroDivisionError\u001b[0m                         Traceback (most recent call last)",
            "\u001b[0;32m<ipython-input-30-76e6424e0f09>\u001b[0m in \u001b[0;36m<cell line: 1>\u001b[0;34m()\u001b[0m\n\u001b[0;32m----> 1\u001b[0;31m \u001b[0mdividendo\u001b[0m \u001b[0;34m/\u001b[0m \u001b[0mdivisor\u001b[0m\u001b[0;34m\u001b[0m\u001b[0;34m\u001b[0m\u001b[0m\n\u001b[0m",
            "\u001b[0;31mZeroDivisionError\u001b[0m: division by zero"
          ]
        }
      ],
      "source": [
        "# debe fallar debido a la division por cero\n",
        "dividendo / divisor"
      ]
    },
    {
      "cell_type": "code",
      "execution_count": null,
      "metadata": {
        "id": "aVlbPG3OUICP",
        "colab": {
          "base_uri": "https://localhost:8080/"
        },
        "outputId": "c935c9fd-3371-4cd8-9d2a-de78fe603336"
      },
      "outputs": [
        {
          "output_type": "stream",
          "name": "stdout",
          "text": [
            "No se permite la división por cero\n"
          ]
        }
      ],
      "source": [
        "\n",
        "try: # intente realizar...\n",
        "  cociente = dividendo / divisor\n",
        "  print(cociente)\n",
        "except: # en caso de no poder realizarlo, haga lo siguiente\n",
        "  print(\"No se permite la división por cero\")"
      ]
    },
    {
      "cell_type": "code",
      "execution_count": null,
      "metadata": {
        "id": "PJVlrGUIK3uq",
        "colab": {
          "base_uri": "https://localhost:8080/",
          "height": 182
        },
        "outputId": "af8efa51-258e-49a1-9a01-0625878b63c4"
      },
      "outputs": [
        {
          "output_type": "error",
          "ename": "IndexError",
          "evalue": "ignored",
          "traceback": [
            "\u001b[0;31m---------------------------------------------------------------------------\u001b[0m",
            "\u001b[0;31mIndexError\u001b[0m                                Traceback (most recent call last)",
            "\u001b[0;32m<ipython-input-32-ac1d2b363384>\u001b[0m in \u001b[0;36m<cell line: 2>\u001b[0;34m()\u001b[0m\n\u001b[1;32m      1\u001b[0m \u001b[0mtxt\u001b[0m \u001b[0;34m=\u001b[0m \u001b[0;34m'siete'\u001b[0m \u001b[0;31m# asigno un texto a una variable\u001b[0m\u001b[0;34m\u001b[0m\u001b[0;34m\u001b[0m\u001b[0m\n\u001b[0;32m----> 2\u001b[0;31m \u001b[0mprint\u001b[0m\u001b[0;34m(\u001b[0m\u001b[0mtxt\u001b[0m\u001b[0;34m[\u001b[0m\u001b[0;36m7\u001b[0m\u001b[0;34m]\u001b[0m\u001b[0;34m)\u001b[0m\u001b[0;34m\u001b[0m\u001b[0;34m\u001b[0m\u001b[0m\n\u001b[0m",
            "\u001b[0;31mIndexError\u001b[0m: string index out of range"
          ]
        }
      ],
      "source": [
        "txt = 'siete' # asigno un texto a una variable\n",
        "print(txt[7])"
      ]
    },
    {
      "cell_type": "code",
      "execution_count": null,
      "metadata": {
        "id": "3W55wnfLVZ1z",
        "colab": {
          "base_uri": "https://localhost:8080/"
        },
        "outputId": "76a2b53a-7a42-4101-a713-bf9270dc0cf2"
      },
      "outputs": [
        {
          "output_type": "stream",
          "name": "stdout",
          "text": [
            "No existe el elemento buscado\n"
          ]
        }
      ],
      "source": [
        "txt = 'siete' # asigno un texto a una variable\n",
        "\n",
        "try: # intente realizar...\n",
        "  print(txt[7])\n",
        "except: # en caso de no poder realizarlo, haga lo siguiente\n",
        "  print(\"No existe el elemento buscado\")"
      ]
    },
    {
      "cell_type": "markdown",
      "metadata": {
        "id": "6Gh9sfak8kXq"
      },
      "source": [
        "## Bibliografía\n"
      ]
    },
    {
      "cell_type": "markdown",
      "metadata": {
        "id": "mOjNZPz7k4Ft"
      },
      "source": [
        "\n",
        "* (2022,Montenegro y Montenegro) Aprendizaje profundo. Diplomado de IA y AP.\n",
        "* BeginnersGuide. link :https://wiki.python.org/moin/BeginnersGuide/Programmers\n",
        "* Uniwebsidad. link :https://uniwebsidad.com/libros/algoritmos-python"
      ]
    }
  ],
  "metadata": {
    "colab": {
      "provenance": []
    },
    "kernelspec": {
      "display_name": "Python 3",
      "name": "python3"
    },
    "language_info": {
      "codemirror_mode": {
        "name": "ipython",
        "version": 3
      },
      "file_extension": ".py",
      "mimetype": "text/x-python",
      "name": "python",
      "nbconvert_exporter": "python",
      "pygments_lexer": "ipython3",
      "version": "3.9.13"
    }
  },
  "nbformat": 4,
  "nbformat_minor": 0
}