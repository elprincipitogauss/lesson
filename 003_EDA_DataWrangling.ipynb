{
  "cells": [
    {
      "attachments": {},
      "cell_type": "markdown",
      "metadata": {
        "id": "uf4EI65f2pfw"
      },
      "source": [
        "# Data wrangling\n",
        "\n",
        "*   Manipulacion de dataframes\n",
        "*   Tablas agregadas\n",
        "*   Exploracion de datos y visualizaciones"
      ]
    },
    {
      "attachments": {},
      "cell_type": "markdown",
      "metadata": {
        "id": "71dzNQJhcdeY"
      },
      "source": [
        "# Preparacion"
      ]
    },
    {
      "cell_type": "code",
      "execution_count": 1,
      "metadata": {
        "id": "4lJnUnKb2nFM"
      },
      "outputs": [],
      "source": [
        "# importando modulos que se van a utilizar\n",
        "import os\n",
        "import pandas as pd\n",
        "import numpy as np\n",
        "import matplotlib.pyplot as plt # visualizacion\n",
        "import seaborn as sns # seaborn"
      ]
    },
    {
      "cell_type": "code",
      "execution_count": 3,
      "metadata": {
        "id": "JHHw5VIm5TuV"
      },
      "outputs": [],
      "source": [
        "# identificar el directorio y la ruta del archivo a consultar\n",
        "mainpath = \"https://raw.githubusercontent.com/elprincipitogauss/lesson/main/\"\n",
        "filename = \"Salary_Dataset_with_Extra_Features.csv\"\n",
        "fullpath = os.path.join(mainpath, filename)\n",
        "# leer el archivo utilizando la ruta\n",
        "df_000 = pd.read_csv(fullpath)\n",
        "# realizar una copia del archivo leido copmo backup\n",
        "df = df_000.copy()"
      ]
    },
    {
      "attachments": {},
      "cell_type": "markdown",
      "metadata": {
        "id": "O4r3942u7PNE"
      },
      "source": [
        "# Visualizar dataframe"
      ]
    },
    {
      "cell_type": "code",
      "execution_count": 4,
      "metadata": {
        "colab": {
          "base_uri": "https://localhost:8080/",
          "height": 554
        },
        "id": "K7okuWuD5TrV",
        "outputId": "1fef62fa-ad79-4989-9a98-18170b34b0fa"
      },
      "outputs": [
        {
          "data": {
            "text/html": [
              "<div>\n",
              "<style scoped>\n",
              "    .dataframe tbody tr th:only-of-type {\n",
              "        vertical-align: middle;\n",
              "    }\n",
              "\n",
              "    .dataframe tbody tr th {\n",
              "        vertical-align: top;\n",
              "    }\n",
              "\n",
              "    .dataframe thead th {\n",
              "        text-align: right;\n",
              "    }\n",
              "</style>\n",
              "<table border=\"1\" class=\"dataframe\">\n",
              "  <thead>\n",
              "    <tr style=\"text-align: right;\">\n",
              "      <th></th>\n",
              "      <th>Rating</th>\n",
              "      <th>Company Name</th>\n",
              "      <th>Job Title</th>\n",
              "      <th>Salary</th>\n",
              "      <th>Salaries Reported</th>\n",
              "      <th>Location</th>\n",
              "      <th>Employment Status</th>\n",
              "      <th>Job Roles</th>\n",
              "    </tr>\n",
              "  </thead>\n",
              "  <tbody>\n",
              "    <tr>\n",
              "      <th>0</th>\n",
              "      <td>3.8</td>\n",
              "      <td>Sasken</td>\n",
              "      <td>Android Developer</td>\n",
              "      <td>400000</td>\n",
              "      <td>3</td>\n",
              "      <td>Bangalore</td>\n",
              "      <td>Full Time</td>\n",
              "      <td>Android</td>\n",
              "    </tr>\n",
              "    <tr>\n",
              "      <th>1</th>\n",
              "      <td>4.5</td>\n",
              "      <td>Advanced Millennium Technologies</td>\n",
              "      <td>Android Developer</td>\n",
              "      <td>400000</td>\n",
              "      <td>3</td>\n",
              "      <td>Bangalore</td>\n",
              "      <td>Full Time</td>\n",
              "      <td>Android</td>\n",
              "    </tr>\n",
              "    <tr>\n",
              "      <th>2</th>\n",
              "      <td>4.0</td>\n",
              "      <td>Unacademy</td>\n",
              "      <td>Android Developer</td>\n",
              "      <td>1000000</td>\n",
              "      <td>3</td>\n",
              "      <td>Bangalore</td>\n",
              "      <td>Full Time</td>\n",
              "      <td>Android</td>\n",
              "    </tr>\n",
              "    <tr>\n",
              "      <th>3</th>\n",
              "      <td>3.8</td>\n",
              "      <td>SnapBizz Cloudtech</td>\n",
              "      <td>Android Developer</td>\n",
              "      <td>300000</td>\n",
              "      <td>3</td>\n",
              "      <td>Bangalore</td>\n",
              "      <td>Full Time</td>\n",
              "      <td>Android</td>\n",
              "    </tr>\n",
              "    <tr>\n",
              "      <th>4</th>\n",
              "      <td>4.4</td>\n",
              "      <td>Appoids Tech Solutions</td>\n",
              "      <td>Android Developer</td>\n",
              "      <td>600000</td>\n",
              "      <td>3</td>\n",
              "      <td>Bangalore</td>\n",
              "      <td>Full Time</td>\n",
              "      <td>Android</td>\n",
              "    </tr>\n",
              "    <tr>\n",
              "      <th>...</th>\n",
              "      <td>...</td>\n",
              "      <td>...</td>\n",
              "      <td>...</td>\n",
              "      <td>...</td>\n",
              "      <td>...</td>\n",
              "      <td>...</td>\n",
              "      <td>...</td>\n",
              "      <td>...</td>\n",
              "    </tr>\n",
              "    <tr>\n",
              "      <th>22765</th>\n",
              "      <td>4.7</td>\n",
              "      <td>Expert Solutions</td>\n",
              "      <td>Web Developer</td>\n",
              "      <td>200000</td>\n",
              "      <td>1</td>\n",
              "      <td>Bangalore</td>\n",
              "      <td>Full Time</td>\n",
              "      <td>Web</td>\n",
              "    </tr>\n",
              "    <tr>\n",
              "      <th>22766</th>\n",
              "      <td>4.0</td>\n",
              "      <td>Nextgen Innovation Labs</td>\n",
              "      <td>Web Developer</td>\n",
              "      <td>300000</td>\n",
              "      <td>1</td>\n",
              "      <td>Bangalore</td>\n",
              "      <td>Full Time</td>\n",
              "      <td>Web</td>\n",
              "    </tr>\n",
              "    <tr>\n",
              "      <th>22767</th>\n",
              "      <td>4.1</td>\n",
              "      <td>Fresher</td>\n",
              "      <td>Full Stack Web Developer</td>\n",
              "      <td>192000</td>\n",
              "      <td>13</td>\n",
              "      <td>Bangalore</td>\n",
              "      <td>Full Time</td>\n",
              "      <td>Web</td>\n",
              "    </tr>\n",
              "    <tr>\n",
              "      <th>22768</th>\n",
              "      <td>4.1</td>\n",
              "      <td>Accenture</td>\n",
              "      <td>Full Stack Web Developer</td>\n",
              "      <td>300000</td>\n",
              "      <td>7</td>\n",
              "      <td>Bangalore</td>\n",
              "      <td>Full Time</td>\n",
              "      <td>Web</td>\n",
              "    </tr>\n",
              "    <tr>\n",
              "      <th>22769</th>\n",
              "      <td>3.8</td>\n",
              "      <td>Thomson Reuters</td>\n",
              "      <td>Associate Web Developer</td>\n",
              "      <td>300000</td>\n",
              "      <td>7</td>\n",
              "      <td>Bangalore</td>\n",
              "      <td>Full Time</td>\n",
              "      <td>Web</td>\n",
              "    </tr>\n",
              "  </tbody>\n",
              "</table>\n",
              "<p>22770 rows × 8 columns</p>\n",
              "</div>"
            ],
            "text/plain": [
              "       Rating                      Company Name                 Job Title   \n",
              "0         3.8                            Sasken         Android Developer  \\\n",
              "1         4.5  Advanced Millennium Technologies         Android Developer   \n",
              "2         4.0                         Unacademy         Android Developer   \n",
              "3         3.8                SnapBizz Cloudtech         Android Developer   \n",
              "4         4.4            Appoids Tech Solutions         Android Developer   \n",
              "...       ...                               ...                       ...   \n",
              "22765     4.7                  Expert Solutions             Web Developer   \n",
              "22766     4.0           Nextgen Innovation Labs             Web Developer   \n",
              "22767     4.1                           Fresher  Full Stack Web Developer   \n",
              "22768     4.1                         Accenture  Full Stack Web Developer   \n",
              "22769     3.8                   Thomson Reuters   Associate Web Developer   \n",
              "\n",
              "        Salary  Salaries Reported   Location Employment Status Job Roles  \n",
              "0       400000                  3  Bangalore         Full Time   Android  \n",
              "1       400000                  3  Bangalore         Full Time   Android  \n",
              "2      1000000                  3  Bangalore         Full Time   Android  \n",
              "3       300000                  3  Bangalore         Full Time   Android  \n",
              "4       600000                  3  Bangalore         Full Time   Android  \n",
              "...        ...                ...        ...               ...       ...  \n",
              "22765   200000                  1  Bangalore         Full Time       Web  \n",
              "22766   300000                  1  Bangalore         Full Time       Web  \n",
              "22767   192000                 13  Bangalore         Full Time       Web  \n",
              "22768   300000                  7  Bangalore         Full Time       Web  \n",
              "22769   300000                  7  Bangalore         Full Time       Web  \n",
              "\n",
              "[22770 rows x 8 columns]"
            ]
          },
          "metadata": {},
          "output_type": "display_data"
        }
      ],
      "source": [
        "display(df)"
      ]
    },
    {
      "cell_type": "code",
      "execution_count": 5,
      "metadata": {
        "colab": {
          "base_uri": "https://localhost:8080/",
          "height": 206
        },
        "id": "9e_yTeUl7TD7",
        "outputId": "5c6916df-12e9-4508-b257-979772eda7f8"
      },
      "outputs": [
        {
          "data": {
            "text/html": [
              "<div>\n",
              "<style scoped>\n",
              "    .dataframe tbody tr th:only-of-type {\n",
              "        vertical-align: middle;\n",
              "    }\n",
              "\n",
              "    .dataframe tbody tr th {\n",
              "        vertical-align: top;\n",
              "    }\n",
              "\n",
              "    .dataframe thead th {\n",
              "        text-align: right;\n",
              "    }\n",
              "</style>\n",
              "<table border=\"1\" class=\"dataframe\">\n",
              "  <thead>\n",
              "    <tr style=\"text-align: right;\">\n",
              "      <th></th>\n",
              "      <th>Rating</th>\n",
              "      <th>Company Name</th>\n",
              "      <th>Job Title</th>\n",
              "      <th>Salary</th>\n",
              "      <th>Salaries Reported</th>\n",
              "      <th>Location</th>\n",
              "      <th>Employment Status</th>\n",
              "      <th>Job Roles</th>\n",
              "    </tr>\n",
              "  </thead>\n",
              "  <tbody>\n",
              "    <tr>\n",
              "      <th>0</th>\n",
              "      <td>3.8</td>\n",
              "      <td>Sasken</td>\n",
              "      <td>Android Developer</td>\n",
              "      <td>400000</td>\n",
              "      <td>3</td>\n",
              "      <td>Bangalore</td>\n",
              "      <td>Full Time</td>\n",
              "      <td>Android</td>\n",
              "    </tr>\n",
              "    <tr>\n",
              "      <th>1</th>\n",
              "      <td>4.5</td>\n",
              "      <td>Advanced Millennium Technologies</td>\n",
              "      <td>Android Developer</td>\n",
              "      <td>400000</td>\n",
              "      <td>3</td>\n",
              "      <td>Bangalore</td>\n",
              "      <td>Full Time</td>\n",
              "      <td>Android</td>\n",
              "    </tr>\n",
              "    <tr>\n",
              "      <th>2</th>\n",
              "      <td>4.0</td>\n",
              "      <td>Unacademy</td>\n",
              "      <td>Android Developer</td>\n",
              "      <td>1000000</td>\n",
              "      <td>3</td>\n",
              "      <td>Bangalore</td>\n",
              "      <td>Full Time</td>\n",
              "      <td>Android</td>\n",
              "    </tr>\n",
              "    <tr>\n",
              "      <th>3</th>\n",
              "      <td>3.8</td>\n",
              "      <td>SnapBizz Cloudtech</td>\n",
              "      <td>Android Developer</td>\n",
              "      <td>300000</td>\n",
              "      <td>3</td>\n",
              "      <td>Bangalore</td>\n",
              "      <td>Full Time</td>\n",
              "      <td>Android</td>\n",
              "    </tr>\n",
              "    <tr>\n",
              "      <th>4</th>\n",
              "      <td>4.4</td>\n",
              "      <td>Appoids Tech Solutions</td>\n",
              "      <td>Android Developer</td>\n",
              "      <td>600000</td>\n",
              "      <td>3</td>\n",
              "      <td>Bangalore</td>\n",
              "      <td>Full Time</td>\n",
              "      <td>Android</td>\n",
              "    </tr>\n",
              "  </tbody>\n",
              "</table>\n",
              "</div>"
            ],
            "text/plain": [
              "   Rating                      Company Name          Job Title   Salary   \n",
              "0     3.8                            Sasken  Android Developer   400000  \\\n",
              "1     4.5  Advanced Millennium Technologies  Android Developer   400000   \n",
              "2     4.0                         Unacademy  Android Developer  1000000   \n",
              "3     3.8                SnapBizz Cloudtech  Android Developer   300000   \n",
              "4     4.4            Appoids Tech Solutions  Android Developer   600000   \n",
              "\n",
              "   Salaries Reported   Location Employment Status Job Roles  \n",
              "0                  3  Bangalore         Full Time   Android  \n",
              "1                  3  Bangalore         Full Time   Android  \n",
              "2                  3  Bangalore         Full Time   Android  \n",
              "3                  3  Bangalore         Full Time   Android  \n",
              "4                  3  Bangalore         Full Time   Android  "
            ]
          },
          "execution_count": 5,
          "metadata": {},
          "output_type": "execute_result"
        }
      ],
      "source": [
        "df.head(5)"
      ]
    },
    {
      "attachments": {},
      "cell_type": "markdown",
      "metadata": {
        "id": "CMBJ1F0P8HZu"
      },
      "source": [
        "* Información sobre las dimensiones y tipo de variables"
      ]
    },
    {
      "cell_type": "code",
      "execution_count": 6,
      "metadata": {
        "colab": {
          "base_uri": "https://localhost:8080/"
        },
        "id": "p0eF8kJV5ToN",
        "outputId": "0751cf23-386a-41c6-d9ad-e13b24e9e7bf"
      },
      "outputs": [
        {
          "name": "stdout",
          "output_type": "stream",
          "text": [
            "<class 'pandas.core.frame.DataFrame'>\n",
            "RangeIndex: 22770 entries, 0 to 22769\n",
            "Data columns (total 8 columns):\n",
            " #   Column             Non-Null Count  Dtype  \n",
            "---  ------             --------------  -----  \n",
            " 0   Rating             22770 non-null  float64\n",
            " 1   Company Name       22769 non-null  object \n",
            " 2   Job Title          22770 non-null  object \n",
            " 3   Salary             22770 non-null  int64  \n",
            " 4   Salaries Reported  22770 non-null  int64  \n",
            " 5   Location           22770 non-null  object \n",
            " 6   Employment Status  22770 non-null  object \n",
            " 7   Job Roles          22770 non-null  object \n",
            "dtypes: float64(1), int64(2), object(5)\n",
            "memory usage: 1.4+ MB\n"
          ]
        }
      ],
      "source": [
        "df.info()"
      ]
    },
    {
      "attachments": {},
      "cell_type": "markdown",
      "metadata": {
        "id": "Zm2Ul2yq8QLF"
      },
      "source": [
        "## Subconjuntos"
      ]
    },
    {
      "attachments": {},
      "cell_type": "markdown",
      "metadata": {
        "id": "Bo_Pg7Ly9iM2"
      },
      "source": [
        "* construir un subconjunto de filas a través de su posición"
      ]
    },
    {
      "cell_type": "code",
      "execution_count": 7,
      "metadata": {
        "colab": {
          "base_uri": "https://localhost:8080/",
          "height": 143
        },
        "id": "IPDtmyV65Thx",
        "outputId": "4bc8a038-7175-43e2-c583-53af8011d513"
      },
      "outputs": [
        {
          "data": {
            "text/html": [
              "<div>\n",
              "<style scoped>\n",
              "    .dataframe tbody tr th:only-of-type {\n",
              "        vertical-align: middle;\n",
              "    }\n",
              "\n",
              "    .dataframe tbody tr th {\n",
              "        vertical-align: top;\n",
              "    }\n",
              "\n",
              "    .dataframe thead th {\n",
              "        text-align: right;\n",
              "    }\n",
              "</style>\n",
              "<table border=\"1\" class=\"dataframe\">\n",
              "  <thead>\n",
              "    <tr style=\"text-align: right;\">\n",
              "      <th></th>\n",
              "      <th>Rating</th>\n",
              "      <th>Company Name</th>\n",
              "      <th>Job Title</th>\n",
              "      <th>Salary</th>\n",
              "      <th>Salaries Reported</th>\n",
              "      <th>Location</th>\n",
              "      <th>Employment Status</th>\n",
              "      <th>Job Roles</th>\n",
              "    </tr>\n",
              "  </thead>\n",
              "  <tbody>\n",
              "    <tr>\n",
              "      <th>0</th>\n",
              "      <td>3.8</td>\n",
              "      <td>Sasken</td>\n",
              "      <td>Android Developer</td>\n",
              "      <td>400000</td>\n",
              "      <td>3</td>\n",
              "      <td>Bangalore</td>\n",
              "      <td>Full Time</td>\n",
              "      <td>Android</td>\n",
              "    </tr>\n",
              "    <tr>\n",
              "      <th>1</th>\n",
              "      <td>4.5</td>\n",
              "      <td>Advanced Millennium Technologies</td>\n",
              "      <td>Android Developer</td>\n",
              "      <td>400000</td>\n",
              "      <td>3</td>\n",
              "      <td>Bangalore</td>\n",
              "      <td>Full Time</td>\n",
              "      <td>Android</td>\n",
              "    </tr>\n",
              "    <tr>\n",
              "      <th>2</th>\n",
              "      <td>4.0</td>\n",
              "      <td>Unacademy</td>\n",
              "      <td>Android Developer</td>\n",
              "      <td>1000000</td>\n",
              "      <td>3</td>\n",
              "      <td>Bangalore</td>\n",
              "      <td>Full Time</td>\n",
              "      <td>Android</td>\n",
              "    </tr>\n",
              "  </tbody>\n",
              "</table>\n",
              "</div>"
            ],
            "text/plain": [
              "   Rating                      Company Name          Job Title   Salary   \n",
              "0     3.8                            Sasken  Android Developer   400000  \\\n",
              "1     4.5  Advanced Millennium Technologies  Android Developer   400000   \n",
              "2     4.0                         Unacademy  Android Developer  1000000   \n",
              "\n",
              "   Salaries Reported   Location Employment Status Job Roles  \n",
              "0                  3  Bangalore         Full Time   Android  \n",
              "1                  3  Bangalore         Full Time   Android  \n",
              "2                  3  Bangalore         Full Time   Android  "
            ]
          },
          "execution_count": 7,
          "metadata": {},
          "output_type": "execute_result"
        }
      ],
      "source": [
        "# navegar por datfarame utilizando la localizacion\n",
        "# entre las llaves a la izquierda encontramos las filas y a la derecha encontraremos las columnas\n",
        "df.iloc[0:3,] # range 0:3  solo incluye 0,1 y 2"
      ]
    },
    {
      "cell_type": "code",
      "execution_count": 8,
      "metadata": {
        "colab": {
          "base_uri": "https://localhost:8080/",
          "height": 112
        },
        "id": "IrYXjW0r9W7t",
        "outputId": "448118b8-c1d5-4f07-b54d-5a90ce05ad00"
      },
      "outputs": [
        {
          "data": {
            "text/html": [
              "<div>\n",
              "<style scoped>\n",
              "    .dataframe tbody tr th:only-of-type {\n",
              "        vertical-align: middle;\n",
              "    }\n",
              "\n",
              "    .dataframe tbody tr th {\n",
              "        vertical-align: top;\n",
              "    }\n",
              "\n",
              "    .dataframe thead th {\n",
              "        text-align: right;\n",
              "    }\n",
              "</style>\n",
              "<table border=\"1\" class=\"dataframe\">\n",
              "  <thead>\n",
              "    <tr style=\"text-align: right;\">\n",
              "      <th></th>\n",
              "      <th>Company Name</th>\n",
              "      <th>Job Title</th>\n",
              "      <th>Salary</th>\n",
              "      <th>Salaries Reported</th>\n",
              "      <th>Location</th>\n",
              "      <th>Employment Status</th>\n",
              "      <th>Job Roles</th>\n",
              "    </tr>\n",
              "  </thead>\n",
              "  <tbody>\n",
              "    <tr>\n",
              "      <th>0</th>\n",
              "      <td>Sasken</td>\n",
              "      <td>Android Developer</td>\n",
              "      <td>400000</td>\n",
              "      <td>3</td>\n",
              "      <td>Bangalore</td>\n",
              "      <td>Full Time</td>\n",
              "      <td>Android</td>\n",
              "    </tr>\n",
              "    <tr>\n",
              "      <th>1</th>\n",
              "      <td>Advanced Millennium Technologies</td>\n",
              "      <td>Android Developer</td>\n",
              "      <td>400000</td>\n",
              "      <td>3</td>\n",
              "      <td>Bangalore</td>\n",
              "      <td>Full Time</td>\n",
              "      <td>Android</td>\n",
              "    </tr>\n",
              "  </tbody>\n",
              "</table>\n",
              "</div>"
            ],
            "text/plain": [
              "                       Company Name          Job Title  Salary   \n",
              "0                            Sasken  Android Developer  400000  \\\n",
              "1  Advanced Millennium Technologies  Android Developer  400000   \n",
              "\n",
              "   Salaries Reported   Location Employment Status Job Roles  \n",
              "0                  3  Bangalore         Full Time   Android  \n",
              "1                  3  Bangalore         Full Time   Android  "
            ]
          },
          "execution_count": 8,
          "metadata": {},
          "output_type": "execute_result"
        }
      ],
      "source": [
        "\n",
        "# entre las llaves a la izquierda encontramos las filas y a la derecha encontraremos las columnas\n",
        "df.iloc[0:2,1:] # fila 0,1 y las columnas desde la 1"
      ]
    },
    {
      "cell_type": "code",
      "execution_count": 9,
      "metadata": {},
      "outputs": [
        {
          "data": {
            "text/plain": [
              "0         400000\n",
              "1         400000\n",
              "2        1000000\n",
              "3         300000\n",
              "4         600000\n",
              "          ...   \n",
              "22765     200000\n",
              "22766     300000\n",
              "22767     192000\n",
              "22768     300000\n",
              "22769     300000\n",
              "Name: Salary, Length: 22770, dtype: int64"
            ]
          },
          "execution_count": 9,
          "metadata": {},
          "output_type": "execute_result"
        }
      ],
      "source": [
        "df['Salary'] # selecciona una columna"
      ]
    },
    {
      "cell_type": "code",
      "execution_count": 10,
      "metadata": {
        "colab": {
          "base_uri": "https://localhost:8080/",
          "height": 423
        },
        "id": "xQDyUSQM5Tk6",
        "outputId": "16c0b7a2-a0ed-44b9-92b3-a994a9d7f0f7"
      },
      "outputs": [
        {
          "data": {
            "text/html": [
              "<div>\n",
              "<style scoped>\n",
              "    .dataframe tbody tr th:only-of-type {\n",
              "        vertical-align: middle;\n",
              "    }\n",
              "\n",
              "    .dataframe tbody tr th {\n",
              "        vertical-align: top;\n",
              "    }\n",
              "\n",
              "    .dataframe thead th {\n",
              "        text-align: right;\n",
              "    }\n",
              "</style>\n",
              "<table border=\"1\" class=\"dataframe\">\n",
              "  <thead>\n",
              "    <tr style=\"text-align: right;\">\n",
              "      <th></th>\n",
              "      <th>Job Title</th>\n",
              "      <th>Salary</th>\n",
              "    </tr>\n",
              "  </thead>\n",
              "  <tbody>\n",
              "    <tr>\n",
              "      <th>0</th>\n",
              "      <td>Android Developer</td>\n",
              "      <td>400000</td>\n",
              "    </tr>\n",
              "    <tr>\n",
              "      <th>1</th>\n",
              "      <td>Android Developer</td>\n",
              "      <td>400000</td>\n",
              "    </tr>\n",
              "    <tr>\n",
              "      <th>2</th>\n",
              "      <td>Android Developer</td>\n",
              "      <td>1000000</td>\n",
              "    </tr>\n",
              "    <tr>\n",
              "      <th>3</th>\n",
              "      <td>Android Developer</td>\n",
              "      <td>300000</td>\n",
              "    </tr>\n",
              "    <tr>\n",
              "      <th>4</th>\n",
              "      <td>Android Developer</td>\n",
              "      <td>600000</td>\n",
              "    </tr>\n",
              "    <tr>\n",
              "      <th>...</th>\n",
              "      <td>...</td>\n",
              "      <td>...</td>\n",
              "    </tr>\n",
              "    <tr>\n",
              "      <th>22765</th>\n",
              "      <td>Web Developer</td>\n",
              "      <td>200000</td>\n",
              "    </tr>\n",
              "    <tr>\n",
              "      <th>22766</th>\n",
              "      <td>Web Developer</td>\n",
              "      <td>300000</td>\n",
              "    </tr>\n",
              "    <tr>\n",
              "      <th>22767</th>\n",
              "      <td>Full Stack Web Developer</td>\n",
              "      <td>192000</td>\n",
              "    </tr>\n",
              "    <tr>\n",
              "      <th>22768</th>\n",
              "      <td>Full Stack Web Developer</td>\n",
              "      <td>300000</td>\n",
              "    </tr>\n",
              "    <tr>\n",
              "      <th>22769</th>\n",
              "      <td>Associate Web Developer</td>\n",
              "      <td>300000</td>\n",
              "    </tr>\n",
              "  </tbody>\n",
              "</table>\n",
              "<p>22770 rows × 2 columns</p>\n",
              "</div>"
            ],
            "text/plain": [
              "                      Job Title   Salary\n",
              "0             Android Developer   400000\n",
              "1             Android Developer   400000\n",
              "2             Android Developer  1000000\n",
              "3             Android Developer   300000\n",
              "4             Android Developer   600000\n",
              "...                         ...      ...\n",
              "22765             Web Developer   200000\n",
              "22766             Web Developer   300000\n",
              "22767  Full Stack Web Developer   192000\n",
              "22768  Full Stack Web Developer   300000\n",
              "22769   Associate Web Developer   300000\n",
              "\n",
              "[22770 rows x 2 columns]"
            ]
          },
          "execution_count": 10,
          "metadata": {},
          "output_type": "execute_result"
        }
      ],
      "source": [
        "df[['Job Title', 'Salary']] # seleccionamos dos columnas del dataframe indicando con lista de nombre de columnas"
      ]
    },
    {
      "cell_type": "code",
      "execution_count": 11,
      "metadata": {
        "colab": {
          "base_uri": "https://localhost:8080/"
        },
        "id": "Lp40aqKvOx_O",
        "outputId": "769d0f92-771a-4e96-a629-5be7ee42d224"
      },
      "outputs": [
        {
          "data": {
            "text/plain": [
              "Index(['Rating', 'Salary', 'Salaries Reported'], dtype='object')"
            ]
          },
          "execution_count": 11,
          "metadata": {},
          "output_type": "execute_result"
        }
      ],
      "source": [
        "# haga una lista de las columnas segun el tipo de datos que contienen solicitado\n",
        "df.select_dtypes(['float64' , 'int64']).columns"
      ]
    },
    {
      "cell_type": "code",
      "execution_count": 12,
      "metadata": {
        "colab": {
          "base_uri": "https://localhost:8080/",
          "height": 519
        },
        "id": "BtFT_6t8-4lE",
        "outputId": "bf23563e-4e4d-4e06-fbd4-6e74b0ffcae7"
      },
      "outputs": [
        {
          "data": {
            "text/html": [
              "<div>\n",
              "<style scoped>\n",
              "    .dataframe tbody tr th:only-of-type {\n",
              "        vertical-align: middle;\n",
              "    }\n",
              "\n",
              "    .dataframe tbody tr th {\n",
              "        vertical-align: top;\n",
              "    }\n",
              "\n",
              "    .dataframe thead th {\n",
              "        text-align: right;\n",
              "    }\n",
              "</style>\n",
              "<table border=\"1\" class=\"dataframe\">\n",
              "  <thead>\n",
              "    <tr style=\"text-align: right;\">\n",
              "      <th></th>\n",
              "      <th>Rating</th>\n",
              "      <th>Company Name</th>\n",
              "      <th>Job Title</th>\n",
              "      <th>Salary</th>\n",
              "      <th>Salaries Reported</th>\n",
              "      <th>Location</th>\n",
              "      <th>Employment Status</th>\n",
              "      <th>Job Roles</th>\n",
              "    </tr>\n",
              "  </thead>\n",
              "  <tbody>\n",
              "    <tr>\n",
              "      <th>0</th>\n",
              "      <td>3.8</td>\n",
              "      <td>Sasken</td>\n",
              "      <td>Android Developer</td>\n",
              "      <td>400000</td>\n",
              "      <td>3</td>\n",
              "      <td>Bangalore</td>\n",
              "      <td>Full Time</td>\n",
              "      <td>Android</td>\n",
              "    </tr>\n",
              "    <tr>\n",
              "      <th>1</th>\n",
              "      <td>4.5</td>\n",
              "      <td>Advanced Millennium Technologies</td>\n",
              "      <td>Android Developer</td>\n",
              "      <td>400000</td>\n",
              "      <td>3</td>\n",
              "      <td>Bangalore</td>\n",
              "      <td>Full Time</td>\n",
              "      <td>Android</td>\n",
              "    </tr>\n",
              "    <tr>\n",
              "      <th>2</th>\n",
              "      <td>4.0</td>\n",
              "      <td>Unacademy</td>\n",
              "      <td>Android Developer</td>\n",
              "      <td>1000000</td>\n",
              "      <td>3</td>\n",
              "      <td>Bangalore</td>\n",
              "      <td>Full Time</td>\n",
              "      <td>Android</td>\n",
              "    </tr>\n",
              "    <tr>\n",
              "      <th>4</th>\n",
              "      <td>4.4</td>\n",
              "      <td>Appoids Tech Solutions</td>\n",
              "      <td>Android Developer</td>\n",
              "      <td>600000</td>\n",
              "      <td>3</td>\n",
              "      <td>Bangalore</td>\n",
              "      <td>Full Time</td>\n",
              "      <td>Android</td>\n",
              "    </tr>\n",
              "    <tr>\n",
              "      <th>7</th>\n",
              "      <td>3.1</td>\n",
              "      <td>Samsung R&amp;D Institute India - Bangalore</td>\n",
              "      <td>Android Developer</td>\n",
              "      <td>400000</td>\n",
              "      <td>3</td>\n",
              "      <td>Bangalore</td>\n",
              "      <td>Full Time</td>\n",
              "      <td>Android</td>\n",
              "    </tr>\n",
              "    <tr>\n",
              "      <th>...</th>\n",
              "      <td>...</td>\n",
              "      <td>...</td>\n",
              "      <td>...</td>\n",
              "      <td>...</td>\n",
              "      <td>...</td>\n",
              "      <td>...</td>\n",
              "      <td>...</td>\n",
              "      <td>...</td>\n",
              "    </tr>\n",
              "    <tr>\n",
              "      <th>22752</th>\n",
              "      <td>3.7</td>\n",
              "      <td>SwervePoint</td>\n",
              "      <td>Web Developer</td>\n",
              "      <td>600000</td>\n",
              "      <td>1</td>\n",
              "      <td>Bangalore</td>\n",
              "      <td>Full Time</td>\n",
              "      <td>Web</td>\n",
              "    </tr>\n",
              "    <tr>\n",
              "      <th>22753</th>\n",
              "      <td>4.3</td>\n",
              "      <td>rtCamp</td>\n",
              "      <td>Web Developer</td>\n",
              "      <td>700000</td>\n",
              "      <td>1</td>\n",
              "      <td>Bangalore</td>\n",
              "      <td>Full Time</td>\n",
              "      <td>Web</td>\n",
              "    </tr>\n",
              "    <tr>\n",
              "      <th>22758</th>\n",
              "      <td>4.5</td>\n",
              "      <td>Blu Ocean Innovations</td>\n",
              "      <td>Web Developer - Intern</td>\n",
              "      <td>408000</td>\n",
              "      <td>1</td>\n",
              "      <td>Bangalore</td>\n",
              "      <td>Intern</td>\n",
              "      <td>Web</td>\n",
              "    </tr>\n",
              "    <tr>\n",
              "      <th>22763</th>\n",
              "      <td>4.4</td>\n",
              "      <td>Unicon Systems</td>\n",
              "      <td>Web Developer</td>\n",
              "      <td>500000</td>\n",
              "      <td>1</td>\n",
              "      <td>Bangalore</td>\n",
              "      <td>Full Time</td>\n",
              "      <td>Web</td>\n",
              "    </tr>\n",
              "    <tr>\n",
              "      <th>22764</th>\n",
              "      <td>5.0</td>\n",
              "      <td>BJSHub</td>\n",
              "      <td>Web Developer</td>\n",
              "      <td>400000</td>\n",
              "      <td>1</td>\n",
              "      <td>Bangalore</td>\n",
              "      <td>Full Time</td>\n",
              "      <td>Web</td>\n",
              "    </tr>\n",
              "  </tbody>\n",
              "</table>\n",
              "<p>15754 rows × 8 columns</p>\n",
              "</div>"
            ],
            "text/plain": [
              "       Rating                             Company Name   \n",
              "0         3.8                                   Sasken  \\\n",
              "1         4.5         Advanced Millennium Technologies   \n",
              "2         4.0                                Unacademy   \n",
              "4         4.4                   Appoids Tech Solutions   \n",
              "7         3.1  Samsung R&D Institute India - Bangalore   \n",
              "...       ...                                      ...   \n",
              "22752     3.7                              SwervePoint   \n",
              "22753     4.3                                   rtCamp   \n",
              "22758     4.5                    Blu Ocean Innovations   \n",
              "22763     4.4                           Unicon Systems   \n",
              "22764     5.0                                   BJSHub   \n",
              "\n",
              "                    Job Title   Salary  Salaries Reported   Location   \n",
              "0           Android Developer   400000                  3  Bangalore  \\\n",
              "1           Android Developer   400000                  3  Bangalore   \n",
              "2           Android Developer  1000000                  3  Bangalore   \n",
              "4           Android Developer   600000                  3  Bangalore   \n",
              "7           Android Developer   400000                  3  Bangalore   \n",
              "...                       ...      ...                ...        ...   \n",
              "22752           Web Developer   600000                  1  Bangalore   \n",
              "22753           Web Developer   700000                  1  Bangalore   \n",
              "22758  Web Developer - Intern   408000                  1  Bangalore   \n",
              "22763           Web Developer   500000                  1  Bangalore   \n",
              "22764           Web Developer   400000                  1  Bangalore   \n",
              "\n",
              "      Employment Status Job Roles  \n",
              "0             Full Time   Android  \n",
              "1             Full Time   Android  \n",
              "2             Full Time   Android  \n",
              "4             Full Time   Android  \n",
              "7             Full Time   Android  \n",
              "...                 ...       ...  \n",
              "22752         Full Time       Web  \n",
              "22753         Full Time       Web  \n",
              "22758            Intern       Web  \n",
              "22763         Full Time       Web  \n",
              "22764         Full Time       Web  \n",
              "\n",
              "[15754 rows x 8 columns]"
            ]
          },
          "execution_count": 12,
          "metadata": {},
          "output_type": "execute_result"
        }
      ],
      "source": [
        "# filtrar la base dada una condicion\n",
        "df[df['Salary']>300000]"
      ]
    },
    {
      "cell_type": "code",
      "execution_count": 13,
      "metadata": {
        "colab": {
          "base_uri": "https://localhost:8080/",
          "height": 589
        },
        "id": "Yu1V5Cv6_Ah1",
        "outputId": "43c301a4-98fb-4b91-c605-665dcfc21cfe"
      },
      "outputs": [
        {
          "data": {
            "text/html": [
              "<div>\n",
              "<style scoped>\n",
              "    .dataframe tbody tr th:only-of-type {\n",
              "        vertical-align: middle;\n",
              "    }\n",
              "\n",
              "    .dataframe tbody tr th {\n",
              "        vertical-align: top;\n",
              "    }\n",
              "\n",
              "    .dataframe thead th {\n",
              "        text-align: right;\n",
              "    }\n",
              "</style>\n",
              "<table border=\"1\" class=\"dataframe\">\n",
              "  <thead>\n",
              "    <tr style=\"text-align: right;\">\n",
              "      <th></th>\n",
              "      <th>Rating</th>\n",
              "      <th>Company Name</th>\n",
              "      <th>Job Title</th>\n",
              "      <th>Salary</th>\n",
              "      <th>Salaries Reported</th>\n",
              "      <th>Location</th>\n",
              "      <th>Employment Status</th>\n",
              "      <th>Job Roles</th>\n",
              "    </tr>\n",
              "  </thead>\n",
              "  <tbody>\n",
              "    <tr>\n",
              "      <th>2</th>\n",
              "      <td>4.0</td>\n",
              "      <td>Unacademy</td>\n",
              "      <td>Android Developer</td>\n",
              "      <td>1000000</td>\n",
              "      <td>3</td>\n",
              "      <td>Bangalore</td>\n",
              "      <td>Full Time</td>\n",
              "      <td>Android</td>\n",
              "    </tr>\n",
              "    <tr>\n",
              "      <th>4</th>\n",
              "      <td>4.4</td>\n",
              "      <td>Appoids Tech Solutions</td>\n",
              "      <td>Android Developer</td>\n",
              "      <td>600000</td>\n",
              "      <td>3</td>\n",
              "      <td>Bangalore</td>\n",
              "      <td>Full Time</td>\n",
              "      <td>Android</td>\n",
              "    </tr>\n",
              "    <tr>\n",
              "      <th>9</th>\n",
              "      <td>3.6</td>\n",
              "      <td>Endeavour Software Technologies</td>\n",
              "      <td>Android Developer</td>\n",
              "      <td>600000</td>\n",
              "      <td>3</td>\n",
              "      <td>Bangalore</td>\n",
              "      <td>Full Time</td>\n",
              "      <td>Android</td>\n",
              "    </tr>\n",
              "    <tr>\n",
              "      <th>12</th>\n",
              "      <td>3.7</td>\n",
              "      <td>Wibmo</td>\n",
              "      <td>Android Developer</td>\n",
              "      <td>900000</td>\n",
              "      <td>2</td>\n",
              "      <td>Bangalore</td>\n",
              "      <td>Full Time</td>\n",
              "      <td>Android</td>\n",
              "    </tr>\n",
              "    <tr>\n",
              "      <th>14</th>\n",
              "      <td>3.9</td>\n",
              "      <td>Bookmyshow</td>\n",
              "      <td>Android Developer</td>\n",
              "      <td>600000</td>\n",
              "      <td>2</td>\n",
              "      <td>Bangalore</td>\n",
              "      <td>Full Time</td>\n",
              "      <td>Android</td>\n",
              "    </tr>\n",
              "    <tr>\n",
              "      <th>...</th>\n",
              "      <td>...</td>\n",
              "      <td>...</td>\n",
              "      <td>...</td>\n",
              "      <td>...</td>\n",
              "      <td>...</td>\n",
              "      <td>...</td>\n",
              "      <td>...</td>\n",
              "      <td>...</td>\n",
              "    </tr>\n",
              "    <tr>\n",
              "      <th>22728</th>\n",
              "      <td>3.9</td>\n",
              "      <td>YMedia</td>\n",
              "      <td>Web Developer</td>\n",
              "      <td>800000</td>\n",
              "      <td>1</td>\n",
              "      <td>Bangalore</td>\n",
              "      <td>Full Time</td>\n",
              "      <td>Web</td>\n",
              "    </tr>\n",
              "    <tr>\n",
              "      <th>22743</th>\n",
              "      <td>4.0</td>\n",
              "      <td>Nones</td>\n",
              "      <td>Web Developer</td>\n",
              "      <td>576000</td>\n",
              "      <td>1</td>\n",
              "      <td>Bangalore</td>\n",
              "      <td>Full Time</td>\n",
              "      <td>Web</td>\n",
              "    </tr>\n",
              "    <tr>\n",
              "      <th>22748</th>\n",
              "      <td>4.2</td>\n",
              "      <td>Full Time Soluções em Serviços Financeiros</td>\n",
              "      <td>Web Developer</td>\n",
              "      <td>1176000</td>\n",
              "      <td>1</td>\n",
              "      <td>Bangalore</td>\n",
              "      <td>Full Time</td>\n",
              "      <td>Web</td>\n",
              "    </tr>\n",
              "    <tr>\n",
              "      <th>22752</th>\n",
              "      <td>3.7</td>\n",
              "      <td>SwervePoint</td>\n",
              "      <td>Web Developer</td>\n",
              "      <td>600000</td>\n",
              "      <td>1</td>\n",
              "      <td>Bangalore</td>\n",
              "      <td>Full Time</td>\n",
              "      <td>Web</td>\n",
              "    </tr>\n",
              "    <tr>\n",
              "      <th>22753</th>\n",
              "      <td>4.3</td>\n",
              "      <td>rtCamp</td>\n",
              "      <td>Web Developer</td>\n",
              "      <td>700000</td>\n",
              "      <td>1</td>\n",
              "      <td>Bangalore</td>\n",
              "      <td>Full Time</td>\n",
              "      <td>Web</td>\n",
              "    </tr>\n",
              "  </tbody>\n",
              "</table>\n",
              "<p>10665 rows × 8 columns</p>\n",
              "</div>"
            ],
            "text/plain": [
              "       Rating                                Company Name          Job Title   \n",
              "2         4.0                                   Unacademy  Android Developer  \\\n",
              "4         4.4                      Appoids Tech Solutions  Android Developer   \n",
              "9         3.6             Endeavour Software Technologies  Android Developer   \n",
              "12        3.7                                       Wibmo  Android Developer   \n",
              "14        3.9                                  Bookmyshow  Android Developer   \n",
              "...       ...                                         ...                ...   \n",
              "22728     3.9                                      YMedia      Web Developer   \n",
              "22743     4.0                                       Nones      Web Developer   \n",
              "22748     4.2  Full Time Soluções em Serviços Financeiros      Web Developer   \n",
              "22752     3.7                                 SwervePoint      Web Developer   \n",
              "22753     4.3                                      rtCamp      Web Developer   \n",
              "\n",
              "        Salary  Salaries Reported   Location Employment Status Job Roles  \n",
              "2      1000000                  3  Bangalore         Full Time   Android  \n",
              "4       600000                  3  Bangalore         Full Time   Android  \n",
              "9       600000                  3  Bangalore         Full Time   Android  \n",
              "12      900000                  2  Bangalore         Full Time   Android  \n",
              "14      600000                  2  Bangalore         Full Time   Android  \n",
              "...        ...                ...        ...               ...       ...  \n",
              "22728   800000                  1  Bangalore         Full Time       Web  \n",
              "22743   576000                  1  Bangalore         Full Time       Web  \n",
              "22748  1176000                  1  Bangalore         Full Time       Web  \n",
              "22752   600000                  1  Bangalore         Full Time       Web  \n",
              "22753   700000                  1  Bangalore         Full Time       Web  \n",
              "\n",
              "[10665 rows x 8 columns]"
            ]
          },
          "execution_count": 13,
          "metadata": {},
          "output_type": "execute_result"
        }
      ],
      "source": [
        "# filtrar la base dada una condicion\n",
        "df[df.Salary>500000]"
      ]
    },
    {
      "cell_type": "code",
      "execution_count": 14,
      "metadata": {},
      "outputs": [
        {
          "data": {
            "text/html": [
              "<div>\n",
              "<style scoped>\n",
              "    .dataframe tbody tr th:only-of-type {\n",
              "        vertical-align: middle;\n",
              "    }\n",
              "\n",
              "    .dataframe tbody tr th {\n",
              "        vertical-align: top;\n",
              "    }\n",
              "\n",
              "    .dataframe thead th {\n",
              "        text-align: right;\n",
              "    }\n",
              "</style>\n",
              "<table border=\"1\" class=\"dataframe\">\n",
              "  <thead>\n",
              "    <tr style=\"text-align: right;\">\n",
              "      <th></th>\n",
              "      <th>Rating</th>\n",
              "      <th>Company Name</th>\n",
              "      <th>Job Title</th>\n",
              "      <th>Salary</th>\n",
              "      <th>Salaries Reported</th>\n",
              "      <th>Location</th>\n",
              "      <th>Employment Status</th>\n",
              "      <th>Job Roles</th>\n",
              "    </tr>\n",
              "  </thead>\n",
              "  <tbody>\n",
              "    <tr>\n",
              "      <th>594</th>\n",
              "      <td>4.1</td>\n",
              "      <td>Accenture</td>\n",
              "      <td>Senior Android Developer</td>\n",
              "      <td>700000</td>\n",
              "      <td>5</td>\n",
              "      <td>Bangalore</td>\n",
              "      <td>Full Time</td>\n",
              "      <td>Android</td>\n",
              "    </tr>\n",
              "    <tr>\n",
              "      <th>612</th>\n",
              "      <td>4.1</td>\n",
              "      <td>Accenture</td>\n",
              "      <td>Android Applications Developer</td>\n",
              "      <td>500000</td>\n",
              "      <td>2</td>\n",
              "      <td>Bangalore</td>\n",
              "      <td>Full Time</td>\n",
              "      <td>Android</td>\n",
              "    </tr>\n",
              "    <tr>\n",
              "      <th>638</th>\n",
              "      <td>4.1</td>\n",
              "      <td>Accenture</td>\n",
              "      <td>Android Software Developer</td>\n",
              "      <td>400000</td>\n",
              "      <td>1</td>\n",
              "      <td>Bangalore</td>\n",
              "      <td>Full Time</td>\n",
              "      <td>Android</td>\n",
              "    </tr>\n",
              "    <tr>\n",
              "      <th>878</th>\n",
              "      <td>4.1</td>\n",
              "      <td>Accenture</td>\n",
              "      <td>Senior Android Applications Developer</td>\n",
              "      <td>700000</td>\n",
              "      <td>1</td>\n",
              "      <td>Bangalore</td>\n",
              "      <td>Full Time</td>\n",
              "      <td>Android</td>\n",
              "    </tr>\n",
              "    <tr>\n",
              "      <th>906</th>\n",
              "      <td>4.1</td>\n",
              "      <td>Accenture</td>\n",
              "      <td>Android Team Lead</td>\n",
              "      <td>1700000</td>\n",
              "      <td>1</td>\n",
              "      <td>Bangalore</td>\n",
              "      <td>Full Time</td>\n",
              "      <td>Android</td>\n",
              "    </tr>\n",
              "    <tr>\n",
              "      <th>...</th>\n",
              "      <td>...</td>\n",
              "      <td>...</td>\n",
              "      <td>...</td>\n",
              "      <td>...</td>\n",
              "      <td>...</td>\n",
              "      <td>...</td>\n",
              "      <td>...</td>\n",
              "      <td>...</td>\n",
              "    </tr>\n",
              "    <tr>\n",
              "      <th>21768</th>\n",
              "      <td>4.1</td>\n",
              "      <td>Accenture</td>\n",
              "      <td>Software Test Analyst</td>\n",
              "      <td>400000</td>\n",
              "      <td>19</td>\n",
              "      <td>Bangalore</td>\n",
              "      <td>Full Time</td>\n",
              "      <td>SDE</td>\n",
              "    </tr>\n",
              "    <tr>\n",
              "      <th>21781</th>\n",
              "      <td>4.1</td>\n",
              "      <td>Accenture</td>\n",
              "      <td>Web Developer</td>\n",
              "      <td>400000</td>\n",
              "      <td>8</td>\n",
              "      <td>Bangalore</td>\n",
              "      <td>Full Time</td>\n",
              "      <td>Web</td>\n",
              "    </tr>\n",
              "    <tr>\n",
              "      <th>21799</th>\n",
              "      <td>3.9</td>\n",
              "      <td>Oracle</td>\n",
              "      <td>Web Developer</td>\n",
              "      <td>200000</td>\n",
              "      <td>4</td>\n",
              "      <td>Bangalore</td>\n",
              "      <td>Full Time</td>\n",
              "      <td>Web</td>\n",
              "    </tr>\n",
              "    <tr>\n",
              "      <th>22607</th>\n",
              "      <td>3.9</td>\n",
              "      <td>Oracle</td>\n",
              "      <td>Web Developer - Intern</td>\n",
              "      <td>588000</td>\n",
              "      <td>1</td>\n",
              "      <td>Bangalore</td>\n",
              "      <td>Intern</td>\n",
              "      <td>Web</td>\n",
              "    </tr>\n",
              "    <tr>\n",
              "      <th>22768</th>\n",
              "      <td>4.1</td>\n",
              "      <td>Accenture</td>\n",
              "      <td>Full Stack Web Developer</td>\n",
              "      <td>300000</td>\n",
              "      <td>7</td>\n",
              "      <td>Bangalore</td>\n",
              "      <td>Full Time</td>\n",
              "      <td>Web</td>\n",
              "    </tr>\n",
              "  </tbody>\n",
              "</table>\n",
              "<p>215 rows × 8 columns</p>\n",
              "</div>"
            ],
            "text/plain": [
              "       Rating Company Name                              Job Title   Salary   \n",
              "594       4.1    Accenture               Senior Android Developer   700000  \\\n",
              "612       4.1    Accenture         Android Applications Developer   500000   \n",
              "638       4.1    Accenture             Android Software Developer   400000   \n",
              "878       4.1    Accenture  Senior Android Applications Developer   700000   \n",
              "906       4.1    Accenture                      Android Team Lead  1700000   \n",
              "...       ...          ...                                    ...      ...   \n",
              "21768     4.1    Accenture                  Software Test Analyst   400000   \n",
              "21781     4.1    Accenture                          Web Developer   400000   \n",
              "21799     3.9       Oracle                          Web Developer   200000   \n",
              "22607     3.9       Oracle                 Web Developer - Intern   588000   \n",
              "22768     4.1    Accenture               Full Stack Web Developer   300000   \n",
              "\n",
              "       Salaries Reported   Location Employment Status Job Roles  \n",
              "594                    5  Bangalore         Full Time   Android  \n",
              "612                    2  Bangalore         Full Time   Android  \n",
              "638                    1  Bangalore         Full Time   Android  \n",
              "878                    1  Bangalore         Full Time   Android  \n",
              "906                    1  Bangalore         Full Time   Android  \n",
              "...                  ...        ...               ...       ...  \n",
              "21768                 19  Bangalore         Full Time       SDE  \n",
              "21781                  8  Bangalore         Full Time       Web  \n",
              "21799                  4  Bangalore         Full Time       Web  \n",
              "22607                  1  Bangalore            Intern       Web  \n",
              "22768                  7  Bangalore         Full Time       Web  \n",
              "\n",
              "[215 rows x 8 columns]"
            ]
          },
          "execution_count": 14,
          "metadata": {},
          "output_type": "execute_result"
        }
      ],
      "source": [
        "lista_buscar = ['Accenture','Oracle'] # lista de opciones en string\n",
        "df[df['Company Name'].isin(lista_buscar)]"
      ]
    },
    {
      "cell_type": "code",
      "execution_count": 15,
      "metadata": {
        "colab": {
          "base_uri": "https://localhost:8080/",
          "height": 467
        },
        "id": "daEGitIh_azI",
        "outputId": "f0817436-fbc6-43fb-c651-c48c5cdf5053"
      },
      "outputs": [
        {
          "data": {
            "text/html": [
              "<div>\n",
              "<style scoped>\n",
              "    .dataframe tbody tr th:only-of-type {\n",
              "        vertical-align: middle;\n",
              "    }\n",
              "\n",
              "    .dataframe tbody tr th {\n",
              "        vertical-align: top;\n",
              "    }\n",
              "\n",
              "    .dataframe thead th {\n",
              "        text-align: right;\n",
              "    }\n",
              "</style>\n",
              "<table border=\"1\" class=\"dataframe\">\n",
              "  <thead>\n",
              "    <tr style=\"text-align: right;\">\n",
              "      <th></th>\n",
              "      <th>Rating</th>\n",
              "      <th>Company Name</th>\n",
              "      <th>Job Title</th>\n",
              "      <th>Salary</th>\n",
              "      <th>Salaries Reported</th>\n",
              "      <th>Location</th>\n",
              "      <th>Employment Status</th>\n",
              "      <th>Job Roles</th>\n",
              "    </tr>\n",
              "  </thead>\n",
              "  <tbody>\n",
              "    <tr>\n",
              "      <th>594</th>\n",
              "      <td>4.1</td>\n",
              "      <td>Accenture</td>\n",
              "      <td>Senior Android Developer</td>\n",
              "      <td>700000</td>\n",
              "      <td>5</td>\n",
              "      <td>Bangalore</td>\n",
              "      <td>Full Time</td>\n",
              "      <td>Android</td>\n",
              "    </tr>\n",
              "    <tr>\n",
              "      <th>595</th>\n",
              "      <td>3.8</td>\n",
              "      <td>3Embed Software Technologies</td>\n",
              "      <td>Senior Android Developer</td>\n",
              "      <td>360000</td>\n",
              "      <td>4</td>\n",
              "      <td>Bangalore</td>\n",
              "      <td>Full Time</td>\n",
              "      <td>Android</td>\n",
              "    </tr>\n",
              "    <tr>\n",
              "      <th>1139</th>\n",
              "      <td>4.2</td>\n",
              "      <td>Contus</td>\n",
              "      <td>Senior Android Developer</td>\n",
              "      <td>720000</td>\n",
              "      <td>4</td>\n",
              "      <td>Chennai</td>\n",
              "      <td>Full Time</td>\n",
              "      <td>Android</td>\n",
              "    </tr>\n",
              "    <tr>\n",
              "      <th>1584</th>\n",
              "      <td>3.8</td>\n",
              "      <td>Mobisoft Labs</td>\n",
              "      <td>Android Developer</td>\n",
              "      <td>312000</td>\n",
              "      <td>4</td>\n",
              "      <td>New Delhi</td>\n",
              "      <td>Full Time</td>\n",
              "      <td>Android</td>\n",
              "    </tr>\n",
              "    <tr>\n",
              "      <th>1585</th>\n",
              "      <td>3.6</td>\n",
              "      <td>Tech Mahindra</td>\n",
              "      <td>Android Developer</td>\n",
              "      <td>300000</td>\n",
              "      <td>4</td>\n",
              "      <td>New Delhi</td>\n",
              "      <td>Full Time</td>\n",
              "      <td>Android</td>\n",
              "    </tr>\n",
              "    <tr>\n",
              "      <th>...</th>\n",
              "      <td>...</td>\n",
              "      <td>...</td>\n",
              "      <td>...</td>\n",
              "      <td>...</td>\n",
              "      <td>...</td>\n",
              "      <td>...</td>\n",
              "      <td>...</td>\n",
              "      <td>...</td>\n",
              "    </tr>\n",
              "    <tr>\n",
              "      <th>21798</th>\n",
              "      <td>3.3</td>\n",
              "      <td>Webhelp</td>\n",
              "      <td>Web Developer</td>\n",
              "      <td>96000</td>\n",
              "      <td>4</td>\n",
              "      <td>Bangalore</td>\n",
              "      <td>Full Time</td>\n",
              "      <td>Web</td>\n",
              "    </tr>\n",
              "    <tr>\n",
              "      <th>21799</th>\n",
              "      <td>3.9</td>\n",
              "      <td>Oracle</td>\n",
              "      <td>Web Developer</td>\n",
              "      <td>200000</td>\n",
              "      <td>4</td>\n",
              "      <td>Bangalore</td>\n",
              "      <td>Full Time</td>\n",
              "      <td>Web</td>\n",
              "    </tr>\n",
              "    <tr>\n",
              "      <th>21800</th>\n",
              "      <td>3.3</td>\n",
              "      <td>Octact Solutions</td>\n",
              "      <td>Web Developer</td>\n",
              "      <td>120000</td>\n",
              "      <td>4</td>\n",
              "      <td>Bangalore</td>\n",
              "      <td>Full Time</td>\n",
              "      <td>Web</td>\n",
              "    </tr>\n",
              "    <tr>\n",
              "      <th>22768</th>\n",
              "      <td>4.1</td>\n",
              "      <td>Accenture</td>\n",
              "      <td>Full Stack Web Developer</td>\n",
              "      <td>300000</td>\n",
              "      <td>7</td>\n",
              "      <td>Bangalore</td>\n",
              "      <td>Full Time</td>\n",
              "      <td>Web</td>\n",
              "    </tr>\n",
              "    <tr>\n",
              "      <th>22769</th>\n",
              "      <td>3.8</td>\n",
              "      <td>Thomson Reuters</td>\n",
              "      <td>Associate Web Developer</td>\n",
              "      <td>300000</td>\n",
              "      <td>7</td>\n",
              "      <td>Bangalore</td>\n",
              "      <td>Full Time</td>\n",
              "      <td>Web</td>\n",
              "    </tr>\n",
              "  </tbody>\n",
              "</table>\n",
              "<p>844 rows × 8 columns</p>\n",
              "</div>"
            ],
            "text/plain": [
              "       Rating                  Company Name                 Job Title  Salary   \n",
              "594       4.1                     Accenture  Senior Android Developer  700000  \\\n",
              "595       3.8  3Embed Software Technologies  Senior Android Developer  360000   \n",
              "1139      4.2                        Contus  Senior Android Developer  720000   \n",
              "1584      3.8                 Mobisoft Labs         Android Developer  312000   \n",
              "1585      3.6                 Tech Mahindra         Android Developer  300000   \n",
              "...       ...                           ...                       ...     ...   \n",
              "21798     3.3                       Webhelp             Web Developer   96000   \n",
              "21799     3.9                        Oracle             Web Developer  200000   \n",
              "21800     3.3              Octact Solutions             Web Developer  120000   \n",
              "22768     4.1                     Accenture  Full Stack Web Developer  300000   \n",
              "22769     3.8               Thomson Reuters   Associate Web Developer  300000   \n",
              "\n",
              "       Salaries Reported   Location Employment Status Job Roles  \n",
              "594                    5  Bangalore         Full Time   Android  \n",
              "595                    4  Bangalore         Full Time   Android  \n",
              "1139                   4    Chennai         Full Time   Android  \n",
              "1584                   4  New Delhi         Full Time   Android  \n",
              "1585                   4  New Delhi         Full Time   Android  \n",
              "...                  ...        ...               ...       ...  \n",
              "21798                  4  Bangalore         Full Time       Web  \n",
              "21799                  4  Bangalore         Full Time       Web  \n",
              "21800                  4  Bangalore         Full Time       Web  \n",
              "22768                  7  Bangalore         Full Time       Web  \n",
              "22769                  7  Bangalore         Full Time       Web  \n",
              "\n",
              "[844 rows x 8 columns]"
            ]
          },
          "execution_count": 15,
          "metadata": {},
          "output_type": "execute_result"
        }
      ],
      "source": [
        "# filtrar la base dada una condicion\n",
        "# que los valores de la columna se encuentre en la lista indicada\n",
        "lista_a_buscar = [4,5,6,7]\n",
        "\n",
        "# filtrar dataframe segun condicion de busqyeueda dentro de lista\n",
        "df[df['Salaries Reported'].isin(lista_a_buscar)]\n",
        "\n",
        "# df[df[\"Salaries Reported\"].isin([4,5,6,7])]"
      ]
    },
    {
      "cell_type": "code",
      "execution_count": 16,
      "metadata": {
        "colab": {
          "base_uri": "https://localhost:8080/",
          "height": 559
        },
        "id": "9paGEOOD_wWd",
        "outputId": "714ff47b-9427-4b6a-ec75-c34b7460a4c8"
      },
      "outputs": [
        {
          "data": {
            "text/html": [
              "<div>\n",
              "<style scoped>\n",
              "    .dataframe tbody tr th:only-of-type {\n",
              "        vertical-align: middle;\n",
              "    }\n",
              "\n",
              "    .dataframe tbody tr th {\n",
              "        vertical-align: top;\n",
              "    }\n",
              "\n",
              "    .dataframe thead th {\n",
              "        text-align: right;\n",
              "    }\n",
              "</style>\n",
              "<table border=\"1\" class=\"dataframe\">\n",
              "  <thead>\n",
              "    <tr style=\"text-align: right;\">\n",
              "      <th></th>\n",
              "      <th>Rating</th>\n",
              "      <th>Company Name</th>\n",
              "      <th>Job Title</th>\n",
              "      <th>Salary</th>\n",
              "      <th>Salaries Reported</th>\n",
              "      <th>Location</th>\n",
              "      <th>Employment Status</th>\n",
              "      <th>Job Roles</th>\n",
              "    </tr>\n",
              "  </thead>\n",
              "  <tbody>\n",
              "    <tr>\n",
              "      <th>12528</th>\n",
              "      <td>4.1</td>\n",
              "      <td>Swiggy</td>\n",
              "      <td>Software Development Engineer I</td>\n",
              "      <td>1800000</td>\n",
              "      <td>8</td>\n",
              "      <td>Bangalore</td>\n",
              "      <td>Full Time</td>\n",
              "      <td>SDE</td>\n",
              "    </tr>\n",
              "    <tr>\n",
              "      <th>12684</th>\n",
              "      <td>4.4</td>\n",
              "      <td>ShareChat</td>\n",
              "      <td>Software Development Engineer (SDE)</td>\n",
              "      <td>1800000</td>\n",
              "      <td>8</td>\n",
              "      <td>Bangalore</td>\n",
              "      <td>Full Time</td>\n",
              "      <td>SDE</td>\n",
              "    </tr>\n",
              "    <tr>\n",
              "      <th>12754</th>\n",
              "      <td>3.5</td>\n",
              "      <td>Trilogy Innovations</td>\n",
              "      <td>Software Development Engineer (SDE)</td>\n",
              "      <td>2400000</td>\n",
              "      <td>9</td>\n",
              "      <td>Bangalore</td>\n",
              "      <td>Full Time</td>\n",
              "      <td>SDE</td>\n",
              "    </tr>\n",
              "    <tr>\n",
              "      <th>12776</th>\n",
              "      <td>4.5</td>\n",
              "      <td>ZestMoney</td>\n",
              "      <td>Software Development Engineer (SDE) II</td>\n",
              "      <td>1600000</td>\n",
              "      <td>9</td>\n",
              "      <td>Bangalore</td>\n",
              "      <td>Full Time</td>\n",
              "      <td>SDE</td>\n",
              "    </tr>\n",
              "    <tr>\n",
              "      <th>12777</th>\n",
              "      <td>3.7</td>\n",
              "      <td>Groupon</td>\n",
              "      <td>Software Development Engineer (SDE) II</td>\n",
              "      <td>2000000</td>\n",
              "      <td>8</td>\n",
              "      <td>Bangalore</td>\n",
              "      <td>Full Time</td>\n",
              "      <td>SDE</td>\n",
              "    </tr>\n",
              "    <tr>\n",
              "      <th>12797</th>\n",
              "      <td>3.3</td>\n",
              "      <td>Walmart</td>\n",
              "      <td>Software Development Engineer III</td>\n",
              "      <td>2200000</td>\n",
              "      <td>9</td>\n",
              "      <td>Bangalore</td>\n",
              "      <td>Full Time</td>\n",
              "      <td>SDE</td>\n",
              "    </tr>\n",
              "    <tr>\n",
              "      <th>12800</th>\n",
              "      <td>4.0</td>\n",
              "      <td>Zeta Suite</td>\n",
              "      <td>Software Development Engineer (SDE) II</td>\n",
              "      <td>1700000</td>\n",
              "      <td>8</td>\n",
              "      <td>Bangalore</td>\n",
              "      <td>Full Time</td>\n",
              "      <td>SDE</td>\n",
              "    </tr>\n",
              "    <tr>\n",
              "      <th>12813</th>\n",
              "      <td>3.3</td>\n",
              "      <td>Ola</td>\n",
              "      <td>Software Development Engineer-II</td>\n",
              "      <td>2300000</td>\n",
              "      <td>8</td>\n",
              "      <td>Bangalore</td>\n",
              "      <td>Full Time</td>\n",
              "      <td>SDE</td>\n",
              "    </tr>\n",
              "    <tr>\n",
              "      <th>12928</th>\n",
              "      <td>4.1</td>\n",
              "      <td>Swiggy</td>\n",
              "      <td>Software Development Engineer (SDE) II</td>\n",
              "      <td>2600000</td>\n",
              "      <td>8</td>\n",
              "      <td>Bangalore</td>\n",
              "      <td>Full Time</td>\n",
              "      <td>SDE</td>\n",
              "    </tr>\n",
              "    <tr>\n",
              "      <th>12953</th>\n",
              "      <td>4.0</td>\n",
              "      <td>Tesco Bengaluru</td>\n",
              "      <td>Software Development Engineer (SDE) II</td>\n",
              "      <td>2300000</td>\n",
              "      <td>9</td>\n",
              "      <td>Bangalore</td>\n",
              "      <td>Full Time</td>\n",
              "      <td>SDE</td>\n",
              "    </tr>\n",
              "    <tr>\n",
              "      <th>17834</th>\n",
              "      <td>3.8</td>\n",
              "      <td>Amazon</td>\n",
              "      <td>Software Development Engineer-II</td>\n",
              "      <td>2200000</td>\n",
              "      <td>8</td>\n",
              "      <td>New Delhi</td>\n",
              "      <td>Full Time</td>\n",
              "      <td>SDE</td>\n",
              "    </tr>\n",
              "  </tbody>\n",
              "</table>\n",
              "</div>"
            ],
            "text/plain": [
              "       Rating         Company Name                               Job Title   \n",
              "12528     4.1               Swiggy         Software Development Engineer I  \\\n",
              "12684     4.4            ShareChat     Software Development Engineer (SDE)   \n",
              "12754     3.5  Trilogy Innovations     Software Development Engineer (SDE)   \n",
              "12776     4.5            ZestMoney  Software Development Engineer (SDE) II   \n",
              "12777     3.7              Groupon  Software Development Engineer (SDE) II   \n",
              "12797     3.3              Walmart       Software Development Engineer III   \n",
              "12800     4.0           Zeta Suite  Software Development Engineer (SDE) II   \n",
              "12813     3.3                  Ola        Software Development Engineer-II   \n",
              "12928     4.1               Swiggy  Software Development Engineer (SDE) II   \n",
              "12953     4.0      Tesco Bengaluru  Software Development Engineer (SDE) II   \n",
              "17834     3.8               Amazon        Software Development Engineer-II   \n",
              "\n",
              "        Salary  Salaries Reported   Location Employment Status Job Roles  \n",
              "12528  1800000                  8  Bangalore         Full Time       SDE  \n",
              "12684  1800000                  8  Bangalore         Full Time       SDE  \n",
              "12754  2400000                  9  Bangalore         Full Time       SDE  \n",
              "12776  1600000                  9  Bangalore         Full Time       SDE  \n",
              "12777  2000000                  8  Bangalore         Full Time       SDE  \n",
              "12797  2200000                  9  Bangalore         Full Time       SDE  \n",
              "12800  1700000                  8  Bangalore         Full Time       SDE  \n",
              "12813  2300000                  8  Bangalore         Full Time       SDE  \n",
              "12928  2600000                  8  Bangalore         Full Time       SDE  \n",
              "12953  2300000                  9  Bangalore         Full Time       SDE  \n",
              "17834  2200000                  8  New Delhi         Full Time       SDE  "
            ]
          },
          "execution_count": 16,
          "metadata": {},
          "output_type": "execute_result"
        }
      ],
      "source": [
        "# filtrar cuando cumpla dos condiciones al mismo tiempo\n",
        "# or |\n",
        "# and &\n",
        "# not !\n",
        "df[(df.Salary>1500000) & (df[\"Salaries Reported\"].isin([8,9]))]"
      ]
    },
    {
      "attachments": {},
      "cell_type": "markdown",
      "metadata": {
        "id": "D3KjyZWBAmXF"
      },
      "source": [
        "## Eliminar valores ausentes/omitidos"
      ]
    },
    {
      "cell_type": "code",
      "execution_count": 22,
      "metadata": {
        "colab": {
          "base_uri": "https://localhost:8080/",
          "height": 554
        },
        "id": "AtiyAgH1Anb3",
        "outputId": "ffd40558-9a6e-409e-99c6-8d5778ead29b"
      },
      "outputs": [],
      "source": [
        "# drop : eliminar\n",
        "# na :  valores ausentes NULL, NaN, NA\n",
        "df.dropna(subset=[\"Company Name\"], axis=0, inplace=True) # eliminar filas con valores en ausentes en la columna indicada"
      ]
    },
    {
      "attachments": {},
      "cell_type": "markdown",
      "metadata": {
        "id": "DOEe6dUIA18c"
      },
      "source": [
        "## Limpieza de texto"
      ]
    },
    {
      "attachments": {},
      "cell_type": "markdown",
      "metadata": {
        "id": "a-M2kDHSBNVJ"
      },
      "source": [
        "* lower: Poner en minúscula todo el texto.\n",
        "* replace: Remplazar ciertos valores por otros.\n",
        "* strip: Eliminar los espacios al principio y al final de la cadena.\n",
        "* title: Poner primera letra de cada palabra en mayúscula."
      ]
    },
    {
      "cell_type": "code",
      "execution_count": 23,
      "metadata": {
        "colab": {
          "base_uri": "https://localhost:8080/",
          "height": 35
        },
        "id": "tSUyvbd8BY7O",
        "outputId": "30500cdc-793c-4e2b-8a41-b1ef7fb1bcda"
      },
      "outputs": [
        {
          "data": {
            "text/plain": [
              "' canción 9  '"
            ]
          },
          "execution_count": 23,
          "metadata": {},
          "output_type": "execute_result"
        }
      ],
      "source": [
        "txt = ' canción 9  '\n",
        "txt.lower()"
      ]
    },
    {
      "cell_type": "code",
      "execution_count": 24,
      "metadata": {
        "colab": {
          "base_uri": "https://localhost:8080/",
          "height": 35
        },
        "id": "emSNdxjDBYuS",
        "outputId": "88d639d8-7cf6-43b4-8eca-febd08ffe114"
      },
      "outputs": [
        {
          "data": {
            "text/plain": [
              "' CANCIÓN 9  '"
            ]
          },
          "execution_count": 24,
          "metadata": {},
          "output_type": "execute_result"
        }
      ],
      "source": [
        "txt = ' canción 9  '\n",
        "txt.upper()"
      ]
    },
    {
      "cell_type": "code",
      "execution_count": 25,
      "metadata": {
        "colab": {
          "base_uri": "https://localhost:8080/",
          "height": 35
        },
        "id": "zsoZc72iBYyM",
        "outputId": "6eb1ce72-e699-4eae-ddb0-176f13f34bcf"
      },
      "outputs": [
        {
          "data": {
            "text/plain": [
              "' kankión 9  '"
            ]
          },
          "execution_count": 25,
          "metadata": {},
          "output_type": "execute_result"
        }
      ],
      "source": [
        "txt = ' canción 9  '\n",
        "txt.replace(\"c\",\"k\")"
      ]
    },
    {
      "cell_type": "code",
      "execution_count": 26,
      "metadata": {
        "colab": {
          "base_uri": "https://localhost:8080/",
          "height": 35
        },
        "id": "3Jb40n45BYoD",
        "outputId": "ac1f2ad0-2295-48b4-e380-632efbc5fd43"
      },
      "outputs": [
        {
          "data": {
            "text/plain": [
              "'canción 9'"
            ]
          },
          "execution_count": 26,
          "metadata": {},
          "output_type": "execute_result"
        }
      ],
      "source": [
        "txt = ' canción 9  '\n",
        "txt.strip()"
      ]
    },
    {
      "cell_type": "code",
      "execution_count": 27,
      "metadata": {
        "colab": {
          "base_uri": "https://localhost:8080/",
          "height": 35
        },
        "id": "Vy3Cfgw3DHUR",
        "outputId": "fc1860f7-d3f8-44e9-ad9c-4f7251431d09"
      },
      "outputs": [
        {
          "data": {
            "text/plain": [
              "' Canción 9  '"
            ]
          },
          "execution_count": 27,
          "metadata": {},
          "output_type": "execute_result"
        }
      ],
      "source": [
        "txt = ' canción 9  '\n",
        "txt.title()"
      ]
    },
    {
      "cell_type": "code",
      "execution_count": 28,
      "metadata": {
        "id": "xbjsEgbahL_U"
      },
      "outputs": [
        {
          "data": {
            "text/html": [
              "<div>\n",
              "<style scoped>\n",
              "    .dataframe tbody tr th:only-of-type {\n",
              "        vertical-align: middle;\n",
              "    }\n",
              "\n",
              "    .dataframe tbody tr th {\n",
              "        vertical-align: top;\n",
              "    }\n",
              "\n",
              "    .dataframe thead th {\n",
              "        text-align: right;\n",
              "    }\n",
              "</style>\n",
              "<table border=\"1\" class=\"dataframe\">\n",
              "  <thead>\n",
              "    <tr style=\"text-align: right;\">\n",
              "      <th></th>\n",
              "      <th>Company Name</th>\n",
              "      <th>Company Name 2nd</th>\n",
              "    </tr>\n",
              "  </thead>\n",
              "  <tbody>\n",
              "    <tr>\n",
              "      <th>0</th>\n",
              "      <td>Sasken</td>\n",
              "      <td>Xxxaxxxken</td>\n",
              "    </tr>\n",
              "    <tr>\n",
              "      <th>1</th>\n",
              "      <td>Advanced Millennium Technologies</td>\n",
              "      <td>Advanced Millennium Technologiexxx</td>\n",
              "    </tr>\n",
              "    <tr>\n",
              "      <th>2</th>\n",
              "      <td>Unacademy</td>\n",
              "      <td>Unacademy</td>\n",
              "    </tr>\n",
              "    <tr>\n",
              "      <th>3</th>\n",
              "      <td>SnapBizz Cloudtech</td>\n",
              "      <td>Xxxnapbizz Cloudtech</td>\n",
              "    </tr>\n",
              "    <tr>\n",
              "      <th>4</th>\n",
              "      <td>Appoids Tech Solutions</td>\n",
              "      <td>Appoidxxx Tech Xxxolutionxxx</td>\n",
              "    </tr>\n",
              "    <tr>\n",
              "      <th>...</th>\n",
              "      <td>...</td>\n",
              "      <td>...</td>\n",
              "    </tr>\n",
              "    <tr>\n",
              "      <th>22765</th>\n",
              "      <td>Expert Solutions</td>\n",
              "      <td>Expert Xxxolutionxxx</td>\n",
              "    </tr>\n",
              "    <tr>\n",
              "      <th>22766</th>\n",
              "      <td>Nextgen Innovation Labs</td>\n",
              "      <td>Nextgen Innovation Labxxx</td>\n",
              "    </tr>\n",
              "    <tr>\n",
              "      <th>22767</th>\n",
              "      <td>Fresher</td>\n",
              "      <td>Frexxxher</td>\n",
              "    </tr>\n",
              "    <tr>\n",
              "      <th>22768</th>\n",
              "      <td>Accenture</td>\n",
              "      <td>Accenture</td>\n",
              "    </tr>\n",
              "    <tr>\n",
              "      <th>22769</th>\n",
              "      <td>Thomson Reuters</td>\n",
              "      <td>Thomxxxon Reuterxxx</td>\n",
              "    </tr>\n",
              "  </tbody>\n",
              "</table>\n",
              "<p>22769 rows × 2 columns</p>\n",
              "</div>"
            ],
            "text/plain": [
              "                           Company Name                    Company Name 2nd\n",
              "0                                Sasken                          Xxxaxxxken\n",
              "1      Advanced Millennium Technologies  Advanced Millennium Technologiexxx\n",
              "2                             Unacademy                           Unacademy\n",
              "3                    SnapBizz Cloudtech                Xxxnapbizz Cloudtech\n",
              "4                Appoids Tech Solutions        Appoidxxx Tech Xxxolutionxxx\n",
              "...                                 ...                                 ...\n",
              "22765                  Expert Solutions                Expert Xxxolutionxxx\n",
              "22766           Nextgen Innovation Labs           Nextgen Innovation Labxxx\n",
              "22767                           Fresher                           Frexxxher\n",
              "22768                         Accenture                           Accenture\n",
              "22769                   Thomson Reuters                 Thomxxxon Reuterxxx\n",
              "\n",
              "[22769 rows x 2 columns]"
            ]
          },
          "execution_count": 28,
          "metadata": {},
          "output_type": "execute_result"
        }
      ],
      "source": [
        "# generar nueva columna luego de realizar un tratamiento de texto\n",
        "df[\"Company Name 2nd\"] = df[\"Company Name\"].str.upper()\n",
        "df[\"Company Name 2nd\"] = df[\"Company Name 2nd\"].str.replace(\"S\",\"XXX\")\n",
        "df[\"Company Name 2nd\"] = df[\"Company Name 2nd\"].str.strip()\n",
        "df[\"Company Name 2nd\"] = df[\"Company Name 2nd\"].str.title()\n",
        "df[[\"Company Name\",\"Company Name 2nd\"]]"
      ]
    },
    {
      "cell_type": "code",
      "execution_count": 29,
      "metadata": {
        "colab": {
          "base_uri": "https://localhost:8080/",
          "height": 641
        },
        "id": "EQyTz884A7dM",
        "outputId": "410ec99d-fe13-4b68-ebfe-0d60d9c1f5a5"
      },
      "outputs": [
        {
          "data": {
            "text/html": [
              "<div>\n",
              "<style scoped>\n",
              "    .dataframe tbody tr th:only-of-type {\n",
              "        vertical-align: middle;\n",
              "    }\n",
              "\n",
              "    .dataframe tbody tr th {\n",
              "        vertical-align: top;\n",
              "    }\n",
              "\n",
              "    .dataframe thead th {\n",
              "        text-align: right;\n",
              "    }\n",
              "</style>\n",
              "<table border=\"1\" class=\"dataframe\">\n",
              "  <thead>\n",
              "    <tr style=\"text-align: right;\">\n",
              "      <th></th>\n",
              "      <th>Company Name</th>\n",
              "      <th>Company Name 2nd</th>\n",
              "    </tr>\n",
              "  </thead>\n",
              "  <tbody>\n",
              "    <tr>\n",
              "      <th>0</th>\n",
              "      <td>Sasken</td>\n",
              "      <td>Xxxaxxxken</td>\n",
              "    </tr>\n",
              "    <tr>\n",
              "      <th>1</th>\n",
              "      <td>Advanced Millennium Technologies</td>\n",
              "      <td>Advanced Millennium Technologiexxx</td>\n",
              "    </tr>\n",
              "    <tr>\n",
              "      <th>2</th>\n",
              "      <td>Unacademy</td>\n",
              "      <td>Unacademy</td>\n",
              "    </tr>\n",
              "    <tr>\n",
              "      <th>3</th>\n",
              "      <td>SnapBizz Cloudtech</td>\n",
              "      <td>Xxxnapbizz Cloudtech</td>\n",
              "    </tr>\n",
              "    <tr>\n",
              "      <th>4</th>\n",
              "      <td>Appoids Tech Solutions</td>\n",
              "      <td>Appoidxxx Tech Xxxolutionxxx</td>\n",
              "    </tr>\n",
              "    <tr>\n",
              "      <th>...</th>\n",
              "      <td>...</td>\n",
              "      <td>...</td>\n",
              "    </tr>\n",
              "    <tr>\n",
              "      <th>22765</th>\n",
              "      <td>Expert Solutions</td>\n",
              "      <td>Expert Xxxolutionxxx</td>\n",
              "    </tr>\n",
              "    <tr>\n",
              "      <th>22766</th>\n",
              "      <td>Nextgen Innovation Labs</td>\n",
              "      <td>Nextgen Innovation Labxxx</td>\n",
              "    </tr>\n",
              "    <tr>\n",
              "      <th>22767</th>\n",
              "      <td>Fresher</td>\n",
              "      <td>Frexxxher</td>\n",
              "    </tr>\n",
              "    <tr>\n",
              "      <th>22768</th>\n",
              "      <td>Accenture</td>\n",
              "      <td>Accenture</td>\n",
              "    </tr>\n",
              "    <tr>\n",
              "      <th>22769</th>\n",
              "      <td>Thomson Reuters</td>\n",
              "      <td>Thomxxxon Reuterxxx</td>\n",
              "    </tr>\n",
              "  </tbody>\n",
              "</table>\n",
              "<p>22769 rows × 2 columns</p>\n",
              "</div>"
            ],
            "text/plain": [
              "                           Company Name                    Company Name 2nd\n",
              "0                                Sasken                          Xxxaxxxken\n",
              "1      Advanced Millennium Technologies  Advanced Millennium Technologiexxx\n",
              "2                             Unacademy                           Unacademy\n",
              "3                    SnapBizz Cloudtech                Xxxnapbizz Cloudtech\n",
              "4                Appoids Tech Solutions        Appoidxxx Tech Xxxolutionxxx\n",
              "...                                 ...                                 ...\n",
              "22765                  Expert Solutions                Expert Xxxolutionxxx\n",
              "22766           Nextgen Innovation Labs           Nextgen Innovation Labxxx\n",
              "22767                           Fresher                           Frexxxher\n",
              "22768                         Accenture                           Accenture\n",
              "22769                   Thomson Reuters                 Thomxxxon Reuterxxx\n",
              "\n",
              "[22769 rows x 2 columns]"
            ]
          },
          "execution_count": 29,
          "metadata": {},
          "output_type": "execute_result"
        }
      ],
      "source": [
        "# generar nueva columna luego de realizar un tratamiento de texto\n",
        "\n",
        "df[\"Company Name 2nd\"] = (df[\"Company Name\"]\n",
        "                            .str.upper()# mayusculas\n",
        "                            .str.replace(\"S\",\"XXX\")\n",
        "                            .str.strip()\n",
        "                            .str.title()\n",
        "                           ) \n",
        "df[[\"Company Name\",\"Company Name 2nd\"]]"
      ]
    },
    {
      "attachments": {},
      "cell_type": "markdown",
      "metadata": {
        "id": "TJ-Fj4RODsHA"
      },
      "source": [
        "## Creación de columnas a partir de otras"
      ]
    },
    {
      "cell_type": "code",
      "execution_count": 30,
      "metadata": {
        "colab": {
          "base_uri": "https://localhost:8080/",
          "height": 728
        },
        "id": "tB-fQ1YRA7Z8",
        "outputId": "3af58fec-2160-4d9f-e514-065f2bd60afc"
      },
      "outputs": [
        {
          "data": {
            "text/html": [
              "<div>\n",
              "<style scoped>\n",
              "    .dataframe tbody tr th:only-of-type {\n",
              "        vertical-align: middle;\n",
              "    }\n",
              "\n",
              "    .dataframe tbody tr th {\n",
              "        vertical-align: top;\n",
              "    }\n",
              "\n",
              "    .dataframe thead th {\n",
              "        text-align: right;\n",
              "    }\n",
              "</style>\n",
              "<table border=\"1\" class=\"dataframe\">\n",
              "  <thead>\n",
              "    <tr style=\"text-align: right;\">\n",
              "      <th></th>\n",
              "      <th>Total income</th>\n",
              "      <th>Salary</th>\n",
              "      <th>Salaries Reported</th>\n",
              "    </tr>\n",
              "  </thead>\n",
              "  <tbody>\n",
              "    <tr>\n",
              "      <th>0</th>\n",
              "      <td>1200000</td>\n",
              "      <td>400000</td>\n",
              "      <td>3</td>\n",
              "    </tr>\n",
              "    <tr>\n",
              "      <th>1</th>\n",
              "      <td>1200000</td>\n",
              "      <td>400000</td>\n",
              "      <td>3</td>\n",
              "    </tr>\n",
              "    <tr>\n",
              "      <th>2</th>\n",
              "      <td>3000000</td>\n",
              "      <td>1000000</td>\n",
              "      <td>3</td>\n",
              "    </tr>\n",
              "    <tr>\n",
              "      <th>3</th>\n",
              "      <td>900000</td>\n",
              "      <td>300000</td>\n",
              "      <td>3</td>\n",
              "    </tr>\n",
              "    <tr>\n",
              "      <th>4</th>\n",
              "      <td>1800000</td>\n",
              "      <td>600000</td>\n",
              "      <td>3</td>\n",
              "    </tr>\n",
              "    <tr>\n",
              "      <th>...</th>\n",
              "      <td>...</td>\n",
              "      <td>...</td>\n",
              "      <td>...</td>\n",
              "    </tr>\n",
              "    <tr>\n",
              "      <th>22765</th>\n",
              "      <td>200000</td>\n",
              "      <td>200000</td>\n",
              "      <td>1</td>\n",
              "    </tr>\n",
              "    <tr>\n",
              "      <th>22766</th>\n",
              "      <td>300000</td>\n",
              "      <td>300000</td>\n",
              "      <td>1</td>\n",
              "    </tr>\n",
              "    <tr>\n",
              "      <th>22767</th>\n",
              "      <td>2496000</td>\n",
              "      <td>192000</td>\n",
              "      <td>13</td>\n",
              "    </tr>\n",
              "    <tr>\n",
              "      <th>22768</th>\n",
              "      <td>2100000</td>\n",
              "      <td>300000</td>\n",
              "      <td>7</td>\n",
              "    </tr>\n",
              "    <tr>\n",
              "      <th>22769</th>\n",
              "      <td>2100000</td>\n",
              "      <td>300000</td>\n",
              "      <td>7</td>\n",
              "    </tr>\n",
              "  </tbody>\n",
              "</table>\n",
              "<p>22769 rows × 3 columns</p>\n",
              "</div>"
            ],
            "text/plain": [
              "       Total income   Salary  Salaries Reported\n",
              "0           1200000   400000                  3\n",
              "1           1200000   400000                  3\n",
              "2           3000000  1000000                  3\n",
              "3            900000   300000                  3\n",
              "4           1800000   600000                  3\n",
              "...             ...      ...                ...\n",
              "22765        200000   200000                  1\n",
              "22766        300000   300000                  1\n",
              "22767       2496000   192000                 13\n",
              "22768       2100000   300000                  7\n",
              "22769       2100000   300000                  7\n",
              "\n",
              "[22769 rows x 3 columns]"
            ]
          },
          "execution_count": 30,
          "metadata": {},
          "output_type": "execute_result"
        }
      ],
      "source": [
        "df[\"Total income\"]= df[\"Salary\"]*df[\"Salaries Reported\"] # columna total ingreso es resultado de multiplicar dos columnas\n",
        "df[[\"Total income\",\"Salary\",\"Salaries Reported\"]]"
      ]
    },
    {
      "attachments": {},
      "cell_type": "markdown",
      "metadata": {
        "id": "i5TtNw6UERZY"
      },
      "source": [
        "## Renombrar columnas"
      ]
    },
    {
      "cell_type": "code",
      "execution_count": 31,
      "metadata": {
        "colab": {
          "base_uri": "https://localhost:8080/"
        },
        "id": "P12woPjSA7Wo",
        "outputId": "234625ec-a9e4-4470-c65c-0e80dec2131b"
      },
      "outputs": [
        {
          "name": "stdout",
          "output_type": "stream",
          "text": [
            "Index(['Rating', 'Company Name', 'Job Title', 'Salary', 'Salaries Reported',\n",
            "       'Location', 'Employment Status', 'Job Roles', 'Company Name 2nd',\n",
            "       'Total income'],\n",
            "      dtype='object')\n",
            "Index(['Rate', 'Company Name', 'Job Title', 'Salary', 'Salaries Reported',\n",
            "       'Location', 'Employment Status', 'Job Roles', 'Company Name 2nd',\n",
            "       'Total income'],\n",
            "      dtype='object')\n"
          ]
        }
      ],
      "source": [
        "print(df.columns) # muetsreme nombre original de las variables\n",
        "# renombrar columnas \n",
        "df.rename(columns={\"Rating\":\"Rate\"},inplace=True) # renombre una de las variables\n",
        "# inplace=True indica que aplique sobre el objeto sin necesidad de asignar\n",
        "print(df.columns) # muestreme como quedo despues de renombrar"
      ]
    },
    {
      "attachments": {},
      "cell_type": "markdown",
      "metadata": {
        "id": "LqeUUZjOEraB"
      },
      "source": [
        "## Modificar tipo de dato de una columna"
      ]
    },
    {
      "cell_type": "code",
      "execution_count": 32,
      "metadata": {
        "colab": {
          "base_uri": "https://localhost:8080/"
        },
        "id": "oVVnnClMEuis",
        "outputId": "0b0c63f6-2b40-460a-869e-437df3302ceb"
      },
      "outputs": [
        {
          "name": "stdout",
          "output_type": "stream",
          "text": [
            "<class 'pandas.core.frame.DataFrame'>\n",
            "Index: 22769 entries, 0 to 22769\n",
            "Data columns (total 10 columns):\n",
            " #   Column             Non-Null Count  Dtype  \n",
            "---  ------             --------------  -----  \n",
            " 0   Rate               22769 non-null  float64\n",
            " 1   Company Name       22769 non-null  object \n",
            " 2   Job Title          22769 non-null  object \n",
            " 3   Salary             22769 non-null  int64  \n",
            " 4   Salaries Reported  22769 non-null  int64  \n",
            " 5   Location           22769 non-null  object \n",
            " 6   Employment Status  22769 non-null  object \n",
            " 7   Job Roles          22769 non-null  object \n",
            " 8   Company Name 2nd   22769 non-null  object \n",
            " 9   Total income       22769 non-null  int64  \n",
            "dtypes: float64(1), int64(3), object(6)\n",
            "memory usage: 1.9+ MB\n",
            "None\n",
            "\n",
            "\n",
            "<class 'pandas.core.frame.DataFrame'>\n",
            "Index: 22769 entries, 0 to 22769\n",
            "Data columns (total 10 columns):\n",
            " #   Column             Non-Null Count  Dtype \n",
            "---  ------             --------------  ----- \n",
            " 0   Rate               22769 non-null  object\n",
            " 1   Company Name       22769 non-null  object\n",
            " 2   Job Title          22769 non-null  object\n",
            " 3   Salary             22769 non-null  int64 \n",
            " 4   Salaries Reported  22769 non-null  int64 \n",
            " 5   Location           22769 non-null  object\n",
            " 6   Employment Status  22769 non-null  object\n",
            " 7   Job Roles          22769 non-null  object\n",
            " 8   Company Name 2nd   22769 non-null  object\n",
            " 9   Total income       22769 non-null  int64 \n",
            "dtypes: int64(3), object(7)\n",
            "memory usage: 1.9+ MB\n",
            "None\n"
          ]
        }
      ],
      "source": [
        "print(df.info())\n",
        "print(\"\\n\")\n",
        "df[\"Rate\"]=df[\"Rate\"].astype(\"str\") # modificar el tipo de dato que tiene una columnas\n",
        "print(df.info())"
      ]
    },
    {
      "cell_type": "code",
      "execution_count": 33,
      "metadata": {},
      "outputs": [
        {
          "name": "stdout",
          "output_type": "stream",
          "text": [
            "<class 'pandas.core.frame.DataFrame'>\n",
            "Index: 22769 entries, 0 to 22769\n",
            "Data columns (total 10 columns):\n",
            " #   Column             Non-Null Count  Dtype \n",
            "---  ------             --------------  ----- \n",
            " 0   Rate               22769 non-null  object\n",
            " 1   Company Name       22769 non-null  object\n",
            " 2   Job Title          22769 non-null  object\n",
            " 3   Salary             22769 non-null  int64 \n",
            " 4   Salaries Reported  22769 non-null  int64 \n",
            " 5   Location           22769 non-null  object\n",
            " 6   Employment Status  22769 non-null  object\n",
            " 7   Job Roles          22769 non-null  object\n",
            " 8   Company Name 2nd   22769 non-null  object\n",
            " 9   Total income       22769 non-null  int64 \n",
            "dtypes: int64(3), object(7)\n",
            "memory usage: 1.9+ MB\n",
            "None\n"
          ]
        }
      ],
      "source": [
        "print(df.info())"
      ]
    },
    {
      "attachments": {},
      "cell_type": "markdown",
      "metadata": {
        "id": "t1c0EmK6FIyO"
      },
      "source": [
        "## Eliminar filas"
      ]
    },
    {
      "cell_type": "code",
      "execution_count": 34,
      "metadata": {
        "colab": {
          "base_uri": "https://localhost:8080/"
        },
        "id": "GPqMiAdtFJda",
        "outputId": "a6192544-c4ac-46ba-b6d6-5f545b09c77b"
      },
      "outputs": [
        {
          "name": "stdout",
          "output_type": "stream",
          "text": [
            "Antes : (22769, 10).\n",
            "Luego : (22766, 10).\n"
          ]
        }
      ],
      "source": [
        "print(\"Antes : {0}.\".format(df.shape))\n",
        "# como borrar filas/columnas de un datframe\n",
        "df = df.drop(df.iloc[0:3,].index) # drop : eliminar/borrar\n",
        "print(\"Luego : {0}.\".format(df.shape))"
      ]
    },
    {
      "cell_type": "code",
      "execution_count": 35,
      "metadata": {
        "colab": {
          "base_uri": "https://localhost:8080/",
          "height": 424
        },
        "id": "sMuiF1tLM45j",
        "outputId": "003ce068-e19c-4cda-c761-71ccc783aa2c"
      },
      "outputs": [
        {
          "data": {
            "text/html": [
              "<div>\n",
              "<style scoped>\n",
              "    .dataframe tbody tr th:only-of-type {\n",
              "        vertical-align: middle;\n",
              "    }\n",
              "\n",
              "    .dataframe tbody tr th {\n",
              "        vertical-align: top;\n",
              "    }\n",
              "\n",
              "    .dataframe thead th {\n",
              "        text-align: right;\n",
              "    }\n",
              "</style>\n",
              "<table border=\"1\" class=\"dataframe\">\n",
              "  <thead>\n",
              "    <tr style=\"text-align: right;\">\n",
              "      <th></th>\n",
              "      <th>Rate</th>\n",
              "      <th>Company Name</th>\n",
              "      <th>Job Title</th>\n",
              "      <th>Salary</th>\n",
              "      <th>Salaries Reported</th>\n",
              "      <th>Location</th>\n",
              "      <th>Employment Status</th>\n",
              "      <th>Job Roles</th>\n",
              "      <th>Company Name 2nd</th>\n",
              "      <th>Total income</th>\n",
              "    </tr>\n",
              "  </thead>\n",
              "  <tbody>\n",
              "    <tr>\n",
              "      <th>3</th>\n",
              "      <td>3.8</td>\n",
              "      <td>SnapBizz Cloudtech</td>\n",
              "      <td>Android Developer</td>\n",
              "      <td>300000</td>\n",
              "      <td>3</td>\n",
              "      <td>Bangalore</td>\n",
              "      <td>Full Time</td>\n",
              "      <td>Android</td>\n",
              "      <td>Xxxnapbizz Cloudtech</td>\n",
              "      <td>900000</td>\n",
              "    </tr>\n",
              "    <tr>\n",
              "      <th>13</th>\n",
              "      <td>4.8</td>\n",
              "      <td>Retail Pulse</td>\n",
              "      <td>Android Developer - Intern</td>\n",
              "      <td>24000</td>\n",
              "      <td>2</td>\n",
              "      <td>Bangalore</td>\n",
              "      <td>Intern</td>\n",
              "      <td>Android</td>\n",
              "      <td>Retail Pulxxxe</td>\n",
              "      <td>48000</td>\n",
              "    </tr>\n",
              "    <tr>\n",
              "      <th>115</th>\n",
              "      <td>3.6</td>\n",
              "      <td>Quess</td>\n",
              "      <td>Android Developer - Contractor</td>\n",
              "      <td>700000</td>\n",
              "      <td>1</td>\n",
              "      <td>Bangalore</td>\n",
              "      <td>Contractor</td>\n",
              "      <td>Android</td>\n",
              "      <td>Quexxxxxx</td>\n",
              "      <td>700000</td>\n",
              "    </tr>\n",
              "    <tr>\n",
              "      <th>270</th>\n",
              "      <td>3.5</td>\n",
              "      <td>Appface</td>\n",
              "      <td>Android Developer Contractor</td>\n",
              "      <td>168000</td>\n",
              "      <td>1</td>\n",
              "      <td>Bangalore</td>\n",
              "      <td>Contractor</td>\n",
              "      <td>Android</td>\n",
              "      <td>Appface</td>\n",
              "      <td>168000</td>\n",
              "    </tr>\n",
              "    <tr>\n",
              "      <th>594</th>\n",
              "      <td>4.1</td>\n",
              "      <td>Accenture</td>\n",
              "      <td>Senior Android Developer</td>\n",
              "      <td>700000</td>\n",
              "      <td>5</td>\n",
              "      <td>Bangalore</td>\n",
              "      <td>Full Time</td>\n",
              "      <td>Android</td>\n",
              "      <td>Accenture</td>\n",
              "      <td>3500000</td>\n",
              "    </tr>\n",
              "    <tr>\n",
              "      <th>...</th>\n",
              "      <td>...</td>\n",
              "      <td>...</td>\n",
              "      <td>...</td>\n",
              "      <td>...</td>\n",
              "      <td>...</td>\n",
              "      <td>...</td>\n",
              "      <td>...</td>\n",
              "      <td>...</td>\n",
              "      <td>...</td>\n",
              "      <td>...</td>\n",
              "    </tr>\n",
              "    <tr>\n",
              "      <th>21806</th>\n",
              "      <td>4.1</td>\n",
              "      <td>First Student</td>\n",
              "      <td>Web Developer - Intern</td>\n",
              "      <td>60000</td>\n",
              "      <td>3</td>\n",
              "      <td>Bangalore</td>\n",
              "      <td>Intern</td>\n",
              "      <td>Web</td>\n",
              "      <td>Firxxxt Xxxtudent</td>\n",
              "      <td>180000</td>\n",
              "    </tr>\n",
              "    <tr>\n",
              "      <th>21965</th>\n",
              "      <td>4.0</td>\n",
              "      <td>Self</td>\n",
              "      <td>Web Developer - Contractor</td>\n",
              "      <td>400000</td>\n",
              "      <td>1</td>\n",
              "      <td>Bangalore</td>\n",
              "      <td>Contractor</td>\n",
              "      <td>Web</td>\n",
              "      <td>Xxxelf</td>\n",
              "      <td>400000</td>\n",
              "    </tr>\n",
              "    <tr>\n",
              "      <th>22088</th>\n",
              "      <td>4.0</td>\n",
              "      <td>DoozieSoft</td>\n",
              "      <td>Web Developer Contractor</td>\n",
              "      <td>120000</td>\n",
              "      <td>1</td>\n",
              "      <td>Bangalore</td>\n",
              "      <td>Contractor</td>\n",
              "      <td>Web</td>\n",
              "      <td>Dooziexxxoft</td>\n",
              "      <td>120000</td>\n",
              "    </tr>\n",
              "    <tr>\n",
              "      <th>22767</th>\n",
              "      <td>4.1</td>\n",
              "      <td>Fresher</td>\n",
              "      <td>Full Stack Web Developer</td>\n",
              "      <td>192000</td>\n",
              "      <td>13</td>\n",
              "      <td>Bangalore</td>\n",
              "      <td>Full Time</td>\n",
              "      <td>Web</td>\n",
              "      <td>Frexxxher</td>\n",
              "      <td>2496000</td>\n",
              "    </tr>\n",
              "    <tr>\n",
              "      <th>22769</th>\n",
              "      <td>3.8</td>\n",
              "      <td>Thomson Reuters</td>\n",
              "      <td>Associate Web Developer</td>\n",
              "      <td>300000</td>\n",
              "      <td>7</td>\n",
              "      <td>Bangalore</td>\n",
              "      <td>Full Time</td>\n",
              "      <td>Web</td>\n",
              "      <td>Thomxxxon Reuterxxx</td>\n",
              "      <td>2100000</td>\n",
              "    </tr>\n",
              "  </tbody>\n",
              "</table>\n",
              "<p>1080 rows × 10 columns</p>\n",
              "</div>"
            ],
            "text/plain": [
              "      Rate        Company Name                       Job Title  Salary   \n",
              "3      3.8  SnapBizz Cloudtech               Android Developer  300000  \\\n",
              "13     4.8        Retail Pulse      Android Developer - Intern   24000   \n",
              "115    3.6               Quess  Android Developer - Contractor  700000   \n",
              "270    3.5             Appface    Android Developer Contractor  168000   \n",
              "594    4.1           Accenture        Senior Android Developer  700000   \n",
              "...    ...                 ...                             ...     ...   \n",
              "21806  4.1       First Student          Web Developer - Intern   60000   \n",
              "21965  4.0                Self      Web Developer - Contractor  400000   \n",
              "22088  4.0          DoozieSoft        Web Developer Contractor  120000   \n",
              "22767  4.1             Fresher        Full Stack Web Developer  192000   \n",
              "22769  3.8     Thomson Reuters         Associate Web Developer  300000   \n",
              "\n",
              "       Salaries Reported   Location Employment Status Job Roles   \n",
              "3                      3  Bangalore         Full Time   Android  \\\n",
              "13                     2  Bangalore            Intern   Android   \n",
              "115                    1  Bangalore        Contractor   Android   \n",
              "270                    1  Bangalore        Contractor   Android   \n",
              "594                    5  Bangalore         Full Time   Android   \n",
              "...                  ...        ...               ...       ...   \n",
              "21806                  3  Bangalore            Intern       Web   \n",
              "21965                  1  Bangalore        Contractor       Web   \n",
              "22088                  1  Bangalore        Contractor       Web   \n",
              "22767                 13  Bangalore         Full Time       Web   \n",
              "22769                  7  Bangalore         Full Time       Web   \n",
              "\n",
              "           Company Name 2nd  Total income  \n",
              "3      Xxxnapbizz Cloudtech        900000  \n",
              "13           Retail Pulxxxe         48000  \n",
              "115               Quexxxxxx        700000  \n",
              "270                 Appface        168000  \n",
              "594               Accenture       3500000  \n",
              "...                     ...           ...  \n",
              "21806     Firxxxt Xxxtudent        180000  \n",
              "21965                Xxxelf        400000  \n",
              "22088          Dooziexxxoft        120000  \n",
              "22767             Frexxxher       2496000  \n",
              "22769   Thomxxxon Reuterxxx       2100000  \n",
              "\n",
              "[1080 rows x 10 columns]"
            ]
          },
          "execution_count": 35,
          "metadata": {},
          "output_type": "execute_result"
        }
      ],
      "source": [
        "# eliminar duplicados\n",
        "df.drop_duplicates(subset='Job Title' , inplace=False)"
      ]
    },
    {
      "attachments": {},
      "cell_type": "markdown",
      "metadata": {
        "id": "T3JiVgI2Fp5P"
      },
      "source": [
        "# Eliminar columnas"
      ]
    },
    {
      "cell_type": "code",
      "execution_count": 36,
      "metadata": {
        "colab": {
          "base_uri": "https://localhost:8080/"
        },
        "id": "fOEkShMlFJNF",
        "outputId": "98c65de7-3b4a-47e9-ca5c-c544b8c99572"
      },
      "outputs": [
        {
          "name": "stdout",
          "output_type": "stream",
          "text": [
            "Antes : (22766, 10).\n",
            "Luego : (22766, 9).\n"
          ]
        }
      ],
      "source": [
        "print(\"Antes : {0}.\".format(df.shape))\n",
        "# eliminar filas/columnas\n",
        "df = df.drop(columns=['Employment Status'])\n",
        "print(\"Luego : {0}.\".format(df.shape))"
      ]
    },
    {
      "attachments": {},
      "cell_type": "markdown",
      "metadata": {
        "id": "Kh5M2NYFGjee"
      },
      "source": [
        "## Ordenar dataframes"
      ]
    },
    {
      "cell_type": "code",
      "execution_count": 37,
      "metadata": {
        "colab": {
          "base_uri": "https://localhost:8080/",
          "height": 424
        },
        "id": "BhWToxMMGqg4",
        "outputId": "8c3126bc-69bb-4ac1-8777-8b31ff3e8680"
      },
      "outputs": [
        {
          "data": {
            "text/html": [
              "<div>\n",
              "<style scoped>\n",
              "    .dataframe tbody tr th:only-of-type {\n",
              "        vertical-align: middle;\n",
              "    }\n",
              "\n",
              "    .dataframe tbody tr th {\n",
              "        vertical-align: top;\n",
              "    }\n",
              "\n",
              "    .dataframe thead th {\n",
              "        text-align: right;\n",
              "    }\n",
              "</style>\n",
              "<table border=\"1\" class=\"dataframe\">\n",
              "  <thead>\n",
              "    <tr style=\"text-align: right;\">\n",
              "      <th></th>\n",
              "      <th>Rate</th>\n",
              "      <th>Company Name</th>\n",
              "      <th>Job Title</th>\n",
              "      <th>Salary</th>\n",
              "      <th>Salaries Reported</th>\n",
              "      <th>Location</th>\n",
              "      <th>Job Roles</th>\n",
              "      <th>Company Name 2nd</th>\n",
              "      <th>Total income</th>\n",
              "    </tr>\n",
              "  </thead>\n",
              "  <tbody>\n",
              "    <tr>\n",
              "      <th>18635</th>\n",
              "      <td>3.6</td>\n",
              "      <td>Thapar University</td>\n",
              "      <td>Software Development Engineer (SDE)</td>\n",
              "      <td>90000000</td>\n",
              "      <td>1</td>\n",
              "      <td>New Delhi</td>\n",
              "      <td>SDE</td>\n",
              "      <td>Thapar Univerxxxity</td>\n",
              "      <td>90000000</td>\n",
              "    </tr>\n",
              "    <tr>\n",
              "      <th>9260</th>\n",
              "      <td>3.6</td>\n",
              "      <td>OASYS Cybernetics</td>\n",
              "      <td>Senior Java Developer</td>\n",
              "      <td>10000000</td>\n",
              "      <td>1</td>\n",
              "      <td>Chennai</td>\n",
              "      <td>Java</td>\n",
              "      <td>Oaxxxyxxx Cyberneticxxx</td>\n",
              "      <td>10000000</td>\n",
              "    </tr>\n",
              "    <tr>\n",
              "      <th>7121</th>\n",
              "      <td>3.5</td>\n",
              "      <td>Koru UX Design</td>\n",
              "      <td>Senior Front End Developer</td>\n",
              "      <td>10000000</td>\n",
              "      <td>1</td>\n",
              "      <td>Pune</td>\n",
              "      <td>Frontend</td>\n",
              "      <td>Koru Ux Dexxxign</td>\n",
              "      <td>10000000</td>\n",
              "    </tr>\n",
              "    <tr>\n",
              "      <th>4471</th>\n",
              "      <td>3.8</td>\n",
              "      <td>Concentrix</td>\n",
              "      <td>Oracle Database Administrator</td>\n",
              "      <td>10000000</td>\n",
              "      <td>1</td>\n",
              "      <td>Bangalore</td>\n",
              "      <td>Database</td>\n",
              "      <td>Concentrix</td>\n",
              "      <td>10000000</td>\n",
              "    </tr>\n",
              "    <tr>\n",
              "      <th>5819</th>\n",
              "      <td>3.7</td>\n",
              "      <td>Nityo Infotech</td>\n",
              "      <td>Lead UI Designer, Magento Front-end Developer</td>\n",
              "      <td>9900000</td>\n",
              "      <td>1</td>\n",
              "      <td>Bangalore</td>\n",
              "      <td>Frontend</td>\n",
              "      <td>Nityo Infotech</td>\n",
              "      <td>9900000</td>\n",
              "    </tr>\n",
              "    <tr>\n",
              "      <th>...</th>\n",
              "      <td>...</td>\n",
              "      <td>...</td>\n",
              "      <td>...</td>\n",
              "      <td>...</td>\n",
              "      <td>...</td>\n",
              "      <td>...</td>\n",
              "      <td>...</td>\n",
              "      <td>...</td>\n",
              "      <td>...</td>\n",
              "    </tr>\n",
              "    <tr>\n",
              "      <th>22028</th>\n",
              "      <td>3.9</td>\n",
              "      <td>Yes Bank</td>\n",
              "      <td>Web Developer</td>\n",
              "      <td>12000</td>\n",
              "      <td>1</td>\n",
              "      <td>Bangalore</td>\n",
              "      <td>Web</td>\n",
              "      <td>Yexxx Bank</td>\n",
              "      <td>12000</td>\n",
              "    </tr>\n",
              "    <tr>\n",
              "      <th>18429</th>\n",
              "      <td>4.0</td>\n",
              "      <td>....</td>\n",
              "      <td>Software Development Engineer (SDE)</td>\n",
              "      <td>12000</td>\n",
              "      <td>1</td>\n",
              "      <td>New Delhi</td>\n",
              "      <td>SDE</td>\n",
              "      <td>....</td>\n",
              "      <td>12000</td>\n",
              "    </tr>\n",
              "    <tr>\n",
              "      <th>7514</th>\n",
              "      <td>3.9</td>\n",
              "      <td>Al-Jazirah</td>\n",
              "      <td>Senior IOS Developer</td>\n",
              "      <td>12000</td>\n",
              "      <td>1</td>\n",
              "      <td>Bangalore</td>\n",
              "      <td>IOS</td>\n",
              "      <td>Al-Jazirah</td>\n",
              "      <td>12000</td>\n",
              "    </tr>\n",
              "    <tr>\n",
              "      <th>9937</th>\n",
              "      <td>3.7</td>\n",
              "      <td>Virtusa</td>\n",
              "      <td>Junior Java Developer</td>\n",
              "      <td>8448</td>\n",
              "      <td>5</td>\n",
              "      <td>Hyderabad</td>\n",
              "      <td>Java</td>\n",
              "      <td>Virtuxxxa</td>\n",
              "      <td>42240</td>\n",
              "    </tr>\n",
              "    <tr>\n",
              "      <th>22563</th>\n",
              "      <td>2.6</td>\n",
              "      <td>Keeves Technologies</td>\n",
              "      <td>Web Developer - Intern</td>\n",
              "      <td>2112</td>\n",
              "      <td>1</td>\n",
              "      <td>Bangalore</td>\n",
              "      <td>Web</td>\n",
              "      <td>Keevexxx Technologiexxx</td>\n",
              "      <td>2112</td>\n",
              "    </tr>\n",
              "  </tbody>\n",
              "</table>\n",
              "<p>22766 rows × 9 columns</p>\n",
              "</div>"
            ],
            "text/plain": [
              "      Rate         Company Name   \n",
              "18635  3.6    Thapar University  \\\n",
              "9260   3.6    OASYS Cybernetics   \n",
              "7121   3.5       Koru UX Design   \n",
              "4471   3.8           Concentrix   \n",
              "5819   3.7       Nityo Infotech   \n",
              "...    ...                  ...   \n",
              "22028  3.9             Yes Bank   \n",
              "18429  4.0                 ....   \n",
              "7514   3.9           Al-Jazirah   \n",
              "9937   3.7              Virtusa   \n",
              "22563  2.6  Keeves Technologies   \n",
              "\n",
              "                                           Job Title    Salary   \n",
              "18635            Software Development Engineer (SDE)  90000000  \\\n",
              "9260                           Senior Java Developer  10000000   \n",
              "7121                      Senior Front End Developer  10000000   \n",
              "4471                   Oracle Database Administrator  10000000   \n",
              "5819   Lead UI Designer, Magento Front-end Developer   9900000   \n",
              "...                                              ...       ...   \n",
              "22028                                  Web Developer     12000   \n",
              "18429            Software Development Engineer (SDE)     12000   \n",
              "7514                            Senior IOS Developer     12000   \n",
              "9937                           Junior Java Developer      8448   \n",
              "22563                         Web Developer - Intern      2112   \n",
              "\n",
              "       Salaries Reported   Location Job Roles         Company Name 2nd   \n",
              "18635                  1  New Delhi       SDE      Thapar Univerxxxity  \\\n",
              "9260                   1    Chennai      Java  Oaxxxyxxx Cyberneticxxx   \n",
              "7121                   1       Pune  Frontend         Koru Ux Dexxxign   \n",
              "4471                   1  Bangalore  Database               Concentrix   \n",
              "5819                   1  Bangalore  Frontend           Nityo Infotech   \n",
              "...                  ...        ...       ...                      ...   \n",
              "22028                  1  Bangalore       Web               Yexxx Bank   \n",
              "18429                  1  New Delhi       SDE                     ....   \n",
              "7514                   1  Bangalore       IOS               Al-Jazirah   \n",
              "9937                   5  Hyderabad      Java                Virtuxxxa   \n",
              "22563                  1  Bangalore       Web  Keevexxx Technologiexxx   \n",
              "\n",
              "       Total income  \n",
              "18635      90000000  \n",
              "9260       10000000  \n",
              "7121       10000000  \n",
              "4471       10000000  \n",
              "5819        9900000  \n",
              "...             ...  \n",
              "22028         12000  \n",
              "18429         12000  \n",
              "7514          12000  \n",
              "9937          42240  \n",
              "22563          2112  \n",
              "\n",
              "[22766 rows x 9 columns]"
            ]
          },
          "execution_count": 37,
          "metadata": {},
          "output_type": "execute_result"
        }
      ],
      "source": [
        "df.sort_values([\"Salary\"], ascending=False)"
      ]
    },
    {
      "cell_type": "code",
      "execution_count": 38,
      "metadata": {
        "colab": {
          "base_uri": "https://localhost:8080/",
          "height": 424
        },
        "id": "S5N2PRBkGqTm",
        "outputId": "355f4393-e3fd-4e5d-9138-fae97fbc02c2"
      },
      "outputs": [
        {
          "data": {
            "text/html": [
              "<div>\n",
              "<style scoped>\n",
              "    .dataframe tbody tr th:only-of-type {\n",
              "        vertical-align: middle;\n",
              "    }\n",
              "\n",
              "    .dataframe tbody tr th {\n",
              "        vertical-align: top;\n",
              "    }\n",
              "\n",
              "    .dataframe thead th {\n",
              "        text-align: right;\n",
              "    }\n",
              "</style>\n",
              "<table border=\"1\" class=\"dataframe\">\n",
              "  <thead>\n",
              "    <tr style=\"text-align: right;\">\n",
              "      <th></th>\n",
              "      <th>Rate</th>\n",
              "      <th>Company Name</th>\n",
              "      <th>Job Title</th>\n",
              "      <th>Salary</th>\n",
              "      <th>Salaries Reported</th>\n",
              "      <th>Location</th>\n",
              "      <th>Job Roles</th>\n",
              "      <th>Company Name 2nd</th>\n",
              "      <th>Total income</th>\n",
              "    </tr>\n",
              "  </thead>\n",
              "  <tbody>\n",
              "    <tr>\n",
              "      <th>22563</th>\n",
              "      <td>2.6</td>\n",
              "      <td>Keeves Technologies</td>\n",
              "      <td>Web Developer - Intern</td>\n",
              "      <td>2112</td>\n",
              "      <td>1</td>\n",
              "      <td>Bangalore</td>\n",
              "      <td>Web</td>\n",
              "      <td>Keevexxx Technologiexxx</td>\n",
              "      <td>2112</td>\n",
              "    </tr>\n",
              "    <tr>\n",
              "      <th>9937</th>\n",
              "      <td>3.7</td>\n",
              "      <td>Virtusa</td>\n",
              "      <td>Junior Java Developer</td>\n",
              "      <td>8448</td>\n",
              "      <td>5</td>\n",
              "      <td>Hyderabad</td>\n",
              "      <td>Java</td>\n",
              "      <td>Virtuxxxa</td>\n",
              "      <td>42240</td>\n",
              "    </tr>\n",
              "    <tr>\n",
              "      <th>10316</th>\n",
              "      <td>3.9</td>\n",
              "      <td>Awign Enterprises</td>\n",
              "      <td>Senior Java Developer Contractor</td>\n",
              "      <td>12000</td>\n",
              "      <td>1</td>\n",
              "      <td>Hyderabad</td>\n",
              "      <td>Java</td>\n",
              "      <td>Awign Enterprixxxexxx</td>\n",
              "      <td>12000</td>\n",
              "    </tr>\n",
              "    <tr>\n",
              "      <th>2472</th>\n",
              "      <td>3.5</td>\n",
              "      <td>Acmatics Technologies</td>\n",
              "      <td>Android Developer</td>\n",
              "      <td>12000</td>\n",
              "      <td>1</td>\n",
              "      <td>New Delhi</td>\n",
              "      <td>Android</td>\n",
              "      <td>Acmaticxxx Technologiexxx</td>\n",
              "      <td>12000</td>\n",
              "    </tr>\n",
              "    <tr>\n",
              "      <th>22028</th>\n",
              "      <td>3.9</td>\n",
              "      <td>Yes Bank</td>\n",
              "      <td>Web Developer</td>\n",
              "      <td>12000</td>\n",
              "      <td>1</td>\n",
              "      <td>Bangalore</td>\n",
              "      <td>Web</td>\n",
              "      <td>Yexxx Bank</td>\n",
              "      <td>12000</td>\n",
              "    </tr>\n",
              "    <tr>\n",
              "      <th>...</th>\n",
              "      <td>...</td>\n",
              "      <td>...</td>\n",
              "      <td>...</td>\n",
              "      <td>...</td>\n",
              "      <td>...</td>\n",
              "      <td>...</td>\n",
              "      <td>...</td>\n",
              "      <td>...</td>\n",
              "      <td>...</td>\n",
              "    </tr>\n",
              "    <tr>\n",
              "      <th>5819</th>\n",
              "      <td>3.7</td>\n",
              "      <td>Nityo Infotech</td>\n",
              "      <td>Lead UI Designer, Magento Front-end Developer</td>\n",
              "      <td>9900000</td>\n",
              "      <td>1</td>\n",
              "      <td>Bangalore</td>\n",
              "      <td>Frontend</td>\n",
              "      <td>Nityo Infotech</td>\n",
              "      <td>9900000</td>\n",
              "    </tr>\n",
              "    <tr>\n",
              "      <th>4471</th>\n",
              "      <td>3.8</td>\n",
              "      <td>Concentrix</td>\n",
              "      <td>Oracle Database Administrator</td>\n",
              "      <td>10000000</td>\n",
              "      <td>1</td>\n",
              "      <td>Bangalore</td>\n",
              "      <td>Database</td>\n",
              "      <td>Concentrix</td>\n",
              "      <td>10000000</td>\n",
              "    </tr>\n",
              "    <tr>\n",
              "      <th>9260</th>\n",
              "      <td>3.6</td>\n",
              "      <td>OASYS Cybernetics</td>\n",
              "      <td>Senior Java Developer</td>\n",
              "      <td>10000000</td>\n",
              "      <td>1</td>\n",
              "      <td>Chennai</td>\n",
              "      <td>Java</td>\n",
              "      <td>Oaxxxyxxx Cyberneticxxx</td>\n",
              "      <td>10000000</td>\n",
              "    </tr>\n",
              "    <tr>\n",
              "      <th>7121</th>\n",
              "      <td>3.5</td>\n",
              "      <td>Koru UX Design</td>\n",
              "      <td>Senior Front End Developer</td>\n",
              "      <td>10000000</td>\n",
              "      <td>1</td>\n",
              "      <td>Pune</td>\n",
              "      <td>Frontend</td>\n",
              "      <td>Koru Ux Dexxxign</td>\n",
              "      <td>10000000</td>\n",
              "    </tr>\n",
              "    <tr>\n",
              "      <th>18635</th>\n",
              "      <td>3.6</td>\n",
              "      <td>Thapar University</td>\n",
              "      <td>Software Development Engineer (SDE)</td>\n",
              "      <td>90000000</td>\n",
              "      <td>1</td>\n",
              "      <td>New Delhi</td>\n",
              "      <td>SDE</td>\n",
              "      <td>Thapar Univerxxxity</td>\n",
              "      <td>90000000</td>\n",
              "    </tr>\n",
              "  </tbody>\n",
              "</table>\n",
              "<p>22766 rows × 9 columns</p>\n",
              "</div>"
            ],
            "text/plain": [
              "      Rate           Company Name   \n",
              "22563  2.6    Keeves Technologies  \\\n",
              "9937   3.7                Virtusa   \n",
              "10316  3.9      Awign Enterprises   \n",
              "2472   3.5  Acmatics Technologies   \n",
              "22028  3.9               Yes Bank   \n",
              "...    ...                    ...   \n",
              "5819   3.7         Nityo Infotech   \n",
              "4471   3.8             Concentrix   \n",
              "9260   3.6      OASYS Cybernetics   \n",
              "7121   3.5         Koru UX Design   \n",
              "18635  3.6      Thapar University   \n",
              "\n",
              "                                           Job Title    Salary   \n",
              "22563                         Web Developer - Intern      2112  \\\n",
              "9937                           Junior Java Developer      8448   \n",
              "10316               Senior Java Developer Contractor     12000   \n",
              "2472                               Android Developer     12000   \n",
              "22028                                  Web Developer     12000   \n",
              "...                                              ...       ...   \n",
              "5819   Lead UI Designer, Magento Front-end Developer   9900000   \n",
              "4471                   Oracle Database Administrator  10000000   \n",
              "9260                           Senior Java Developer  10000000   \n",
              "7121                      Senior Front End Developer  10000000   \n",
              "18635            Software Development Engineer (SDE)  90000000   \n",
              "\n",
              "       Salaries Reported   Location Job Roles           Company Name 2nd   \n",
              "22563                  1  Bangalore       Web    Keevexxx Technologiexxx  \\\n",
              "9937                   5  Hyderabad      Java                  Virtuxxxa   \n",
              "10316                  1  Hyderabad      Java      Awign Enterprixxxexxx   \n",
              "2472                   1  New Delhi   Android  Acmaticxxx Technologiexxx   \n",
              "22028                  1  Bangalore       Web                 Yexxx Bank   \n",
              "...                  ...        ...       ...                        ...   \n",
              "5819                   1  Bangalore  Frontend             Nityo Infotech   \n",
              "4471                   1  Bangalore  Database                 Concentrix   \n",
              "9260                   1    Chennai      Java    Oaxxxyxxx Cyberneticxxx   \n",
              "7121                   1       Pune  Frontend           Koru Ux Dexxxign   \n",
              "18635                  1  New Delhi       SDE        Thapar Univerxxxity   \n",
              "\n",
              "       Total income  \n",
              "22563          2112  \n",
              "9937          42240  \n",
              "10316         12000  \n",
              "2472          12000  \n",
              "22028         12000  \n",
              "...             ...  \n",
              "5819        9900000  \n",
              "4471       10000000  \n",
              "9260       10000000  \n",
              "7121       10000000  \n",
              "18635      90000000  \n",
              "\n",
              "[22766 rows x 9 columns]"
            ]
          },
          "execution_count": 38,
          "metadata": {},
          "output_type": "execute_result"
        }
      ],
      "source": [
        "df.sort_values([\"Salary\"], ascending=True)"
      ]
    },
    {
      "attachments": {},
      "cell_type": "markdown",
      "metadata": {
        "id": "_iFWYSM8GmnA"
      },
      "source": [
        "## tablas agregadas"
      ]
    },
    {
      "cell_type": "code",
      "execution_count": null,
      "metadata": {
        "colab": {
          "base_uri": "https://localhost:8080/",
          "height": 331
        },
        "id": "-bw62sb7HSQH",
        "outputId": "cbbe728a-b322-4d95-ac51-41657ea404d3"
      },
      "outputs": [],
      "source": [
        "# creamos un dataframe\n",
        "df = pd.DataFrame({\"A\": [\"foo\", \"foo\", \"foo\", \"foo\", \"foo\",\"bar\", \"bar\", \"bar\", \"bar\"],\n",
        "                   \"B\": [\"one\", \"one\", \"one\", \"two\", \"two\",\"one\", \"one\", \"two\", \"two\"],\n",
        "                   \"C\": [\"small\", \"large\", \"large\", \"small\", \"small\", \"large\", \"small\", \"small\",\"large\"],\n",
        "                   \"D\": [1, 2, 2, 3, 3, 4, 5, 6, 7],\n",
        "                   \"E\": [2, 4, 5, 5, 6, 6, 8, 9, 9]})\n",
        "# mostramos df\n",
        "df"
      ]
    },
    {
      "cell_type": "code",
      "execution_count": null,
      "metadata": {
        "colab": {
          "base_uri": "https://localhost:8080/",
          "height": 143
        },
        "id": "DfQj5gZWG93m",
        "outputId": "cd5756e7-f354-49a7-f8d7-959134d15d65"
      },
      "outputs": [],
      "source": [
        "# utilizar la funcion groupby para agregar datos (pivot table/tablas dinamicas)\n",
        "# agrupe por la columna C y haga la suma de todos los valores de la columna D y luego lo mismo para la E\n",
        "# estoy sumando los valores D que son small 1+3+3+5+6 = 18\n",
        "df.groupby('C')[['D', 'E']].sum() # agrupar por unas keys/columnas\n"
      ]
    },
    {
      "cell_type": "code",
      "execution_count": null,
      "metadata": {
        "colab": {
          "base_uri": "https://localhost:8080/",
          "height": 206
        },
        "id": "UpsMWsB7LFOu",
        "outputId": "d413fcd2-0581-45e0-a279-f7d49333cee4"
      },
      "outputs": [],
      "source": [
        "# utilizar funcion pivot_table para agregar datos\n",
        "pd.pivot_table(\n",
        "    df, # dataframe\n",
        "    values='D', # de donde toma los valores\n",
        "    index=['A', 'B'], # filas\n",
        "     columns=['C'], # columnas \n",
        "     aggfunc=np.sum # y funcion a aplicar de numpy\n",
        "     )"
      ]
    },
    {
      "cell_type": "code",
      "execution_count": null,
      "metadata": {
        "colab": {
          "base_uri": "https://localhost:8080/",
          "height": 237
        },
        "id": "Z55fnUeMLFGK",
        "outputId": "7200756f-b58e-42dc-b0fd-c755bea6e546"
      },
      "outputs": [],
      "source": [
        "pd.pivot_table(\n",
        "    df, \n",
        "    values=['D', 'E'], \n",
        "    index=['A', 'C'],\n",
        "    aggfunc={\n",
        "        'D': np.mean, # promedios\n",
        "        'E': [min, max, np.mean] # promedio, max y minimo\n",
        "        }\n",
        "        )"
      ]
    },
    {
      "attachments": {},
      "cell_type": "markdown",
      "metadata": {
        "id": "zvPGtyqyMCKX"
      },
      "source": [
        "## Exploración de datos"
      ]
    },
    {
      "cell_type": "code",
      "execution_count": null,
      "metadata": {
        "id": "Ct44xGwrMexO"
      },
      "outputs": [],
      "source": [
        "df = df_000.copy() # backup"
      ]
    },
    {
      "cell_type": "code",
      "execution_count": null,
      "metadata": {
        "colab": {
          "base_uri": "https://localhost:8080/",
          "height": 300
        },
        "id": "wV2SOvkJMAtE",
        "outputId": "4795ac5b-3c8f-4128-ade3-4998cf34c981"
      },
      "outputs": [],
      "source": [
        "df.describe()"
      ]
    },
    {
      "cell_type": "code",
      "execution_count": null,
      "metadata": {
        "colab": {
          "base_uri": "https://localhost:8080/",
          "height": 394
        },
        "id": "Kk-lBCNWQtOw",
        "outputId": "537f7cac-937e-47fd-9d85-c55aea1e26d0"
      },
      "outputs": [],
      "source": [
        "# tablas contigencia\n",
        "pd.crosstab(df.Location,df['Employment Status'])"
      ]
    },
    {
      "cell_type": "code",
      "execution_count": null,
      "metadata": {
        "colab": {
          "base_uri": "https://localhost:8080/"
        },
        "id": "QSb3Y_j7NLN4",
        "outputId": "7a32b73c-f3c5-4196-93b5-3121f13235d6"
      },
      "outputs": [],
      "source": [
        "# calculo de estadisticos por cada variable a seleccionar\n",
        "p0=df.Salary.min() \n",
        "p100=df.Salary.max()\n",
        "q1=df.Salary.quantile(0.25)\n",
        "q2=df.Salary.quantile(0.5)\n",
        "q3=df.Salary.quantile(0.75)\n",
        "InterQuartilRange = q3-q1\n",
        "print(p0,p100,q1,q2,q3,InterQuartilRange)"
      ]
    },
    {
      "cell_type": "code",
      "execution_count": null,
      "metadata": {
        "colab": {
          "base_uri": "https://localhost:8080/",
          "height": 448
        },
        "id": "AvnHVoYUNKPe",
        "outputId": "bff01cc7-e850-45ad-806d-02a1b191debe"
      },
      "outputs": [],
      "source": [
        "df.Salary.hist()\n",
        "plt.show()"
      ]
    },
    {
      "cell_type": "code",
      "execution_count": null,
      "metadata": {
        "colab": {
          "base_uri": "https://localhost:8080/",
          "height": 445
        },
        "id": "ovC4ake7Mh7t",
        "outputId": "c4bf38f8-5a69-4b65-8c8a-dabe5aaddae3"
      },
      "outputs": [],
      "source": [
        "plt.boxplot(df['Salary'])\n",
        "plt.show()"
      ]
    },
    {
      "cell_type": "code",
      "execution_count": null,
      "metadata": {
        "colab": {
          "base_uri": "https://localhost:8080/",
          "height": 406
        },
        "id": "vG9dTCpxNu0U",
        "outputId": "426fe6c1-4ff4-4143-f2cb-2c8cf5deeb23"
      },
      "outputs": [],
      "source": [
        "# agrupar por la variable seleccionada y aplicar la funcion de interes(suma)\n",
        "dataframe_plot = df.groupby('Employment Status').Salary.sum() # construyo datos\n",
        "dataframe_plot.plot(kind = 'pie') # construyo grafica\n",
        "plt.show() # muestro graficop\n",
        "\n",
        "# df.groupby('Employment Status').Salary.sum().plot(kind='pie')\n",
        "# plt.show()"
      ]
    },
    {
      "cell_type": "code",
      "execution_count": null,
      "metadata": {
        "colab": {
          "base_uri": "https://localhost:8080/",
          "height": 465
        },
        "id": "BhnND4SzOdzx",
        "outputId": "88f793bb-bc88-4419-eeee-2a71d78d0dc7"
      },
      "outputs": [],
      "source": [
        "# diagramas de dispersion\n",
        "df.plot(x='Salaries Reported',y='Salary',kind = 'scatter')\n",
        "plt.show()"
      ]
    },
    {
      "cell_type": "code",
      "execution_count": null,
      "metadata": {
        "colab": {
          "base_uri": "https://localhost:8080/",
          "height": 143
        },
        "id": "a5xpFcjKOrBb",
        "outputId": "b91fccfe-4c9a-431c-87c4-dcc37716233f"
      },
      "outputs": [],
      "source": [
        "# construir una matriz de correlacion\n",
        "# esto solo aplica a variables numericas\n",
        "\n",
        "# 1ro seleccionar variables numericas\n",
        "dataframe_prueba = df.select_dtypes(['float64','int64'])\n",
        "# 2do construir matriz correlacion (pearson) con las variables numericas\n",
        "dataframe_prueba.corr()"
      ]
    },
    {
      "cell_type": "code",
      "execution_count": null,
      "metadata": {
        "colab": {
          "base_uri": "https://localhost:8080/",
          "height": 435
        },
        "id": "y17KGHNzO6ev",
        "outputId": "71ec805c-9c80-4f8c-f27a-aea40aae2a65"
      },
      "outputs": [],
      "source": [
        "# con seaborn construi matriz de correlacion visualmente mejorada\n",
        "sns.heatmap(df.select_dtypes(['float64' , 'int64']).corr(),annot=True)\n",
        "plt.show()"
      ]
    },
    {
      "cell_type": "code",
      "execution_count": null,
      "metadata": {
        "colab": {
          "base_uri": "https://localhost:8080/",
          "height": 566
        },
        "id": "hv-VasuxPRDh",
        "outputId": "bbab8fb0-d66c-48f6-9420-ad857537c2a1"
      },
      "outputs": [],
      "source": [
        "# diagramas de barras\n",
        "df.groupby('Location').Salary.sum().plot(kind='bar') # haga un diagrama de barras con el resultado de agrupas y sumar\n",
        "plt.show()"
      ]
    },
    {
      "cell_type": "code",
      "execution_count": null,
      "metadata": {
        "colab": {
          "base_uri": "https://localhost:8080/",
          "height": 387
        },
        "id": "hUxVaewbQLyc",
        "outputId": "47a6eaf5-1dfd-4a29-b6d8-2b75c59bc906"
      },
      "outputs": [],
      "source": [
        "# barh para indicar que es horizontal\n",
        "df.groupby('Location').Salary.sum().plot(kind='barh') # barh indica barras horizontales\n",
        "plt.show()"
      ]
    },
    {
      "cell_type": "code",
      "execution_count": null,
      "metadata": {
        "colab": {
          "base_uri": "https://localhost:8080/",
          "height": 385
        },
        "id": "fWwXEnA8PRAZ",
        "outputId": "a9302333-7c41-484a-a858-299e4866596d"
      },
      "outputs": [],
      "source": [
        "summary=df.groupby('Location').Salary.sum()\n",
        "plt.bar(x=summary.index , height=summary.values)\n",
        "plt.rcParams[\"figure.figsize\"] = (20,15)\n",
        "plt.show()"
      ]
    },
    {
      "cell_type": "code",
      "execution_count": null,
      "metadata": {
        "colab": {
          "base_uri": "https://localhost:8080/",
          "height": 888
        },
        "id": "6oVfjclEPQ9Z",
        "outputId": "d839b247-0901-4b0f-b732-915bf233639c"
      },
      "outputs": [],
      "source": [
        "summary=df.groupby('Location').Salary.sum()\n",
        "sns.barplot(x=summary.index , y=summary.values)\n",
        "plt.rcParams[\"figure.figsize\"] = (10,6)\n",
        "plt.show()"
      ]
    },
    {
      "cell_type": "code",
      "execution_count": null,
      "metadata": {},
      "outputs": [],
      "source": [
        "df.columns"
      ]
    },
    {
      "cell_type": "code",
      "execution_count": null,
      "metadata": {
        "colab": {
          "base_uri": "https://localhost:8080/",
          "height": 399
        },
        "id": "JtwVAGmYPQ6y",
        "outputId": "9faae4e8-4648-4cf1-b070-d42b627837a9"
      },
      "outputs": [],
      "source": [
        "# una linea de puntas\n",
        "df.groupby('Salaries Reported').Salary.sum().plot(kind='line') # hace un grafico linea\n",
        "plt.rcParams[\"figure.figsize\"] = (10,6)\n",
        "plt.show()"
      ]
    },
    {
      "cell_type": "code",
      "execution_count": null,
      "metadata": {
        "colab": {
          "base_uri": "https://localhost:8080/",
          "height": 357
        },
        "id": "54lIl2UVQACV",
        "outputId": "ec6561d1-2f90-43c0-da67-16f6d4b3f5f1"
      },
      "outputs": [],
      "source": [
        "df.groupby('Location').Salary.sum().plot(kind='pie')\n",
        "plt.rcParams[\"figure.figsize\"] = (15,6)\n",
        "plt.show()"
      ]
    },
    {
      "cell_type": "code",
      "execution_count": null,
      "metadata": {
        "colab": {
          "base_uri": "https://localhost:8080/",
          "height": 394
        },
        "id": "0Bg5edZrQVYe",
        "outputId": "fe7da851-c7b5-4c3c-fe3a-2671b53525fe"
      },
      "outputs": [],
      "source": [
        "pd.crosstab(df.Location,df['Employment Status'])"
      ]
    },
    {
      "cell_type": "code",
      "execution_count": null,
      "metadata": {
        "colab": {
          "base_uri": "https://localhost:8080/",
          "height": 388
        },
        "id": "xqGQ8maaQ2Mi",
        "outputId": "a84f87c5-2e60-4f69-978c-5ba027c7fce5"
      },
      "outputs": [],
      "source": [
        "# construi un heatmap una diagram de calor\n",
        "# preparar datos antes de visualizacion\n",
        "tab_00 = pd.crosstab(df.Location,df['Employment Status'])\n",
        "# usar datros preparados para plotear graficar\n",
        "sns.heatmap(tab_00)\n",
        "plt.show()"
      ]
    },
    {
      "attachments": {},
      "cell_type": "markdown",
      "metadata": {
        "id": "cdeiZxD02pLf"
      },
      "source": [
        "## Bibliografía"
      ]
    },
    {
      "attachments": {},
      "cell_type": "markdown",
      "metadata": {
        "id": "yTifdGxy2qzu"
      },
      "source": [
        "\n",
        "* (2022,Montenegro y Montenegro) Aprendizaje profundo. Diplomado de IA y AP. \n",
        "* BeginnersGuide. link :https://wiki.python.org/moin/BeginnersGuide/Programmers\n",
        "* Uniwebsidad. link :https://uniwebsidad.com/libros/algoritmos-python"
      ]
    }
  ],
  "metadata": {
    "colab": {
      "provenance": []
    },
    "kernelspec": {
      "display_name": "Python 3.9.1 64-bit",
      "language": "python",
      "name": "python3"
    },
    "language_info": {
      "codemirror_mode": {
        "name": "ipython",
        "version": 3
      },
      "file_extension": ".py",
      "mimetype": "text/x-python",
      "name": "python",
      "nbconvert_exporter": "python",
      "pygments_lexer": "ipython3",
      "version": "3.11.3"
    },
    "vscode": {
      "interpreter": {
        "hash": "f128fe3ab5917b826f85fed29f7e6d5cdf9b8c96daddc94321e327dfff04eefa"
      }
    }
  },
  "nbformat": 4,
  "nbformat_minor": 0
}
