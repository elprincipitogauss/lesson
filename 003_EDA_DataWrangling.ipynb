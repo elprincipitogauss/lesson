{
  "cells": [
    {
      "attachments": {},
      "cell_type": "markdown",
      "metadata": {
        "id": "uf4EI65f2pfw"
      },
      "source": [
        "# Data wrangling\n",
        "\n",
        "*   Manipulacion de dataframes\n",
        "*   Tablas agregadas\n",
        "*   Exploracion de datos y visualizaciones"
      ]
    },
    {
      "attachments": {},
      "cell_type": "markdown",
      "metadata": {
        "id": "71dzNQJhcdeY"
      },
      "source": [
        "# Preparacion"
      ]
    },
    {
      "cell_type": "code",
      "execution_count": null,
      "metadata": {
        "id": "4lJnUnKb2nFM"
      },
      "outputs": [],
      "source": [
        "# importando modulos que se van a utilizar\n",
        "import os\n",
        "import pandas as pd\n",
        "import numpy as np\n",
        "import matplotlib.pyplot as plt # visualizacion\n",
        "import seaborn as sns # seaborn"
      ]
    },
    {
      "cell_type": "code",
      "execution_count": null,
      "metadata": {
        "id": "JHHw5VIm5TuV"
      },
      "outputs": [],
      "source": [
        "# identificar el directorio y la ruta del archivo a consultar\n",
        "mainpath = \"https://raw.githubusercontent.com/elprincipitogauss/lesson/main/\"\n",
        "filename = \"Salary_Dataset_with_Extra_Features.csv\"\n",
        "fullpath = os.path.join(mainpath, filename)\n",
        "# leer el archivo utilizando la ruta\n",
        "df_000 = pd.read_csv(fullpath)\n",
        "# realizar una copia del archivo leido copmo backup\n",
        "df = df_000.copy()"
      ]
    },
    {
      "attachments": {},
      "cell_type": "markdown",
      "metadata": {
        "id": "O4r3942u7PNE"
      },
      "source": [
        "# Visualizar dataframe"
      ]
    },
    {
      "cell_type": "code",
      "execution_count": null,
      "metadata": {
        "colab": {
          "base_uri": "https://localhost:8080/",
          "height": 554
        },
        "id": "K7okuWuD5TrV",
        "outputId": "1fef62fa-ad79-4989-9a98-18170b34b0fa"
      },
      "outputs": [],
      "source": [
        "display(df)"
      ]
    },
    {
      "cell_type": "code",
      "execution_count": null,
      "metadata": {
        "colab": {
          "base_uri": "https://localhost:8080/",
          "height": 206
        },
        "id": "9e_yTeUl7TD7",
        "outputId": "5c6916df-12e9-4508-b257-979772eda7f8"
      },
      "outputs": [],
      "source": [
        "df.head(5)"
      ]
    },
    {
      "attachments": {},
      "cell_type": "markdown",
      "metadata": {
        "id": "CMBJ1F0P8HZu"
      },
      "source": [
        "* Información sobre las dimensiones y tipo de variables"
      ]
    },
    {
      "cell_type": "code",
      "execution_count": null,
      "metadata": {
        "colab": {
          "base_uri": "https://localhost:8080/"
        },
        "id": "p0eF8kJV5ToN",
        "outputId": "0751cf23-386a-41c6-d9ad-e13b24e9e7bf"
      },
      "outputs": [],
      "source": [
        "df.info()"
      ]
    },
    {
      "attachments": {},
      "cell_type": "markdown",
      "metadata": {
        "id": "Zm2Ul2yq8QLF"
      },
      "source": [
        "## Subconjuntos"
      ]
    },
    {
      "attachments": {},
      "cell_type": "markdown",
      "metadata": {
        "id": "Bo_Pg7Ly9iM2"
      },
      "source": [
        "* construir un subconjunto de filas a través de su posición"
      ]
    },
    {
      "cell_type": "code",
      "execution_count": null,
      "metadata": {
        "colab": {
          "base_uri": "https://localhost:8080/",
          "height": 143
        },
        "id": "IPDtmyV65Thx",
        "outputId": "4bc8a038-7175-43e2-c583-53af8011d513"
      },
      "outputs": [],
      "source": [
        "# navegar por datfarame utilizando la localizacion\n",
        "# entre las llaves a la izquierda encontramos las filas y a la derecha encontraremos las columnas\n",
        "df.iloc[0:3,] # range 0:3  solo incluye 0,1 y 2"
      ]
    },
    {
      "cell_type": "code",
      "execution_count": null,
      "metadata": {
        "colab": {
          "base_uri": "https://localhost:8080/",
          "height": 112
        },
        "id": "IrYXjW0r9W7t",
        "outputId": "448118b8-c1d5-4f07-b54d-5a90ce05ad00"
      },
      "outputs": [],
      "source": [
        "\n",
        "# entre las llaves a la izquierda encontramos las filas y a la derecha encontraremos las columnas\n",
        "df.iloc[0:2,1:] # fila 0,1 y las columnas desde la 1"
      ]
    },
    {
      "cell_type": "code",
      "execution_count": null,
      "metadata": {},
      "outputs": [],
      "source": [
        "df['Salary'] # selecciona una columna"
      ]
    },
    {
      "cell_type": "code",
      "execution_count": null,
      "metadata": {
        "colab": {
          "base_uri": "https://localhost:8080/",
          "height": 423
        },
        "id": "xQDyUSQM5Tk6",
        "outputId": "16c0b7a2-a0ed-44b9-92b3-a994a9d7f0f7"
      },
      "outputs": [],
      "source": [
        "df[['Job Title', 'Salary']] # seleccionamos dos columnas del dataframe indicando con lista de nombre de columnas"
      ]
    },
    {
      "cell_type": "code",
      "execution_count": null,
      "metadata": {
        "colab": {
          "base_uri": "https://localhost:8080/"
        },
        "id": "Lp40aqKvOx_O",
        "outputId": "769d0f92-771a-4e96-a629-5be7ee42d224"
      },
      "outputs": [],
      "source": [
        "# haga una lista de las columnas segun el tipo de datos que contienen solicitado\n",
        "df.select_dtypes(['float64' , 'int64']).columns"
      ]
    },
    {
      "cell_type": "code",
      "execution_count": null,
      "metadata": {
        "colab": {
          "base_uri": "https://localhost:8080/",
          "height": 519
        },
        "id": "BtFT_6t8-4lE",
        "outputId": "bf23563e-4e4d-4e06-fbd4-6e74b0ffcae7"
      },
      "outputs": [],
      "source": [
        "# filtrar la base dada una condicion\n",
        "df[df['Salary']>300000]"
      ]
    },
    {
      "cell_type": "code",
      "execution_count": null,
      "metadata": {
        "colab": {
          "base_uri": "https://localhost:8080/",
          "height": 589
        },
        "id": "Yu1V5Cv6_Ah1",
        "outputId": "43c301a4-98fb-4b91-c605-665dcfc21cfe"
      },
      "outputs": [],
      "source": [
        "# filtrar la base dada una condicion\n",
        "df[df.Salary>500000]"
      ]
    },
    {
      "cell_type": "code",
      "execution_count": null,
      "metadata": {},
      "outputs": [],
      "source": [
        "lista_buscar = ['Accenture','Oracle'] # lista de opciones en string\n",
        "df[df['Company Name'].isin(lista_buscar)]"
      ]
    },
    {
      "cell_type": "code",
      "execution_count": null,
      "metadata": {
        "colab": {
          "base_uri": "https://localhost:8080/",
          "height": 467
        },
        "id": "daEGitIh_azI",
        "outputId": "f0817436-fbc6-43fb-c651-c48c5cdf5053"
      },
      "outputs": [],
      "source": [
        "# filtrar la base dada una condicion\n",
        "# que los valores de la columna se encuentre en la lista indicada\n",
        "lista_a_buscar = [4,5,6,7]\n",
        "\n",
        "# filtrar dataframe segun condicion de busqyeueda dentro de lista\n",
        "df[df['Salaries Reported'].isin(lista_a_buscar)]\n",
        "\n",
        "# df[df[\"Salaries Reported\"].isin([4,5,6,7])]"
      ]
    },
    {
      "cell_type": "code",
      "execution_count": null,
      "metadata": {
        "colab": {
          "base_uri": "https://localhost:8080/",
          "height": 559
        },
        "id": "9paGEOOD_wWd",
        "outputId": "714ff47b-9427-4b6a-ec75-c34b7460a4c8"
      },
      "outputs": [],
      "source": [
        "# filtrar cuando cumpla dos condiciones al mismo tiempo\n",
        "# or |\n",
        "# and &\n",
        "# not !\n",
        "df[(df.Salary>1500000) & (df[\"Salaries Reported\"].isin([8,9]))]"
      ]
    },
    {
      "attachments": {},
      "cell_type": "markdown",
      "metadata": {
        "id": "D3KjyZWBAmXF"
      },
      "source": [
        "## Eliminar valores ausentes/omitidos"
      ]
    },
    {
      "cell_type": "code",
      "execution_count": null,
      "metadata": {
        "colab": {
          "base_uri": "https://localhost:8080/",
          "height": 554
        },
        "id": "AtiyAgH1Anb3",
        "outputId": "ffd40558-9a6e-409e-99c6-8d5778ead29b"
      },
      "outputs": [],
      "source": [
        "# drop : eliminar\n",
        "# na :  valores ausentes NULL, NaN, NA\n",
        "df.dropna(subset=[\"Company Name\"], axis=0, inplace=True) # eliminar filas con valores en ausentes en la columna indicada"
      ]
    },
    {
      "attachments": {},
      "cell_type": "markdown",
      "metadata": {
        "id": "DOEe6dUIA18c"
      },
      "source": [
        "## Limpieza de texto"
      ]
    },
    {
      "attachments": {},
      "cell_type": "markdown",
      "metadata": {
        "id": "a-M2kDHSBNVJ"
      },
      "source": [
        "* lower: Poner en minúscula todo el texto.\n",
        "* replace: Remplazar ciertos valores por otros.\n",
        "* strip: Eliminar los espacios al principio y al final de la cadena.\n",
        "* title: Poner primera letra de cada palabra en mayúscula."
      ]
    },
    {
      "cell_type": "code",
      "execution_count": null,
      "metadata": {
        "colab": {
          "base_uri": "https://localhost:8080/",
          "height": 35
        },
        "id": "tSUyvbd8BY7O",
        "outputId": "30500cdc-793c-4e2b-8a41-b1ef7fb1bcda"
      },
      "outputs": [],
      "source": [
        "txt = ' canción 9  '\n",
        "txt.lower()"
      ]
    },
    {
      "cell_type": "code",
      "execution_count": null,
      "metadata": {
        "colab": {
          "base_uri": "https://localhost:8080/",
          "height": 35
        },
        "id": "emSNdxjDBYuS",
        "outputId": "88d639d8-7cf6-43b4-8eca-febd08ffe114"
      },
      "outputs": [],
      "source": [
        "txt = ' canción 9  '\n",
        "txt.upper()"
      ]
    },
    {
      "cell_type": "code",
      "execution_count": null,
      "metadata": {
        "colab": {
          "base_uri": "https://localhost:8080/",
          "height": 35
        },
        "id": "zsoZc72iBYyM",
        "outputId": "6eb1ce72-e699-4eae-ddb0-176f13f34bcf"
      },
      "outputs": [],
      "source": [
        "txt = ' canción 9  '\n",
        "txt.replace(\"c\",\"k\")"
      ]
    },
    {
      "cell_type": "code",
      "execution_count": null,
      "metadata": {
        "colab": {
          "base_uri": "https://localhost:8080/",
          "height": 35
        },
        "id": "3Jb40n45BYoD",
        "outputId": "ac1f2ad0-2295-48b4-e380-632efbc5fd43"
      },
      "outputs": [],
      "source": [
        "txt = ' canción 9  '\n",
        "txt.strip()"
      ]
    },
    {
      "cell_type": "code",
      "execution_count": null,
      "metadata": {
        "colab": {
          "base_uri": "https://localhost:8080/",
          "height": 35
        },
        "id": "Vy3Cfgw3DHUR",
        "outputId": "fc1860f7-d3f8-44e9-ad9c-4f7251431d09"
      },
      "outputs": [],
      "source": [
        "txt = ' canción 9  '\n",
        "txt.title()"
      ]
    },
    {
      "cell_type": "code",
      "execution_count": null,
      "metadata": {
        "id": "xbjsEgbahL_U"
      },
      "outputs": [],
      "source": [
        "# generar nueva columna luego de realizar un tratamiento de texto\n",
        "df[\"Company Name 2nd\"] = df[\"Company Name\"].str.upper()\n",
        "df[\"Company Name 2nd\"] = df[\"Company Name 2nd\"].str.replace(\"S\",\"XXX\")\n",
        "df[\"Company Name 2nd\"] = df[\"Company Name 2nd\"].str.strip()\n",
        "df[\"Company Name 2nd\"] = df[\"Company Name 2nd\"].str.title()\n",
        "df[[\"Company Name\",\"Company Name 2nd\"]]"
      ]
    },
    {
      "cell_type": "code",
      "execution_count": null,
      "metadata": {
        "colab": {
          "base_uri": "https://localhost:8080/",
          "height": 641
        },
        "id": "EQyTz884A7dM",
        "outputId": "410ec99d-fe13-4b68-ebfe-0d60d9c1f5a5"
      },
      "outputs": [],
      "source": [
        "# generar nueva columna luego de realizar un tratamiento de texto\n",
        "\n",
        "df[\"Company Name 2nd\"] = (df[\"Company Name\"]\n",
        "                            .str.upper()# mayusculas\n",
        "                            .str.replace(\"S\",\"XXX\")\n",
        "                            .str.strip()\n",
        "                            .str.title()\n",
        "                           ) \n",
        "df[[\"Company Name\",\"Company Name 2nd\"]]"
      ]
    },
    {
      "attachments": {},
      "cell_type": "markdown",
      "metadata": {
        "id": "TJ-Fj4RODsHA"
      },
      "source": [
        "## Creación de columnas a partir de otras"
      ]
    },
    {
      "cell_type": "code",
      "execution_count": null,
      "metadata": {
        "colab": {
          "base_uri": "https://localhost:8080/",
          "height": 728
        },
        "id": "tB-fQ1YRA7Z8",
        "outputId": "3af58fec-2160-4d9f-e514-065f2bd60afc"
      },
      "outputs": [],
      "source": [
        "df[\"Total income\"]= df[\"Salary\"]*df[\"Salaries Reported\"] # columna total ingreso es resultado de multiplicar dos columnas\n",
        "df[[\"Total income\",\"Salary\",\"Salaries Reported\"]]"
      ]
    },
    {
      "attachments": {},
      "cell_type": "markdown",
      "metadata": {
        "id": "i5TtNw6UERZY"
      },
      "source": [
        "## Renombrar columnas"
      ]
    },
    {
      "cell_type": "code",
      "execution_count": null,
      "metadata": {
        "colab": {
          "base_uri": "https://localhost:8080/"
        },
        "id": "P12woPjSA7Wo",
        "outputId": "234625ec-a9e4-4470-c65c-0e80dec2131b"
      },
      "outputs": [],
      "source": [
        "print(df.columns) # muetsreme nombre original de las variables\n",
        "# renombrar columnas \n",
        "df.rename(columns={\"Rating\":\"Rate\"},inplace=True) # renombre una de las variables\n",
        "# inplace=True indica que aplique sobre el objeto sin necesidad de asignar\n",
        "print(df.columns) # muestreme como quedo despues de renombrar"
      ]
    },
    {
      "attachments": {},
      "cell_type": "markdown",
      "metadata": {
        "id": "LqeUUZjOEraB"
      },
      "source": [
        "## Modificar tipo de dato de una columna"
      ]
    },
    {
      "cell_type": "code",
      "execution_count": null,
      "metadata": {
        "colab": {
          "base_uri": "https://localhost:8080/"
        },
        "id": "oVVnnClMEuis",
        "outputId": "0b0c63f6-2b40-460a-869e-437df3302ceb"
      },
      "outputs": [],
      "source": [
        "print(df.info())\n",
        "print(\"\\n\")\n",
        "df[\"Rate\"]=df[\"Rate\"].astype(\"str\") # modificar el tipo de dato que tiene una columnas\n",
        "print(df.info())"
      ]
    },
    {
      "cell_type": "code",
      "execution_count": null,
      "metadata": {},
      "outputs": [],
      "source": [
        "print(df.info())"
      ]
    },
    {
      "attachments": {},
      "cell_type": "markdown",
      "metadata": {
        "id": "t1c0EmK6FIyO"
      },
      "source": [
        "## Eliminar filas"
      ]
    },
    {
      "cell_type": "code",
      "execution_count": null,
      "metadata": {
        "colab": {
          "base_uri": "https://localhost:8080/"
        },
        "id": "GPqMiAdtFJda",
        "outputId": "a6192544-c4ac-46ba-b6d6-5f545b09c77b"
      },
      "outputs": [],
      "source": [
        "print(\"Antes : {0}.\".format(df.shape))\n",
        "# como borrar filas/columnas de un datframe\n",
        "df = df.drop(df.iloc[0:3,].index) # drop : eliminar/borrar\n",
        "print(\"Luego : {0}.\".format(df.shape))"
      ]
    },
    {
      "cell_type": "code",
      "execution_count": null,
      "metadata": {
        "colab": {
          "base_uri": "https://localhost:8080/",
          "height": 424
        },
        "id": "sMuiF1tLM45j",
        "outputId": "003ce068-e19c-4cda-c761-71ccc783aa2c"
      },
      "outputs": [],
      "source": [
        "# eliminar duplicados\n",
        "df.drop_duplicates(subset='Job Title' , inplace=False)"
      ]
    },
    {
      "attachments": {},
      "cell_type": "markdown",
      "metadata": {
        "id": "T3JiVgI2Fp5P"
      },
      "source": [
        "# Eliminar columnas"
      ]
    },
    {
      "cell_type": "code",
      "execution_count": null,
      "metadata": {
        "colab": {
          "base_uri": "https://localhost:8080/"
        },
        "id": "fOEkShMlFJNF",
        "outputId": "98c65de7-3b4a-47e9-ca5c-c544b8c99572"
      },
      "outputs": [],
      "source": [
        "print(\"Antes : {0}.\".format(df.shape))\n",
        "# eliminar filas/columnas\n",
        "df = df.drop(columns=['Employment Status'])\n",
        "print(\"Luego : {0}.\".format(df.shape))"
      ]
    },
    {
      "attachments": {},
      "cell_type": "markdown",
      "metadata": {
        "id": "Kh5M2NYFGjee"
      },
      "source": [
        "## Ordenar dataframes"
      ]
    },
    {
      "cell_type": "code",
      "execution_count": null,
      "metadata": {
        "colab": {
          "base_uri": "https://localhost:8080/",
          "height": 424
        },
        "id": "BhWToxMMGqg4",
        "outputId": "8c3126bc-69bb-4ac1-8777-8b31ff3e8680"
      },
      "outputs": [],
      "source": [
        "df.sort_values([\"Salary\"], ascending=False)"
      ]
    },
    {
      "cell_type": "code",
      "execution_count": null,
      "metadata": {
        "colab": {
          "base_uri": "https://localhost:8080/",
          "height": 424
        },
        "id": "S5N2PRBkGqTm",
        "outputId": "355f4393-e3fd-4e5d-9138-fae97fbc02c2"
      },
      "outputs": [],
      "source": [
        "df.sort_values([\"Salary\"], ascending=True)"
      ]
    },
    {
      "attachments": {},
      "cell_type": "markdown",
      "metadata": {
        "id": "_iFWYSM8GmnA"
      },
      "source": [
        "## tablas agregadas"
      ]
    },
    {
      "cell_type": "code",
      "execution_count": null,
      "metadata": {
        "colab": {
          "base_uri": "https://localhost:8080/",
          "height": 331
        },
        "id": "-bw62sb7HSQH",
        "outputId": "cbbe728a-b322-4d95-ac51-41657ea404d3"
      },
      "outputs": [],
      "source": [
        "# creamos un dataframe\n",
        "df = pd.DataFrame({\"A\": [\"foo\", \"foo\", \"foo\", \"foo\", \"foo\",\"bar\", \"bar\", \"bar\", \"bar\"],\n",
        "                   \"B\": [\"one\", \"one\", \"one\", \"two\", \"two\",\"one\", \"one\", \"two\", \"two\"],\n",
        "                   \"C\": [\"small\", \"large\", \"large\", \"small\", \"small\", \"large\", \"small\", \"small\",\"large\"],\n",
        "                   \"D\": [1, 2, 2, 3, 3, 4, 5, 6, 7],\n",
        "                   \"E\": [2, 4, 5, 5, 6, 6, 8, 9, 9]})\n",
        "# mostramos df\n",
        "df"
      ]
    },
    {
      "cell_type": "code",
      "execution_count": null,
      "metadata": {
        "colab": {
          "base_uri": "https://localhost:8080/",
          "height": 143
        },
        "id": "DfQj5gZWG93m",
        "outputId": "cd5756e7-f354-49a7-f8d7-959134d15d65"
      },
      "outputs": [],
      "source": [
        "# utilizar la funcion groupby para agregar datos (pivot table/tablas dinamicas)\n",
        "# agrupe por la columna C y haga la suma de todos los valores de la columna D y luego lo mismo para la E\n",
        "# estoy sumando los valores D que son small 1+3+3+5+6 = 18\n",
        "df.groupby('C')[['D', 'E']].sum() # agrupar por unas keys/columnas\n"
      ]
    },
    {
      "cell_type": "code",
      "execution_count": null,
      "metadata": {
        "colab": {
          "base_uri": "https://localhost:8080/",
          "height": 206
        },
        "id": "UpsMWsB7LFOu",
        "outputId": "d413fcd2-0581-45e0-a279-f7d49333cee4"
      },
      "outputs": [],
      "source": [
        "# utilizar funcion pivot_table para agregar datos\n",
        "pd.pivot_table(\n",
        "    df, # dataframe\n",
        "    values='D', # de donde toma los valores\n",
        "    index=['A', 'B'], # filas\n",
        "     columns=['C'], # columnas \n",
        "     aggfunc=np.sum # y funcion a aplicar de numpy\n",
        "     )"
      ]
    },
    {
      "cell_type": "code",
      "execution_count": null,
      "metadata": {
        "colab": {
          "base_uri": "https://localhost:8080/",
          "height": 237
        },
        "id": "Z55fnUeMLFGK",
        "outputId": "7200756f-b58e-42dc-b0fd-c755bea6e546"
      },
      "outputs": [],
      "source": [
        "pd.pivot_table(\n",
        "    df, \n",
        "    values=['D', 'E'], \n",
        "    index=['A', 'C'],\n",
        "    aggfunc={\n",
        "        'D': np.mean, # promedios\n",
        "        'E': [min, max, np.mean] # promedio, max y minimo\n",
        "        }\n",
        "        )"
      ]
    },
    {
      "attachments": {},
      "cell_type": "markdown",
      "metadata": {
        "id": "zvPGtyqyMCKX"
      },
      "source": [
        "## Exploración de datos"
      ]
    },
    {
      "cell_type": "code",
      "execution_count": null,
      "metadata": {
        "id": "Ct44xGwrMexO"
      },
      "outputs": [],
      "source": [
        "df = df_000.copy() # backup"
      ]
    },
    {
      "cell_type": "code",
      "execution_count": null,
      "metadata": {
        "colab": {
          "base_uri": "https://localhost:8080/",
          "height": 300
        },
        "id": "wV2SOvkJMAtE",
        "outputId": "4795ac5b-3c8f-4128-ade3-4998cf34c981"
      },
      "outputs": [],
      "source": [
        "df.describe()"
      ]
    },
    {
      "cell_type": "code",
      "execution_count": null,
      "metadata": {
        "colab": {
          "base_uri": "https://localhost:8080/",
          "height": 394
        },
        "id": "Kk-lBCNWQtOw",
        "outputId": "537f7cac-937e-47fd-9d85-c55aea1e26d0"
      },
      "outputs": [],
      "source": [
        "# tablas contigencia\n",
        "pd.crosstab(df.Location,df['Employment Status'])"
      ]
    },
    {
      "cell_type": "code",
      "execution_count": null,
      "metadata": {
        "colab": {
          "base_uri": "https://localhost:8080/"
        },
        "id": "QSb3Y_j7NLN4",
        "outputId": "7a32b73c-f3c5-4196-93b5-3121f13235d6"
      },
      "outputs": [],
      "source": [
        "# calculo de estadisticos por cada variable a seleccionar\n",
        "p0=df.Salary.min() \n",
        "p100=df.Salary.max()\n",
        "q1=df.Salary.quantile(0.25)\n",
        "q2=df.Salary.quantile(0.5)\n",
        "q3=df.Salary.quantile(0.75)\n",
        "InterQuartilRange = q3-q1\n",
        "print(p0,p100,q1,q2,q3,InterQuartilRange)"
      ]
    },
    {
      "cell_type": "code",
      "execution_count": null,
      "metadata": {
        "colab": {
          "base_uri": "https://localhost:8080/",
          "height": 448
        },
        "id": "AvnHVoYUNKPe",
        "outputId": "bff01cc7-e850-45ad-806d-02a1b191debe"
      },
      "outputs": [],
      "source": [
        "df.Salary.hist()\n",
        "plt.show()"
      ]
    },
    {
      "cell_type": "code",
      "execution_count": null,
      "metadata": {
        "colab": {
          "base_uri": "https://localhost:8080/",
          "height": 445
        },
        "id": "ovC4ake7Mh7t",
        "outputId": "c4bf38f8-5a69-4b65-8c8a-dabe5aaddae3"
      },
      "outputs": [],
      "source": [
        "plt.boxplot(df['Salary'])\n",
        "plt.show()"
      ]
    },
    {
      "cell_type": "code",
      "execution_count": null,
      "metadata": {
        "colab": {
          "base_uri": "https://localhost:8080/",
          "height": 406
        },
        "id": "vG9dTCpxNu0U",
        "outputId": "426fe6c1-4ff4-4143-f2cb-2c8cf5deeb23"
      },
      "outputs": [],
      "source": [
        "# agrupar por la variable seleccionada y aplicar la funcion de interes(suma)\n",
        "dataframe_plot = df.groupby('Employment Status').Salary.sum() # construyo datos\n",
        "dataframe_plot.plot(kind = 'pie') # construyo grafica\n",
        "plt.show() # muestro graficop\n",
        "\n",
        "# df.groupby('Employment Status').Salary.sum().plot(kind='pie')\n",
        "# plt.show()"
      ]
    },
    {
      "cell_type": "code",
      "execution_count": null,
      "metadata": {
        "colab": {
          "base_uri": "https://localhost:8080/",
          "height": 465
        },
        "id": "BhnND4SzOdzx",
        "outputId": "88f793bb-bc88-4419-eeee-2a71d78d0dc7"
      },
      "outputs": [],
      "source": [
        "# diagramas de dispersion\n",
        "df.plot(x='Salaries Reported',y='Salary',kind = 'scatter')\n",
        "plt.show()"
      ]
    },
    {
      "cell_type": "code",
      "execution_count": null,
      "metadata": {
        "colab": {
          "base_uri": "https://localhost:8080/",
          "height": 143
        },
        "id": "a5xpFcjKOrBb",
        "outputId": "b91fccfe-4c9a-431c-87c4-dcc37716233f"
      },
      "outputs": [],
      "source": [
        "# construir una matriz de correlacion\n",
        "# esto solo aplica a variables numericas\n",
        "\n",
        "# 1ro seleccionar variables numericas\n",
        "dataframe_prueba = df.select_dtypes(['float64','int64'])\n",
        "# 2do construir matriz correlacion (pearson) con las variables numericas\n",
        "dataframe_prueba.corr()"
      ]
    },
    {
      "cell_type": "code",
      "execution_count": null,
      "metadata": {
        "colab": {
          "base_uri": "https://localhost:8080/",
          "height": 435
        },
        "id": "y17KGHNzO6ev",
        "outputId": "71ec805c-9c80-4f8c-f27a-aea40aae2a65"
      },
      "outputs": [],
      "source": [
        "# con seaborn construi matriz de correlacion visualmente mejorada\n",
        "sns.heatmap(df.select_dtypes(['float64' , 'int64']).corr(),annot=True)\n",
        "plt.show()"
      ]
    },
    {
      "cell_type": "code",
      "execution_count": null,
      "metadata": {
        "colab": {
          "base_uri": "https://localhost:8080/",
          "height": 566
        },
        "id": "hv-VasuxPRDh",
        "outputId": "bbab8fb0-d66c-48f6-9420-ad857537c2a1"
      },
      "outputs": [],
      "source": [
        "# diagramas de barras\n",
        "df.groupby('Location').Salary.sum().plot(kind='bar') # haga un diagrama de barras con el resultado de agrupas y sumar\n",
        "plt.show()"
      ]
    },
    {
      "cell_type": "code",
      "execution_count": null,
      "metadata": {
        "colab": {
          "base_uri": "https://localhost:8080/",
          "height": 387
        },
        "id": "hUxVaewbQLyc",
        "outputId": "47a6eaf5-1dfd-4a29-b6d8-2b75c59bc906"
      },
      "outputs": [],
      "source": [
        "# barh para indicar que es horizontal\n",
        "df.groupby('Location').Salary.sum().plot(kind='barh') # barh indica barras horizontales\n",
        "plt.show()"
      ]
    },
    {
      "cell_type": "code",
      "execution_count": null,
      "metadata": {
        "colab": {
          "base_uri": "https://localhost:8080/",
          "height": 385
        },
        "id": "fWwXEnA8PRAZ",
        "outputId": "a9302333-7c41-484a-a858-299e4866596d"
      },
      "outputs": [],
      "source": [
        "summary=df.groupby('Location').Salary.sum()\n",
        "plt.bar(x=summary.index , height=summary.values)\n",
        "plt.rcParams[\"figure.figsize\"] = (20,15)\n",
        "plt.show()"
      ]
    },
    {
      "cell_type": "code",
      "execution_count": null,
      "metadata": {
        "colab": {
          "base_uri": "https://localhost:8080/",
          "height": 888
        },
        "id": "6oVfjclEPQ9Z",
        "outputId": "d839b247-0901-4b0f-b732-915bf233639c"
      },
      "outputs": [],
      "source": [
        "summary=df.groupby('Location').Salary.sum()\n",
        "sns.barplot(x=summary.index , y=summary.values)\n",
        "plt.rcParams[\"figure.figsize\"] = (10,6)\n",
        "plt.show()"
      ]
    },
    {
      "cell_type": "code",
      "execution_count": null,
      "metadata": {},
      "outputs": [],
      "source": [
        "df.columns"
      ]
    },
    {
      "cell_type": "code",
      "execution_count": null,
      "metadata": {
        "colab": {
          "base_uri": "https://localhost:8080/",
          "height": 399
        },
        "id": "JtwVAGmYPQ6y",
        "outputId": "9faae4e8-4648-4cf1-b070-d42b627837a9"
      },
      "outputs": [],
      "source": [
        "# una linea de puntas\n",
        "df.groupby('Salaries Reported').Salary.sum().plot(kind='line') # hace un grafico linea\n",
        "plt.rcParams[\"figure.figsize\"] = (10,6)\n",
        "plt.show()"
      ]
    },
    {
      "cell_type": "code",
      "execution_count": null,
      "metadata": {
        "colab": {
          "base_uri": "https://localhost:8080/",
          "height": 357
        },
        "id": "54lIl2UVQACV",
        "outputId": "ec6561d1-2f90-43c0-da67-16f6d4b3f5f1"
      },
      "outputs": [],
      "source": [
        "df.groupby('Location').Salary.sum().plot(kind='pie')\n",
        "plt.rcParams[\"figure.figsize\"] = (15,6)\n",
        "plt.show()"
      ]
    },
    {
      "cell_type": "code",
      "execution_count": null,
      "metadata": {
        "colab": {
          "base_uri": "https://localhost:8080/",
          "height": 394
        },
        "id": "0Bg5edZrQVYe",
        "outputId": "fe7da851-c7b5-4c3c-fe3a-2671b53525fe"
      },
      "outputs": [],
      "source": [
        "pd.crosstab(df.Location,df['Employment Status'])"
      ]
    },
    {
      "cell_type": "code",
      "execution_count": null,
      "metadata": {
        "colab": {
          "base_uri": "https://localhost:8080/",
          "height": 388
        },
        "id": "xqGQ8maaQ2Mi",
        "outputId": "a84f87c5-2e60-4f69-978c-5ba027c7fce5"
      },
      "outputs": [],
      "source": [
        "# construi un heatmap una diagram de calor\n",
        "# preparar datos antes de visualizacion\n",
        "tab_00 = pd.crosstab(df.Location,df['Employment Status'])\n",
        "# usar datros preparados para plotear graficar\n",
        "sns.heatmap(tab_00)\n",
        "plt.show()"
      ]
    },
    {
      "attachments": {},
      "cell_type": "markdown",
      "metadata": {
        "id": "cdeiZxD02pLf"
      },
      "source": [
        "## Bibliografía"
      ]
    },
    {
      "attachments": {},
      "cell_type": "markdown",
      "metadata": {
        "id": "yTifdGxy2qzu"
      },
      "source": [
        "\n",
        "* (2022,Montenegro y Montenegro) Aprendizaje profundo. Diplomado de IA y AP. \n",
        "* BeginnersGuide. link :https://wiki.python.org/moin/BeginnersGuide/Programmers\n",
        "* Uniwebsidad. link :https://uniwebsidad.com/libros/algoritmos-python"
      ]
    }
  ],
  "metadata": {
    "colab": {
      "provenance": []
    },
    "kernelspec": {
      "display_name": "Python 3.9.1 64-bit",
      "language": "python",
      "name": "python3"
    },
    "language_info": {
      "codemirror_mode": {
        "name": "ipython",
        "version": 3
      },
      "file_extension": ".py",
      "mimetype": "text/x-python",
      "name": "python",
      "nbconvert_exporter": "python",
      "pygments_lexer": "ipython3",
      "version": "3.11.3"
    },
    "vscode": {
      "interpreter": {
        "hash": "f128fe3ab5917b826f85fed29f7e6d5cdf9b8c96daddc94321e327dfff04eefa"
      }
    }
  },
  "nbformat": 4,
  "nbformat_minor": 0
}
