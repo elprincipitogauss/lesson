{
  "nbformat": 4,
  "nbformat_minor": 0,
  "metadata": {
    "colab": {
      "name": "PANDAS SERIES & DATAFRAMES.ipynb",
      "provenance": [],
      "collapsed_sections": []
    },
    "kernelspec": {
      "name": "python3",
      "display_name": "Python 3"
    },
    "language_info": {
      "name": "python"
    }
  },
  "cells": [
    {
      "cell_type": "markdown",
      "source": [
        "# PANDAS SERIES & DATAFRAMES\n",
        "\n",
        "*   Modulos\n",
        "*   Crear una serie\n",
        "*   Carga de datos\n",
        "*   Resumen de los datos: dimensiones y estructuras\n",
        "*   Detección y tratamiento de valores ausentes\n",
        "*   Variables dummy\n",
        "*   Ordenar el dataframe\n",
        "*   filtrar por columna o fila\n",
        "*   Query con pandas\n",
        "\n"
      ],
      "metadata": {
        "id": "409oTa9YlVOd"
      }
    },
    {
      "cell_type": "markdown",
      "source": [
        "## Modulos"
      ],
      "metadata": {
        "id": "cHy7CbS89vJm"
      }
    },
    {
      "cell_type": "code",
      "execution_count": null,
      "metadata": {
        "id": "LZJDHSaLORE7"
      },
      "outputs": [],
      "source": [
        "import os\n",
        "import pandas as pd\n",
        "import numpy as np"
      ]
    },
    {
      "cell_type": "markdown",
      "source": [
        "## Crear una serie"
      ],
      "metadata": {
        "id": "dyyZYqFD-kwb"
      }
    },
    {
      "cell_type": "code",
      "source": [
        "s = {'Jairo': 1020159, 'Felipe': 1020486, 'Omar': 1020754} \n",
        "ds_000 = pd.Series(s)\n",
        "ds_000"
      ],
      "metadata": {
        "id": "P_6GaudZ_RPz"
      },
      "execution_count": null,
      "outputs": []
    },
    {
      "cell_type": "code",
      "source": [
        "s = [1020159, 1020486, 1020754]\n",
        "list_indx = ['Jairo', 'Felipe', 'Omar']\n",
        "ds_000 = pd.Series(s,index = list_indx)\n",
        "ds_000"
      ],
      "metadata": {
        "id": "GIvzoaEO-oLE"
      },
      "execution_count": null,
      "outputs": []
    },
    {
      "cell_type": "markdown",
      "source": [
        "## Crear un dataframe"
      ],
      "metadata": {
        "id": "KrECSMPg9jna"
      }
    },
    {
      "cell_type": "code",
      "source": [
        "dm_000 = {'Job Title': ['Android Developer', 'Full Stack Web Developer', 'Full Stack Web Developer'], 'Salary': [3456, 6789,12345]}\n",
        "df_000 = pd.DataFrame(data=dm_000)\n",
        "df_000"
      ],
      "metadata": {
        "id": "48Zz5yyc9qMN"
      },
      "execution_count": null,
      "outputs": []
    },
    {
      "cell_type": "code",
      "source": [
        "s = [1020159, 1020486, 1020754]\n",
        "list_indx = ['Jairo', 'Felipe', 'Omar']\n",
        "ds_000 = pd.Series(s,index = list_indx)\n",
        "dm_000 = {'Job Title': ['Android Developer', 'Full Stack Web Developer', 'Full Stack Web Developer'], 'Salary': ds_000}\n",
        "df_000 = pd.DataFrame(data=dm_000)\n",
        "df_000"
      ],
      "metadata": {
        "id": "gUCIu4kX_-Ye"
      },
      "execution_count": null,
      "outputs": []
    },
    {
      "cell_type": "code",
      "source": [
        "da_000 = np.array([['Jairo', 'Android Developer', 1020159], ['Felipe', 'Full Stack Web Developer', 1020486], ['Omar', 'Full Stack Web Developer', 1020754]])\n",
        "df_000 = pd.DataFrame(da_000,columns=['Name', 'Job Title', 'Salary'])\n",
        "df_000"
      ],
      "metadata": {
        "id": "t96QqZz4Aiqz"
      },
      "execution_count": null,
      "outputs": []
    },
    {
      "cell_type": "markdown",
      "source": [
        "## Carga de datos"
      ],
      "metadata": {
        "id": "tx7NIYfhzOIT"
      }
    },
    {
      "cell_type": "markdown",
      "source": [
        "### Carga de un archivo plano"
      ],
      "metadata": {
        "id": "HvEsWL2p016z"
      }
    },
    {
      "cell_type": "code",
      "source": [
        "mainpath = \"https://raw.githubusercontent.com/elprincipitogauss/lesson/main/\"\n",
        "filename = \"Salary_Dataset_with_Extra_Features.csv\"\n",
        "fullpath = os.path.join(mainpath, filename)\n",
        "fullpath"
      ],
      "metadata": {
        "id": "19j19qPyfpo2"
      },
      "execution_count": null,
      "outputs": []
    },
    {
      "cell_type": "code",
      "source": [
        "df_000 = pd.read_csv(fullpath)\n",
        "df_000"
      ],
      "metadata": {
        "id": "w46flqfCgT39"
      },
      "execution_count": null,
      "outputs": []
    },
    {
      "cell_type": "code",
      "source": [
        "df_001 = pd.read_csv(fullpath, sep=\",\",header = 'infer')\n",
        "df_001"
      ],
      "metadata": {
        "id": "RmT0Q_eRSd-2"
      },
      "execution_count": null,
      "outputs": []
    },
    {
      "cell_type": "code",
      "source": [
        "list_colnames = ['A', 'B', 'C', 'D', 'E', 'F', 'G','H']\n",
        "df_002 = pd.read_csv(fullpath, sep=\",\",names = list_colnames)\n",
        "df_002"
      ],
      "metadata": {
        "id": "3Fc4yXBNgqPr"
      },
      "execution_count": null,
      "outputs": []
    },
    {
      "cell_type": "code",
      "source": [
        "list_colnames = ['A', 'B', 'C', 'D', 'E', 'F', 'G','H']\n",
        "df_003 = pd.read_csv(fullpath, sep=\",\",names = list_colnames,skiprows = 1)\n",
        "df_003"
      ],
      "metadata": {
        "id": "_AYfyYJdhLEb"
      },
      "execution_count": null,
      "outputs": []
    },
    {
      "cell_type": "markdown",
      "source": [
        "### Carga de un archivo de excel"
      ],
      "metadata": {
        "id": "0K8IV7CX07SS"
      }
    },
    {
      "cell_type": "code",
      "source": [
        "mainpath = \"https://raw.githubusercontent.com/elprincipitogauss/lesson/main/\"\n",
        "filename = \"Salary_Dataset_with_Extra_Features.xlsx\"\n",
        "fullpath = os.path.join(mainpath, filename)\n",
        "fullpath"
      ],
      "metadata": {
        "id": "VGKVv00L0zWb"
      },
      "execution_count": null,
      "outputs": []
    },
    {
      "cell_type": "code",
      "source": [
        "df_004 = pd.read_excel(fullpath)\n",
        "df_004"
      ],
      "metadata": {
        "id": "YQ2SLxu61oWR"
      },
      "execution_count": null,
      "outputs": []
    },
    {
      "cell_type": "markdown",
      "source": [
        "## Resumen de los datos: dimensiones y estructuras"
      ],
      "metadata": {
        "id": "NsckBy6DmpHI"
      }
    },
    {
      "cell_type": "code",
      "source": [
        "df = df_000.copy()"
      ],
      "metadata": {
        "id": "4VLRh3-mS3Mb"
      },
      "execution_count": null,
      "outputs": []
    },
    {
      "cell_type": "code",
      "source": [
        "df.head(5)"
      ],
      "metadata": {
        "id": "tuwasdPjlDB-"
      },
      "execution_count": null,
      "outputs": []
    },
    {
      "cell_type": "code",
      "source": [
        "df.tail(5)"
      ],
      "metadata": {
        "id": "-Y23GJfDlAud"
      },
      "execution_count": null,
      "outputs": []
    },
    {
      "cell_type": "code",
      "source": [
        "df.columns"
      ],
      "metadata": {
        "id": "qzQ0PCdMS4A7"
      },
      "execution_count": null,
      "outputs": []
    },
    {
      "cell_type": "code",
      "source": [
        "df.shape"
      ],
      "metadata": {
        "id": "wrYbMu_1bEyd"
      },
      "execution_count": null,
      "outputs": []
    },
    {
      "cell_type": "code",
      "source": [
        "df.describe()"
      ],
      "metadata": {
        "id": "CIMO4jsEjhdw"
      },
      "execution_count": null,
      "outputs": []
    },
    {
      "cell_type": "code",
      "source": [
        "df.dtypes"
      ],
      "metadata": {
        "id": "HdFK1HlBjzPZ"
      },
      "execution_count": null,
      "outputs": []
    },
    {
      "cell_type": "markdown",
      "source": [
        "## Tratamiento y detección de valores ausentes"
      ],
      "metadata": {
        "id": "ciVLN8z_m2w-"
      }
    },
    {
      "cell_type": "code",
      "source": [
        "ftr_name = \"Job Title\""
      ],
      "metadata": {
        "id": "5VEn7sUZ0DQ_"
      },
      "execution_count": null,
      "outputs": []
    },
    {
      "cell_type": "code",
      "source": [
        "pd.isnull(df[ftr_name])"
      ],
      "metadata": {
        "id": "VzDfXXqkj1aK"
      },
      "execution_count": null,
      "outputs": []
    },
    {
      "cell_type": "code",
      "source": [
        "pd.notnull(df[ftr_name])"
      ],
      "metadata": {
        "id": "IPe1dLhYmyrf"
      },
      "execution_count": null,
      "outputs": []
    },
    {
      "cell_type": "code",
      "source": [
        "pd.isnull(df[ftr_name]).values.ravel().sum()"
      ],
      "metadata": {
        "id": "iFluicAMnCMv"
      },
      "execution_count": null,
      "outputs": []
    },
    {
      "cell_type": "code",
      "source": [
        "pd.notnull(df[ftr_name]).values.ravel().sum()"
      ],
      "metadata": {
        "id": "ncgid7VlnUp-"
      },
      "execution_count": null,
      "outputs": []
    },
    {
      "cell_type": "markdown",
      "source": [
        "### Borrar valores ausentes"
      ],
      "metadata": {
        "id": "GeAbTQBP3HpB"
      }
    },
    {
      "cell_type": "code",
      "source": [
        "df.dropna(axis=0, how=\"all\")"
      ],
      "metadata": {
        "id": "FoXRrTm2nZ85"
      },
      "execution_count": null,
      "outputs": []
    },
    {
      "cell_type": "code",
      "source": [
        "df.dropna(axis=0, how=\"any\")"
      ],
      "metadata": {
        "id": "W0bkitkQruVg"
      },
      "execution_count": null,
      "outputs": []
    },
    {
      "cell_type": "markdown",
      "source": [
        "### imputar valores ausentes"
      ],
      "metadata": {
        "id": "yUv1AZqL3fHF"
      }
    },
    {
      "cell_type": "code",
      "source": [
        "df_imputed = df.copy()"
      ],
      "metadata": {
        "id": "5kzzOjJQ7wT5"
      },
      "execution_count": null,
      "outputs": []
    },
    {
      "cell_type": "code",
      "source": [
        "df_imputed.fillna(0)"
      ],
      "metadata": {
        "id": "_DqFL__N3bFk"
      },
      "execution_count": null,
      "outputs": []
    },
    {
      "cell_type": "code",
      "source": [
        "df_imputed.fillna('0')"
      ],
      "metadata": {
        "id": "WGtw-rsg3huw"
      },
      "execution_count": null,
      "outputs": []
    },
    {
      "cell_type": "code",
      "source": [
        "df_imputed[\"X_0\"] = df_imputed[\"Salary\"].fillna(0)\n",
        "df_imputed[\"X_1\"] = df_imputed[\"Salary\"].fillna('0')\n",
        "df_imputed[\"X_2\"] = df_imputed[\"Salary\"].fillna(df[\"Salary\"].mean())\n",
        "df_imputed[\"X_3\"] = df_imputed[\"Salary\"].fillna(method=\"ffill\")\n",
        "df_imputed[\"X_4\"] = df_imputed[\"Salary\"].fillna(method=\"backfill\")\n",
        "df_imputed.head()"
      ],
      "metadata": {
        "id": "QZRykO6D3nI-"
      },
      "execution_count": null,
      "outputs": []
    },
    {
      "cell_type": "markdown",
      "source": [
        "## Variables dummy"
      ],
      "metadata": {
        "id": "xGgA4X3A6uxH"
      }
    },
    {
      "cell_type": "code",
      "source": [
        "df_dummies = df.copy()"
      ],
      "metadata": {
        "id": "zgmM8N5n75gL"
      },
      "execution_count": null,
      "outputs": []
    },
    {
      "cell_type": "code",
      "source": [
        "vars_dummies = pd.get_dummies(df_dummies[\"Employment Status\"], prefix=\"status\")\n",
        "vars_dummies"
      ],
      "metadata": {
        "id": "gFcBpU-A65lb"
      },
      "execution_count": null,
      "outputs": []
    },
    {
      "cell_type": "code",
      "source": [
        "df_drop_var = df_dummies.drop([\"Employment Status\"], axis = 1)\n",
        "df_dummies = pd.concat([df_drop_var, vars_dummies], axis = 1)\n",
        "df_dummies.head()"
      ],
      "metadata": {
        "id": "rEq2VCFo7R0D"
      },
      "execution_count": null,
      "outputs": []
    },
    {
      "cell_type": "markdown",
      "source": [
        "## Ordenar el dataframe"
      ],
      "metadata": {
        "id": "ZnDh2_ggBaHG"
      }
    },
    {
      "cell_type": "code",
      "source": [
        "df.sort_values(by=['Rating'], ascending=False)"
      ],
      "metadata": {
        "id": "PP5SGOoZ7lMN"
      },
      "execution_count": null,
      "outputs": []
    },
    {
      "cell_type": "code",
      "source": [
        "df.sort_values(by=['Rating','Salaries Reported'], ascending=False)"
      ],
      "metadata": {
        "id": "B2aAtNJCBi07"
      },
      "execution_count": null,
      "outputs": []
    },
    {
      "cell_type": "markdown",
      "source": [
        "## Filtrar por columna o fila"
      ],
      "metadata": {
        "id": "Ter9HHT4B9wK"
      }
    },
    {
      "cell_type": "markdown",
      "source": [
        "### filtrar por columnas"
      ],
      "metadata": {
        "id": "mhB5_spsCMPi"
      }
    },
    {
      "cell_type": "code",
      "source": [
        "df.filter(items=['Rating', 'Company Name'], axis=1)"
      ],
      "metadata": {
        "id": "EMWoGysqBnGN"
      },
      "execution_count": null,
      "outputs": []
    },
    {
      "cell_type": "code",
      "source": [
        "df.filter(like='Job', axis=1)"
      ],
      "metadata": {
        "id": "U3ugK-eECUn9"
      },
      "execution_count": null,
      "outputs": []
    },
    {
      "cell_type": "code",
      "source": [
        "df.filter(regex='e$', axis=1)"
      ],
      "metadata": {
        "id": "NcoYO8llCGFz"
      },
      "execution_count": null,
      "outputs": []
    },
    {
      "cell_type": "markdown",
      "source": [
        "### filtrar por fila (index)"
      ],
      "metadata": {
        "id": "uCLDLME5CpNC"
      }
    },
    {
      "cell_type": "code",
      "source": [
        "df.filter(like='227', axis=0)"
      ],
      "metadata": {
        "id": "sdBx9kP9CS6s"
      },
      "execution_count": null,
      "outputs": []
    },
    {
      "cell_type": "code",
      "source": [
        "df.filter(like='227', axis=0)"
      ],
      "metadata": {
        "id": "1GntcSWGCoCy"
      },
      "execution_count": null,
      "outputs": []
    },
    {
      "cell_type": "markdown",
      "source": [
        "## Query con pandas"
      ],
      "metadata": {
        "id": "MAIQVVIODQKd"
      }
    },
    {
      "cell_type": "code",
      "source": [
        "df[df['Salary'] > 100000]"
      ],
      "metadata": {
        "id": "cntz2kV_D2Ws"
      },
      "execution_count": null,
      "outputs": []
    },
    {
      "cell_type": "code",
      "source": [
        "df.query('Salary > 100000')"
      ],
      "metadata": {
        "id": "xc3K28uGDB_u"
      },
      "execution_count": null,
      "outputs": []
    },
    {
      "cell_type": "code",
      "source": [
        "df[df['Salaries Reported'] == df.Rating]"
      ],
      "metadata": {
        "id": "7TNIDz1fENjf"
      },
      "execution_count": null,
      "outputs": []
    },
    {
      "cell_type": "code",
      "source": [
        "df.query('`Salaries Reported` == Rating')"
      ],
      "metadata": {
        "id": "L1joK3YQDlfd"
      },
      "execution_count": null,
      "outputs": []
    },
    {
      "cell_type": "code",
      "source": [
        "df.query('(`Salaries Reported` == Rating) or not (Salary > 100000)')"
      ],
      "metadata": {
        "id": "ENfUc9B-EEbS"
      },
      "execution_count": null,
      "outputs": []
    }
  ]
}