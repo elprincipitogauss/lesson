{
  "cells": [
    {
      "attachments": {},
      "cell_type": "markdown",
      "metadata": {
        "id": "JotXunZRIClk"
      },
      "source": [
        "# BASES DE PYTHON\n",
        "\n",
        "*   Variables \n",
        "*   Variables numéricas\n",
        "*   Variables de texto\n",
        "*   Rangos\n",
        "*   Listas\n",
        "*   Tuplas\n",
        "*   Diccionarios\n",
        "*   Condicionales\n",
        "*   Loops\n",
        "*   Funciones\n",
        "*   Lambda\n",
        "*   Funcion map\n",
        "*   Errores y excepciones\n",
        "*   Bibliografía\n"
      ]
    },
    {
      "attachments": {},
      "cell_type": "markdown",
      "metadata": {
        "id": "NjozzhYC6Lwn"
      },
      "source": [
        "## Variables"
      ]
    },
    {
      "attachments": {},
      "cell_type": "markdown",
      "metadata": {
        "id": "jQalsqZ48ND_"
      },
      "source": [
        "**Reglas para la creación de variables**\\\n",
        "* El nombre de una variable **debe comenzar** con una letra ó con _.\\\n",
        "* El nombre de una variable **no puede comenzar** con un número.\n",
        "* El nombre de una variable **sólo puede contener** carácteres alfa-numéricos.\n",
        "* El nombre de una variable tiene **sensibilidad a mayúsculas y minúsculas** (x es diferente de X)."
      ]
    },
    {
      "cell_type": "code",
      "execution_count": 5,
      "metadata": {
        "colab": {
          "base_uri": "https://localhost:8080/"
        },
        "id": "5C3iE7hZ6PpY",
        "outputId": "d1264282-75f1-4951-b431-424c9d59567c"
      },
      "outputs": [
        {
          "name": "stdout",
          "output_type": "stream",
          "text": [
            "Hola Mundo\n"
          ]
        }
      ],
      "source": [
        "# la asignacion de informacion a una variable\n",
        "Hola_mundo = \"Hola Mundo\" # a la variable Hola_mundo le asigno una cadena de caracteres (string) delimityado por unas comillas\n",
        "print(Hola_mundo) # mostrar en pantalla la informacion asignada a la variable Hola_mundo"
      ]
    },
    {
      "cell_type": "code",
      "execution_count": 6,
      "metadata": {
        "colab": {
          "base_uri": "https://localhost:8080/"
        },
        "id": "K9pkuae56LGK",
        "outputId": "4024bdba-9672-4c5d-aba7-1e9c080ea2c5"
      },
      "outputs": [
        {
          "name": "stdout",
          "output_type": "stream",
          "text": [
            "Hola\n",
            "Mundo\n"
          ]
        }
      ],
      "source": [
        "Hola_mundo2 = \"Hola\\nMundo\" # \\n genera un salto de linea\n",
        "print(Hola_mundo2)"
      ]
    },
    {
      "attachments": {},
      "cell_type": "markdown",
      "metadata": {
        "id": "lWhYWwEGOnk5"
      },
      "source": [
        "## variables numéricas"
      ]
    },
    {
      "cell_type": "code",
      "execution_count": 9,
      "metadata": {
        "colab": {
          "base_uri": "https://localhost:8080/"
        },
        "id": "7wEUS6EUOvkh",
        "outputId": "9991ab70-8f12-499c-92b3-8befa64917d2"
      },
      "outputs": [
        {
          "data": {
            "text/plain": [
              "20220820"
            ]
          },
          "execution_count": 9,
          "metadata": {},
          "output_type": "execute_result"
        }
      ],
      "source": [
        "20220820"
      ]
    },
    {
      "cell_type": "code",
      "execution_count": 10,
      "metadata": {
        "colab": {
          "base_uri": "https://localhost:8080/"
        },
        "id": "8LoTAkFDO35E",
        "outputId": "e697f407-9d55-44f1-8db8-f805b9c9507e"
      },
      "outputs": [
        {
          "name": "stdout",
          "output_type": "stream",
          "text": [
            "20220820\n"
          ]
        }
      ],
      "source": [
        "num = 20220820 # asignar un valor numerico(entero) a la variable num\n",
        "print(num) # muestre lo que tiene la variable num"
      ]
    },
    {
      "cell_type": "code",
      "execution_count": 11,
      "metadata": {
        "colab": {
          "base_uri": "https://localhost:8080/"
        },
        "id": "BZjejybxMzx_",
        "outputId": "189d8fd2-2bcc-4a52-d578-00e6072ef033"
      },
      "outputs": [
        {
          "name": "stdout",
          "output_type": "stream",
          "text": [
            "<class 'int'>\n"
          ]
        }
      ],
      "source": [
        "num = 20220820 # asigna iformacion (integer) a variable\n",
        "print(type(num)) # utilizar type para obtener el tipo de dato"
      ]
    },
    {
      "cell_type": "code",
      "execution_count": 12,
      "metadata": {
        "colab": {
          "base_uri": "https://localhost:8080/"
        },
        "id": "gwFnCuAyM3fb",
        "outputId": "4a212681-8258-41ea-c66b-d471e9be4c1f"
      },
      "outputs": [
        {
          "name": "stdout",
          "output_type": "stream",
          "text": [
            "<class 'float'>\n"
          ]
        }
      ],
      "source": [
        "num = 2022.0820 # asigna iformacion (float) a variable\n",
        "print(type(num)) # utilizar type para obtener el tipo de dato"
      ]
    },
    {
      "attachments": {},
      "cell_type": "markdown",
      "metadata": {
        "id": "tHBtQEzCNKZ_"
      },
      "source": [
        "### Operadores"
      ]
    },
    {
      "attachments": {},
      "cell_type": "markdown",
      "metadata": {
        "id": "dKSnGetNPpWa"
      },
      "source": [
        "Python soporta los siguientes operadores aritmeticos: \n",
        "\n",
        "*   \\+ (Adición)\n",
        "*   \\* (multiplicación)\n",
        "*   / (división)\n",
        "*   ** (potencia)\n",
        "*   // (división entera)."
      ]
    },
    {
      "cell_type": "code",
      "execution_count": 13,
      "metadata": {
        "colab": {
          "base_uri": "https://localhost:8080/"
        },
        "id": "zPdC0ZE_PGnF",
        "outputId": "c9730a16-02bc-4072-ec01-a6bfe4cf5ad5"
      },
      "outputs": [
        {
          "name": "stdout",
          "output_type": "stream",
          "text": [
            "5\n"
          ]
        }
      ],
      "source": [
        "num_a = 2 # asignar informacion numerica a variable\n",
        "num_b = 3 # asignar informacion numerica a variable\n",
        "num = num_a + num_b # operar entre variables numericas\n",
        "print(num) # muestra el resultado de la operacion"
      ]
    },
    {
      "cell_type": "code",
      "execution_count": 14,
      "metadata": {},
      "outputs": [
        {
          "name": "stdout",
          "output_type": "stream",
          "text": [
            "-1\n"
          ]
        }
      ],
      "source": [
        "num_a = 2 # asignar informacion numerica a variable\n",
        "num_b = 3 # asignar informacion numerica a variable\n",
        "num = num_a - num_b # operar entre variables numericas\n",
        "print(num) # muestra el resultado de la operacion"
      ]
    },
    {
      "cell_type": "code",
      "execution_count": 15,
      "metadata": {
        "colab": {
          "base_uri": "https://localhost:8080/"
        },
        "id": "xhzU-cGgQF_A",
        "outputId": "a3d30d08-b519-446d-c0b7-1802ab32f97f"
      },
      "outputs": [
        {
          "name": "stdout",
          "output_type": "stream",
          "text": [
            "6\n"
          ]
        }
      ],
      "source": [
        "num_a = 2 # asignar informacion numerica a variable\n",
        "num_b = 3 # asignar informacion numerica a variable\n",
        "num = num_a * num_b # operar entre variables numericas\n",
        "print(num) # muestra el resultado de la operacion"
      ]
    },
    {
      "cell_type": "code",
      "execution_count": 16,
      "metadata": {
        "colab": {
          "base_uri": "https://localhost:8080/"
        },
        "id": "nX1FEL3YQFtb",
        "outputId": "8a3cced0-39b0-4ddc-a51f-f3125c48e166"
      },
      "outputs": [
        {
          "name": "stdout",
          "output_type": "stream",
          "text": [
            "0.6666666666666666\n"
          ]
        }
      ],
      "source": [
        "num_a = 2 # asignar informacion numerica a variable\n",
        "num_b = 3 # asignar informacion numerica a variable\n",
        "num = num_a / num_b # operar entre variables numericas\n",
        "print(num) # muestra el resultado de la operacion"
      ]
    },
    {
      "cell_type": "code",
      "execution_count": 17,
      "metadata": {
        "colab": {
          "base_uri": "https://localhost:8080/"
        },
        "id": "HTjd9WdbQFie",
        "outputId": "7f88ef44-22e1-4bc3-f2a7-eb3d5581d7c2"
      },
      "outputs": [
        {
          "name": "stdout",
          "output_type": "stream",
          "text": [
            "8\n"
          ]
        }
      ],
      "source": [
        "num_a = 2\n",
        "num_b = 3\n",
        "num = num_a ** num_b # variable num_a elevada a la variable num_b\n",
        "print(num)"
      ]
    },
    {
      "cell_type": "code",
      "execution_count": 18,
      "metadata": {
        "colab": {
          "base_uri": "https://localhost:8080/"
        },
        "id": "mNsvPOh1QFUJ",
        "outputId": "e7138cd8-87c2-42ad-c3cb-bdd85357d9e0"
      },
      "outputs": [
        {
          "name": "stdout",
          "output_type": "stream",
          "text": [
            "2\n"
          ]
        }
      ],
      "source": [
        "num_a = 9\n",
        "num_b = 4\n",
        "num = num_a // num_b # division entera\n",
        "print(num)"
      ]
    },
    {
      "cell_type": "code",
      "execution_count": 20,
      "metadata": {
        "colab": {
          "base_uri": "https://localhost:8080/"
        },
        "id": "7hsLUZNrJ5Mp",
        "outputId": "bcdb87c2-5df4-4d10-e458-ff17142843e1"
      },
      "outputs": [
        {
          "name": "stdout",
          "output_type": "stream",
          "text": [
            "<class 'int'>\n",
            "6\n"
          ]
        }
      ],
      "source": [
        "num = round(5.6) # funciones de redondeo (ojo) funciones de redondeo de numpy\n",
        "print(type(num))\n",
        "print((num))"
      ]
    },
    {
      "attachments": {},
      "cell_type": "markdown",
      "metadata": {
        "id": "XgUduxV4MqQ-"
      },
      "source": [
        "## variables de texto"
      ]
    },
    {
      "attachments": {},
      "cell_type": "markdown",
      "metadata": {
        "id": "Rgm3R1qXRAKv"
      },
      "source": [
        "Una cadena es una secuencia de caracteres\n",
        "* son inmutables"
      ]
    },
    {
      "cell_type": "code",
      "execution_count": 21,
      "metadata": {
        "colab": {
          "base_uri": "https://localhost:8080/",
          "height": 36
        },
        "id": "FQsbzcMAHmjQ",
        "outputId": "39562aac-3afd-4e8b-ba24-00ba381f6c6b"
      },
      "outputs": [
        {
          "name": "stdout",
          "output_type": "stream",
          "text": [
            "Hola\n"
          ]
        }
      ],
      "source": [
        "print('Hola') # cadena de caratceres o texto que estan delmitadas por comillas simples' ', dobles \" \" o por triple comilla doble \"\"\" \"\"\""
      ]
    },
    {
      "cell_type": "code",
      "execution_count": 22,
      "metadata": {},
      "outputs": [
        {
          "name": "stdout",
          "output_type": "stream",
          "text": [
            "Hola\n"
          ]
        }
      ],
      "source": [
        "txt = \"Hola\" # asigna una cadena de caratcer a una variable\n",
        "print(txt)"
      ]
    },
    {
      "cell_type": "code",
      "execution_count": 23,
      "metadata": {
        "colab": {
          "base_uri": "https://localhost:8080/"
        },
        "id": "An-Nrz1PJTgB",
        "outputId": "cdce7974-1f1b-430b-a18e-4516fa108a76"
      },
      "outputs": [
        {
          "name": "stdout",
          "output_type": "stream",
          "text": [
            "Hola\n"
          ]
        }
      ],
      "source": [
        "txt = 'Hola' # asigna una cadena de caratcer a una variable\n",
        "print(txt)"
      ]
    },
    {
      "cell_type": "code",
      "execution_count": 24,
      "metadata": {},
      "outputs": [
        {
          "name": "stdout",
          "output_type": "stream",
          "text": [
            "Hola \"campeón\", cómo te fue en tu partido?\n"
          ]
        }
      ],
      "source": [
        "txt = 'Hola \"campeón\", cómo te fue en tu partido?' # utilizar comillas dentro del texto\n",
        "print(txt)"
      ]
    },
    {
      "cell_type": "code",
      "execution_count": 25,
      "metadata": {
        "colab": {
          "base_uri": "https://localhost:8080/",
          "height": 36
        },
        "id": "FNgnNs3xIUf8",
        "outputId": "2f5e74c6-b50e-48a4-d757-cdc5cad5e277"
      },
      "outputs": [
        {
          "data": {
            "text/plain": [
              "'Poverty is the deprivation of opportunity. \\n Education makes us the human beings we are.'"
            ]
          },
          "execution_count": 25,
          "metadata": {},
          "output_type": "execute_result"
        }
      ],
      "source": [
        "\"\"\"Poverty is the deprivation of opportunity. \n",
        " Education makes us the human beings we are.\"\"\""
      ]
    },
    {
      "cell_type": "code",
      "execution_count": 26,
      "metadata": {
        "colab": {
          "base_uri": "https://localhost:8080/"
        },
        "id": "AavkgQs5JJvo",
        "outputId": "956c9eb5-cba0-4af3-eef2-24b3ed894de4"
      },
      "outputs": [
        {
          "name": "stdout",
          "output_type": "stream",
          "text": [
            "Poverty is the deprivation of opportunity. \n",
            "Education makes us the human beings we are.\n"
          ]
        }
      ],
      "source": [
        "# el uiso de triple doble comilla es para textos largos, parrafos y/o con saltos de linea\n",
        "txt = \"\"\"Poverty is the deprivation of opportunity. \n",
        "Education makes us the human beings we are.\"\"\"\n",
        "print(txt)"
      ]
    },
    {
      "cell_type": "code",
      "execution_count": 27,
      "metadata": {
        "colab": {
          "base_uri": "https://localhost:8080/"
        },
        "id": "dmA6MmQ0Ih_E",
        "outputId": "f75ca9e3-7472-4a16-f0b1-cc9e5f6c728a"
      },
      "outputs": [
        {
          "name": "stdout",
          "output_type": "stream",
          "text": [
            "Poverty is the deprivation of 'opportunity'. \n",
            "\"Education\" makes us the human beings we are.\n"
          ]
        }
      ],
      "source": [
        "# uso de comillas dentro de comillas, deben ser diferentes a las que utilizan para delimitar\n",
        "txt = \"\"\"Poverty is the deprivation of 'opportunity'. \n",
        "\"Education\" makes us the human beings we are.\"\"\"\n",
        "print(txt)"
      ]
    },
    {
      "cell_type": "code",
      "execution_count": 28,
      "metadata": {
        "colab": {
          "base_uri": "https://localhost:8080/"
        },
        "id": "ps3Xa7h3JDz6",
        "outputId": "1eeede09-62c0-4649-81ba-77b22edcec96"
      },
      "outputs": [
        {
          "name": "stdout",
          "output_type": "stream",
          "text": [
            "La ruta del archivo es C:\n",
            "ombre\\lesson.ipynb\n"
          ]
        }
      ],
      "source": [
        "txt = 'La ruta del archivo es C:\\nombre\\lesson.ipynb' # asignacion de informacion a variables\n",
        "print(txt) # mostrar en pantalla la informacion dentro de la variable"
      ]
    },
    {
      "cell_type": "code",
      "execution_count": 31,
      "metadata": {
        "colab": {
          "base_uri": "https://localhost:8080/"
        },
        "id": "5HodPCi7JDpu",
        "outputId": "5d7cb6c6-aba4-4c5f-c9a5-d12d870a2974"
      },
      "outputs": [
        {
          "name": "stdout",
          "output_type": "stream",
          "text": [
            "La ruta del archivo es C:\\nombre\\lesson.ipynb\n"
          ]
        }
      ],
      "source": [
        "# formas de escapar a expresion\n",
        "# uso de \\ antes de la expresion\n",
        "txt = 'La ruta del archivo es C:\\\\nombre\\\\lesson.ipynb'\n",
        "print(txt)"
      ]
    },
    {
      "cell_type": "code",
      "execution_count": 32,
      "metadata": {
        "colab": {
          "base_uri": "https://localhost:8080/"
        },
        "id": "ghxSo0mcJc3n",
        "outputId": "5f885cea-637b-47fc-d40d-bba7bd022c41"
      },
      "outputs": [
        {
          "name": "stdout",
          "output_type": "stream",
          "text": [
            "La ruta del archivo es C:\\nombre\\lesson.ipynb\n"
          ]
        }
      ],
      "source": [
        "# tomar de forma estricta y literal lo que se escribe\n",
        "# uso de r antes de el string\n",
        "txt = r'La ruta del archivo es C:\\nombre\\lesson.ipynb'\n",
        "print(txt)"
      ]
    },
    {
      "attachments": {},
      "cell_type": "markdown",
      "metadata": {
        "id": "fgB1EzfVNOZU"
      },
      "source": [
        "### operadores"
      ]
    },
    {
      "cell_type": "code",
      "execution_count": 33,
      "metadata": {
        "colab": {
          "base_uri": "https://localhost:8080/"
        },
        "id": "UnFo3HnWJ5DI",
        "outputId": "0e824691-e8b3-4959-fd6a-ed5af21eb6d6"
      },
      "outputs": [
        {
          "name": "stdout",
          "output_type": "stream",
          "text": [
            "Poverty is the deprivation of opportunity.\n"
          ]
        }
      ],
      "source": [
        "txt_a = 'Poverty is the '\n",
        "txt_b = 'deprivation of opportunity.'\n",
        "txt = txt_a+txt_b # operador de suma para vars de texto (concatenar|paste)\n",
        "print(txt)"
      ]
    },
    {
      "cell_type": "code",
      "execution_count": 35,
      "metadata": {
        "colab": {
          "base_uri": "https://localhost:8080/"
        },
        "id": "hzHt_IzqJaPQ",
        "outputId": "97322b79-4475-45fc-91fb-c010d821249d"
      },
      "outputs": [
        {
          "name": "stdout",
          "output_type": "stream",
          "text": [
            "Poverty is the deprivation of opportunity.|Education makes us the human beings we are.\n"
          ]
        }
      ],
      "source": [
        "txt_a = 'Poverty is the deprivation of opportunity.'\n",
        "txt_b = ' \\n'\n",
        "txt_c = 'Education makes us the human beings we are.'\n",
        "txt = txt_a+txt_b+txt_c # puedo concatenar varias vars de texto\n",
        "print(txt)"
      ]
    },
    {
      "cell_type": "code",
      "execution_count": 36,
      "metadata": {
        "colab": {
          "base_uri": "https://localhost:8080/"
        },
        "id": "L5Ltt9So77bz",
        "outputId": "910c06ce-f53d-49ce-ba71-df4fe30b0ed1"
      },
      "outputs": [
        {
          "name": "stdout",
          "output_type": "stream",
          "text": [
            "peace_peace_peace_peace_peace_\n"
          ]
        }
      ],
      "source": [
        "txt_a = 'peace_' # var de texto\n",
        "txt_times = 5 # var numerica\n",
        "txt = txt_a*txt_times # escriber tantas veces un mismo texto\n",
        "print(txt)"
      ]
    },
    {
      "attachments": {},
      "cell_type": "markdown",
      "metadata": {
        "id": "FOJDvodhNShf"
      },
      "source": [
        "### entrada de texto"
      ]
    },
    {
      "cell_type": "code",
      "execution_count": 1,
      "metadata": {
        "colab": {
          "base_uri": "https://localhost:8080/"
        },
        "id": "EBtdD_zhJtia",
        "outputId": "fc9f9392-3683-40ce-8ab4-093521199fa5"
      },
      "outputs": [
        {
          "name": "stdout",
          "output_type": "stream",
          "text": [
            "algún texto\n"
          ]
        }
      ],
      "source": [
        "txt_input = input(\"Escriba algún texto: \") # escribe mnensaje en pantalla para esperar entrada del usuario\n",
        "print(txt_input)"
      ]
    },
    {
      "attachments": {},
      "cell_type": "markdown",
      "metadata": {
        "id": "PaUShapyNVAt"
      },
      "source": [
        "### tratamiento de texto (métodos)"
      ]
    },
    {
      "cell_type": "code",
      "execution_count": 45,
      "metadata": {},
      "outputs": [
        {
          "name": "stdout",
          "output_type": "stream",
          "text": [
            "             Poverty Is The             \n"
          ]
        }
      ],
      "source": [
        "txt_a = '             Poverty Is The             '\n",
        "print(txt_a)"
      ]
    },
    {
      "cell_type": "markdown",
      "metadata": {},
      "source": [
        "* metodos para convertir a mayuscula y/o minuscula"
      ]
    },
    {
      "cell_type": "code",
      "execution_count": 39,
      "metadata": {
        "colab": {
          "base_uri": "https://localhost:8080/"
        },
        "id": "BpUVEJtWKexD",
        "outputId": "b25aeedb-953e-4637-b45d-2a1f37742062"
      },
      "outputs": [
        {
          "name": "stdout",
          "output_type": "stream",
          "text": [
            "             poverty is the             \n"
          ]
        }
      ],
      "source": [
        "txt_a = '             Poverty Is The             '\n",
        "txt = txt_a.lower() # metodo pasar a minusculas\n",
        "print(txt)"
      ]
    },
    {
      "cell_type": "code",
      "execution_count": 40,
      "metadata": {
        "colab": {
          "base_uri": "https://localhost:8080/"
        },
        "id": "9SmweogZKvIt",
        "outputId": "1efe5169-9d44-4fc1-9d06-e702fe871c62"
      },
      "outputs": [
        {
          "name": "stdout",
          "output_type": "stream",
          "text": [
            "             POVERTY IS THE             \n"
          ]
        }
      ],
      "source": [
        "txt_a = '             Poverty Is The             '\n",
        "txt = txt_a.upper() # metodo para pasar a mayusculas\n",
        "print(txt)"
      ]
    },
    {
      "cell_type": "markdown",
      "metadata": {},
      "source": [
        "* borrar los espacios extremos redundantes"
      ]
    },
    {
      "cell_type": "code",
      "execution_count": 41,
      "metadata": {
        "colab": {
          "base_uri": "https://localhost:8080/"
        },
        "id": "TZJ4cHvNLsZ-",
        "outputId": "bc4d3def-7377-42eb-8f4b-a2947a721e42"
      },
      "outputs": [
        {
          "name": "stdout",
          "output_type": "stream",
          "text": [
            "Poverty Is The             \n"
          ]
        }
      ],
      "source": [
        "txt_a = '             Poverty Is The             '\n",
        "txt = txt_a.lstrip() # metodo para quitar los vacios a la izquierda (left)\n",
        "print(txt)"
      ]
    },
    {
      "cell_type": "code",
      "execution_count": 42,
      "metadata": {
        "colab": {
          "base_uri": "https://localhost:8080/"
        },
        "id": "ORcEv08MLtDR",
        "outputId": "dc653b74-c7b7-4452-c415-792c43a52db1"
      },
      "outputs": [
        {
          "name": "stdout",
          "output_type": "stream",
          "text": [
            "             Poverty Is The\n"
          ]
        }
      ],
      "source": [
        "txt_a = '             Poverty Is The             '\n",
        "txt = txt_a.rstrip()# metodo para quitar los vacios a la derecha (right)\n",
        "print(txt)"
      ]
    },
    {
      "cell_type": "code",
      "execution_count": 43,
      "metadata": {
        "colab": {
          "base_uri": "https://localhost:8080/"
        },
        "id": "_SaWdXLFLtjx",
        "outputId": "55099c18-2077-4f0d-adcf-b5e20e9d1888"
      },
      "outputs": [
        {
          "name": "stdout",
          "output_type": "stream",
          "text": [
            "Poverty Is The\n"
          ]
        }
      ],
      "source": [
        "txt_a = '             Poverty Is The             '\n",
        "txt = txt_a.strip() # metodo para quitar los vacios a ambos lados\n",
        "print(txt)"
      ]
    },
    {
      "cell_type": "markdown",
      "metadata": {},
      "source": [
        "* condiciones"
      ]
    },
    {
      "cell_type": "code",
      "execution_count": 46,
      "metadata": {
        "colab": {
          "base_uri": "https://localhost:8080/"
        },
        "id": "UXeVxFstL60w",
        "outputId": "b2265aab-5606-4e8b-eccb-99368032c3fb"
      },
      "outputs": [
        {
          "name": "stdout",
          "output_type": "stream",
          "text": [
            "False\n"
          ]
        }
      ],
      "source": [
        "txt_a = '             Poverty Is The             '\n",
        "txt = txt_a.startswith(\"Po\") # metodo para revisar si comienza con\n",
        "print(txt)"
      ]
    },
    {
      "cell_type": "code",
      "execution_count": 2,
      "metadata": {
        "colab": {
          "base_uri": "https://localhost:8080/"
        },
        "id": "96OAjKnlMKAg",
        "outputId": "55a164cf-85cf-4ccf-b62a-b572cc07a617"
      },
      "outputs": [
        {
          "name": "stdout",
          "output_type": "stream",
          "text": [
            "True\n"
          ]
        }
      ],
      "source": [
        "txt_a = '             Poverty Is The             '\n",
        "# podemos encadenar varios metodos... el resultado de aplicar uno le podemos aplicar el siguiente\n",
        "txt = txt_a.strip().startswith(\"Po\") # metodo para quitar vacios y luego si verificar si inicia con po\n",
        "print(txt)"
      ]
    },
    {
      "cell_type": "code",
      "execution_count": 48,
      "metadata": {},
      "outputs": [
        {
          "name": "stdout",
          "output_type": "stream",
          "text": [
            "True\n"
          ]
        }
      ],
      "source": [
        "txt_a = '             Poverty Is The             '\n",
        "# podemos encadenar varios metodos... el resultado de aplicar uno le podemos aplicar el siguiente\n",
        "txt = txt_a.strip().lower().startswith(\"po\") # metodo para quitar vacios y luego si verificar si inicia con po\n",
        "print(txt)"
      ]
    },
    {
      "cell_type": "code",
      "execution_count": 59,
      "metadata": {
        "colab": {
          "base_uri": "https://localhost:8080/"
        },
        "id": "0_7I-ysiMSbt",
        "outputId": "a05daadf-4c95-4dca-d38d-64188f84648b"
      },
      "outputs": [
        {
          "name": "stdout",
          "output_type": "stream",
          "text": [
            "Poverty is the deprivation of opportunity. Education makes us the human beings we are.\n"
          ]
        }
      ],
      "source": [
        "# yo puedo utilizar la informacion en variables para completar texto indexado\n",
        "txt_a = 'Poverty is the deprivation of opportunity.'\n",
        "txt_b = 'Education makes us the human beings we are.'\n",
        "print(\"{} {}\".format(txt_a, txt_b))"
      ]
    },
    {
      "cell_type": "code",
      "execution_count": 67,
      "metadata": {
        "colab": {
          "base_uri": "https://localhost:8080/"
        },
        "id": "mRdTQEcWM8Rr",
        "outputId": "24abb257-ee00-4f0f-eaae-952754e5d92c"
      },
      "outputs": [
        {
          "name": "stdout",
          "output_type": "stream",
          "text": [
            "Poverty is the deprivation of opportunity. Education makes us the human beings we are..\n"
          ]
        }
      ],
      "source": [
        "txt_a = 'Poverty is the deprivation of opportunity.'\n",
        "txt_b = 'Education makes us the human beings we are.'\n",
        "print(\"{0} {1}.\".format(txt_a, txt_b))"
      ]
    },
    {
      "cell_type": "code",
      "execution_count": 68,
      "metadata": {
        "colab": {
          "base_uri": "https://localhost:8080/"
        },
        "id": "ae1250Z6M-wR",
        "outputId": "82bbb2af-9e96-4ada-a3b9-e3f50bbe8824"
      },
      "outputs": [
        {
          "name": "stdout",
          "output_type": "stream",
          "text": [
            "Education makes us the human beings we are. Poverty is the deprivation of opportunity..\n"
          ]
        }
      ],
      "source": [
        "txt_a = 'Poverty is the deprivation of opportunity.'\n",
        "txt_b = 'Education makes us the human beings we are.'\n",
        "print(\"{1} {0}.\".format(txt_a, txt_b))"
      ]
    },
    {
      "cell_type": "code",
      "execution_count": 72,
      "metadata": {},
      "outputs": [
        {
          "name": "stdout",
          "output_type": "stream",
          "text": [
            "a Andres no le gustan los viernes, a Andres tampoco le gustan los lunes\n"
          ]
        }
      ],
      "source": [
        "txt_a = 'a Andres'\n",
        "txt_b = 'no le gustan los viernes'\n",
        "txt_c = 'tampoco le gustan los lunes'\n",
        "print(\"{0} {1}, {0} {2}\".format(txt_a, txt_b, txt_c))"
      ]
    },
    {
      "cell_type": "code",
      "execution_count": 75,
      "metadata": {
        "colab": {
          "base_uri": "https://localhost:8080/"
        },
        "id": "FzFnbImWNDaa",
        "outputId": "f79410ed-2d5e-46bf-a570-872f68f0f227"
      },
      "outputs": [
        {
          "name": "stdout",
          "output_type": "stream",
          "text": [
            "24\n"
          ]
        }
      ],
      "source": [
        "txt_a = '             Poverty Is The             '\n",
        "pattern = 'T'\n",
        "txt = txt_a.find(pattern) # metodo de busqueda de un patroin y devuelve posicion dentro de string\n",
        "print(txt)"
      ]
    },
    {
      "cell_type": "code",
      "execution_count": 81,
      "metadata": {},
      "outputs": [
        {
          "name": "stdout",
          "output_type": "stream",
          "text": [
            "18\n"
          ]
        }
      ],
      "source": [
        "txt_a = '             Poverty Is The             '\n",
        "pattern = 'ty'\n",
        "txt = txt_a.find(pattern) # metodo de busqueda de un patroin y devuelve posicion dentro de string\n",
        "print(txt)"
      ]
    },
    {
      "attachments": {},
      "cell_type": "markdown",
      "metadata": {
        "id": "cvgpPFi7h7vg"
      },
      "source": [
        "* Longitud"
      ]
    },
    {
      "cell_type": "code",
      "execution_count": 82,
      "metadata": {
        "colab": {
          "base_uri": "https://localhost:8080/"
        },
        "id": "Hhlcc56R7Swr",
        "outputId": "13b0fa6d-c4aa-4340-8f28-77401eb11f51"
      },
      "outputs": [
        {
          "data": {
            "text/plain": [
              "10"
            ]
          },
          "execution_count": 82,
          "metadata": {},
          "output_type": "execute_result"
        }
      ],
      "source": [
        "txt = 'Hola mundo'\n",
        "len(txt) # es la longitud de una variable de texto (lenght)"
      ]
    },
    {
      "attachments": {},
      "cell_type": "markdown",
      "metadata": {
        "id": "KTW-t3_17QiB"
      },
      "source": [
        "## Rangos"
      ]
    },
    {
      "attachments": {},
      "cell_type": "markdown",
      "metadata": {
        "id": "Mm_IJKGSJjsb"
      },
      "source": [
        "Es una función que devuelve una secuencia de numeros.\n",
        "* Todas las secuencias en Python comienzan a numerarse desde 0 (n-1)-ésimo elemento de un tupla"
      ]
    },
    {
      "cell_type": "code",
      "execution_count": 85,
      "metadata": {},
      "outputs": [
        {
          "name": "stdout",
          "output_type": "stream",
          "text": [
            "<class 'range'>\n",
            "range(0, 10)\n",
            "0\n",
            "1\n",
            "2\n",
            "3\n",
            "4\n",
            "5\n",
            "6\n",
            "7\n",
            "8\n",
            "9\n"
          ]
        }
      ],
      "source": [
        "# el caso en el que le doy solo una entrada al rango\n",
        "rang = range(10) # asignar a una variable un rango\n",
        "print(type(rang)) # muestreme en pantalla el tipo de objeto o informacion en la variable\n",
        "print(rang) # muestre la informacion dentro del objeto\n",
        "\n",
        "# FOR estructura de control o bucles o ciclos\n",
        "for num in rang: # \n",
        "  print(num) # va a mostrar en pantalla los elementos del rango"
      ]
    },
    {
      "cell_type": "code",
      "execution_count": 86,
      "metadata": {
        "colab": {
          "base_uri": "https://localhost:8080/"
        },
        "id": "Dejnealo7jj6",
        "outputId": "8278c117-e02e-47d2-d0c2-8c75ae22e0ed"
      },
      "outputs": [
        {
          "name": "stdout",
          "output_type": "stream",
          "text": [
            "<class 'range'>\n",
            "range(1, 10)\n",
            "1\n",
            "2\n",
            "3\n",
            "4\n",
            "5\n",
            "6\n",
            "7\n",
            "8\n",
            "9\n"
          ]
        }
      ],
      "source": [
        "# el caso en el que le doy dos entrada al rango\n",
        "rang = range(1, 10) # asignar a una variable un rango\n",
        "print(type(rang)) # muestreme en pantalla el tipo de objeto o informacion en la variable\n",
        "print(rang) # muestre la informacion dentro del objeto\n",
        "\n",
        "# FOR estructura de control o bucles o ciclos\n",
        "for num in rang: # \n",
        "  print(num) # va a mostrar en pantalla los elementos del rango"
      ]
    },
    {
      "cell_type": "code",
      "execution_count": 87,
      "metadata": {
        "colab": {
          "base_uri": "https://localhost:8080/"
        },
        "id": "WN9x3nDW74wB",
        "outputId": "01dc6668-0904-4dc5-d232-f1e1f0648aac"
      },
      "outputs": [
        {
          "name": "stdout",
          "output_type": "stream",
          "text": [
            "<class 'range'>\n",
            "range(5, 16, 2)\n",
            "5\n",
            "7\n",
            "9\n",
            "11\n",
            "13\n",
            "15\n"
          ]
        }
      ],
      "source": [
        "# el caso en el que le doy tres entrada al rango\n",
        "rang = range(5, 16, 2) # saltos al rango 5,7,9,11,13,15 ... no incluye 16\n",
        "print(type(rang))\n",
        "print(rang)\n",
        "for num in rang:\n",
        "  print(num)"
      ]
    },
    {
      "attachments": {},
      "cell_type": "markdown",
      "metadata": {
        "id": "pBCamJX7QmNU"
      },
      "source": [
        "## listas"
      ]
    },
    {
      "attachments": {},
      "cell_type": "markdown",
      "metadata": {
        "id": "GbT6Wb8HPfIt"
      },
      "source": [
        "* Son secuencias mutables\n",
        "* Para buscar en las listas, se utiliza un algoritmo de comparación que tarda cada vez más a medida que la lista se hace más larga.\n",
        "\n"
      ]
    },
    {
      "cell_type": "code",
      "execution_count": 92,
      "metadata": {
        "colab": {
          "base_uri": "https://localhost:8080/"
        },
        "id": "5_H-4P88NUW7",
        "outputId": "31d18907-0ab8-4ae7-d861-2bc8662ae822"
      },
      "outputs": [
        {
          "name": "stdout",
          "output_type": "stream",
          "text": [
            "[]\n"
          ]
        }
      ],
      "source": [
        "list = [] # asignar una lista vacia a la variable\n",
        "print(list)"
      ]
    },
    {
      "cell_type": "code",
      "execution_count": 89,
      "metadata": {},
      "outputs": [
        {
          "name": "stdout",
          "output_type": "stream",
          "text": [
            "Hoy es el día 2022/08/20\n"
          ]
        }
      ],
      "source": [
        "list = ['2022', '08', '20']\n",
        "# acceder a la información de la lista\n",
        "print('Hoy es el día {}/{}/{}'.format(list[0],list[1],list[2]))"
      ]
    },
    {
      "cell_type": "code",
      "execution_count": 94,
      "metadata": {
        "colab": {
          "base_uri": "https://localhost:8080/"
        },
        "id": "C91U45WIQxSA",
        "outputId": "c248051d-4a23-4965-d429-abac6250bd79"
      },
      "outputs": [
        {
          "name": "stdout",
          "output_type": "stream",
          "text": [
            "['2022', '08', '20']\n"
          ]
        }
      ],
      "source": [
        "list = ['2022', '08', '20'] # asignar una lista de tres elementos/variables de texto\n",
        "print(list)"
      ]
    },
    {
      "cell_type": "code",
      "execution_count": 99,
      "metadata": {},
      "outputs": [
        {
          "name": "stdout",
          "output_type": "stream",
          "text": [
            "[2022, 8, 20]\n"
          ]
        }
      ],
      "source": [
        "list = [2022,8,20] # asignar una lista de tres elementos/variables de numericos\n",
        "print(list)"
      ]
    },
    {
      "cell_type": "code",
      "execution_count": 100,
      "metadata": {},
      "outputs": [
        {
          "name": "stdout",
          "output_type": "stream",
          "text": [
            "[2022, 8, 20, 'sabado']\n"
          ]
        }
      ],
      "source": [
        "list = [2022, 8, 20, 'sabado'] # asignar una lista de tres elementos/variables numericos o de texto\n",
        "print(list)"
      ]
    },
    {
      "cell_type": "markdown",
      "metadata": {},
      "source": [
        "* metodo para mutar listas"
      ]
    },
    {
      "cell_type": "code",
      "execution_count": 101,
      "metadata": {
        "colab": {
          "base_uri": "https://localhost:8080/"
        },
        "id": "Qf6m3EGfRBfh",
        "outputId": "96c9a417-6c17-4db2-8b5c-3d10a3b9adff"
      },
      "outputs": [
        {
          "data": {
            "text/plain": [
              "['2022', '08', '20', 'sabado']"
            ]
          },
          "execution_count": 101,
          "metadata": {},
          "output_type": "execute_result"
        }
      ],
      "source": [
        "list_a = ['2022', '08', '20']#crear la lista\n",
        "list_b = 'sabado'# variable de texto\n",
        "list_a.append(list_b)# metodo append para agregar a la lista un nuevo elemento\n",
        "list_a"
      ]
    },
    {
      "cell_type": "code",
      "execution_count": 102,
      "metadata": {
        "colab": {
          "base_uri": "https://localhost:8080/"
        },
        "id": "iK0ALjA4Q3oZ",
        "outputId": "64a01d85-ab1a-408a-ccf6-80c6e3472b18"
      },
      "outputs": [
        {
          "name": "stdout",
          "output_type": "stream",
          "text": [
            "[2022, 8, 20, 'sabado']\n"
          ]
        }
      ],
      "source": [
        "list = [2022, 8, 20] #crear la lista\n",
        "list_a = 'sabado' # variable de texto\n",
        "list.append(list_a) # metodo append para agregar a la lista un nuevo elemento\n",
        "print(list)"
      ]
    },
    {
      "cell_type": "code",
      "execution_count": 103,
      "metadata": {
        "colab": {
          "base_uri": "https://localhost:8080/",
          "height": 36
        },
        "id": "PpHrD3K1TJrd",
        "outputId": "04c921d2-ff0f-491c-c68a-4c7dba5b9d23"
      },
      "outputs": [
        {
          "data": {
            "text/plain": [
              "'20'"
            ]
          },
          "execution_count": 103,
          "metadata": {},
          "output_type": "execute_result"
        }
      ],
      "source": [
        "list = ['2022', '08', '20']\n",
        "list[2] # posicion de elementos en una lista"
      ]
    },
    {
      "cell_type": "code",
      "execution_count": 104,
      "metadata": {
        "colab": {
          "base_uri": "https://localhost:8080/"
        },
        "id": "HqBL92EaTutU",
        "outputId": "2a10c120-7a8f-4806-bd0a-2d07054d656b"
      },
      "outputs": [
        {
          "data": {
            "text/plain": [
              "['2022', '08']"
            ]
          },
          "execution_count": 104,
          "metadata": {},
          "output_type": "execute_result"
        }
      ],
      "source": [
        "list = ['2022', '08', '20']\n",
        "list[0:2] # seleccionar segun un rango de posiciones"
      ]
    },
    {
      "cell_type": "code",
      "execution_count": 105,
      "metadata": {
        "colab": {
          "base_uri": "https://localhost:8080/"
        },
        "id": "AfLkvOpPTxpc",
        "outputId": "e9064769-45ef-4b2d-acbc-b46598ca3fb6"
      },
      "outputs": [
        {
          "data": {
            "text/plain": [
              "['08', '20']"
            ]
          },
          "execution_count": 105,
          "metadata": {},
          "output_type": "execute_result"
        }
      ],
      "source": [
        "list = ['2022', '08', '20']\n",
        "list[1:] # seleccionar los elementos desde una posicion hasta la ultima (inluyendola)"
      ]
    },
    {
      "cell_type": "code",
      "execution_count": 106,
      "metadata": {
        "colab": {
          "base_uri": "https://localhost:8080/"
        },
        "id": "pUU3UuNgT1io",
        "outputId": "31303823-c2a5-4ec2-e6d0-a160c1daebcd"
      },
      "outputs": [
        {
          "data": {
            "text/plain": [
              "True"
            ]
          },
          "execution_count": 106,
          "metadata": {},
          "output_type": "execute_result"
        }
      ],
      "source": [
        "list = ['2022', '08', '20']\n",
        "'20' in list # verificar condición de si existe un elemento en la lista "
      ]
    },
    {
      "cell_type": "code",
      "execution_count": 107,
      "metadata": {},
      "outputs": [
        {
          "data": {
            "text/plain": [
              "False"
            ]
          },
          "execution_count": 107,
          "metadata": {},
          "output_type": "execute_result"
        }
      ],
      "source": [
        "list = ['2022', '08', '20']\n",
        "20 in list # verificar condición de si existe un elemento en la lista "
      ]
    },
    {
      "cell_type": "code",
      "execution_count": 108,
      "metadata": {
        "colab": {
          "base_uri": "https://localhost:8080/"
        },
        "id": "Qu-SX8U_T8c2",
        "outputId": "ca9b432a-cfed-4ae3-afa1-15eebea0c055"
      },
      "outputs": [
        {
          "name": "stdout",
          "output_type": "stream",
          "text": [
            "3\n",
            "['2022', '08', '20']\n"
          ]
        }
      ],
      "source": [
        "list = ['2022', '08', '20']\n",
        "print(len(list)) # dimensiones de las listas \n",
        "print(list)"
      ]
    },
    {
      "cell_type": "markdown",
      "metadata": {},
      "source": [
        "* diferencia entre .append() y .insert()"
      ]
    },
    {
      "cell_type": "code",
      "execution_count": 111,
      "metadata": {},
      "outputs": [
        {
          "data": {
            "text/plain": [
              "['nuevo_elemento', 'ultimo_elemento']"
            ]
          },
          "execution_count": 111,
          "metadata": {},
          "output_type": "execute_result"
        }
      ],
      "source": [
        "lista = []\n",
        "lista.append('nuevo_elemento')\n",
        "lista.append('ultimo_elemento')\n",
        "lista"
      ]
    },
    {
      "cell_type": "code",
      "execution_count": 112,
      "metadata": {
        "colab": {
          "base_uri": "https://localhost:8080/"
        },
        "id": "bl1pM1UYQFjy",
        "outputId": "4af9427a-f1d1-4305-a935-b92ff6ffd3f7"
      },
      "outputs": [
        {
          "name": "stdout",
          "output_type": "stream",
          "text": [
            "['Hoy', '2022', '08', '20']\n"
          ]
        }
      ],
      "source": [
        "list = ['2022', '08', '20'] # creo una lista\n",
        "list.insert(0,'Hoy') # metodo insert para agregar un elemento indicando una posicion\n",
        "print(list)"
      ]
    },
    {
      "cell_type": "code",
      "execution_count": 6,
      "metadata": {
        "colab": {
          "base_uri": "https://localhost:8080/"
        },
        "id": "Isj2mNTfQImR",
        "outputId": "977a097b-904a-423f-aa1d-cadec423109d"
      },
      "outputs": [
        {
          "name": "stdout",
          "output_type": "stream",
          "text": [
            "['08', '20']\n"
          ]
        }
      ],
      "source": [
        "list = ['2022', '08', '20'] # creo una lista\n",
        "list.remove('2022') # elimino elemento de la lista\n",
        "print(list)"
      ]
    },
    {
      "cell_type": "code",
      "execution_count": 9,
      "metadata": {},
      "outputs": [
        {
          "data": {
            "text/plain": [
              "2"
            ]
          },
          "execution_count": 9,
          "metadata": {},
          "output_type": "execute_result"
        }
      ],
      "source": [
        "list = ['2022', '08', '20']\n",
        "list.index('20') # cual es el indice/posicion del elemento buscado en la lista"
      ]
    },
    {
      "cell_type": "code",
      "execution_count": 10,
      "metadata": {
        "colab": {
          "base_uri": "https://localhost:8080/"
        },
        "id": "bJT5h1cdQjRp",
        "outputId": "32bfd58b-57d3-4456-8ec4-0cfa561f44a0"
      },
      "outputs": [
        {
          "name": "stdout",
          "output_type": "stream",
          "text": [
            "2\n"
          ]
        }
      ],
      "source": [
        "list = ['2022', '08', '20']\n",
        "print(list.index('20')) # metodo index para averiguar el indice en el que se posiciona un elemento"
      ]
    },
    {
      "attachments": {},
      "cell_type": "markdown",
      "metadata": {
        "id": "ewsXo0_cIWiF"
      },
      "source": [
        "## Tuplas"
      ]
    },
    {
      "attachments": {},
      "cell_type": "markdown",
      "metadata": {
        "id": "q1VkN8-UJN9g"
      },
      "source": [
        "Las tuplas son secuencias, igual que las cadenas, y se puede utilizar la misma notación de índices que en las cadenas para obtener cada una de sus componentes.\n",
        "* Es posible anidar tuplas\n",
        "* Las tuplas son inmutables\n"
      ]
    },
    {
      "cell_type": "code",
      "execution_count": 11,
      "metadata": {
        "colab": {
          "base_uri": "https://localhost:8080/"
        },
        "id": "NATvL-SCIYe5",
        "outputId": "30c14829-1ac6-460c-e018-3499249a0bbe"
      },
      "outputs": [
        {
          "name": "stdout",
          "output_type": "stream",
          "text": [
            "<class 'tuple'>\n",
            "(20, 'Agosto', 2022)\n"
          ]
        }
      ],
      "source": [
        "tup = (20, \"Agosto\", 2022)\n",
        "print(type(tup))\n",
        "print(tup)"
      ]
    },
    {
      "cell_type": "markdown",
      "metadata": {},
      "source": [
        "* anidar tuplas"
      ]
    },
    {
      "cell_type": "code",
      "execution_count": 12,
      "metadata": {
        "colab": {
          "base_uri": "https://localhost:8080/"
        },
        "id": "Hc7WJeVdK92g",
        "outputId": "130c2c83-f6f7-47dc-9de8-2359031c7deb"
      },
      "outputs": [
        {
          "name": "stdout",
          "output_type": "stream",
          "text": [
            "('hoy', (20, 'Agosto', 2022))\n"
          ]
        }
      ],
      "source": [
        "tup_a = (20, \"Agosto\", 2022)\n",
        "tup_b = ('hoy', tup_a) # anidar tuplas\n",
        "print(tup_b)"
      ]
    },
    {
      "cell_type": "code",
      "execution_count": 13,
      "metadata": {},
      "outputs": [
        {
          "name": "stdout",
          "output_type": "stream",
          "text": [
            "(1, 2, 3)\n",
            "(1, 2, 3)\n"
          ]
        }
      ],
      "source": [
        "# 1ra forma de definir tupla\n",
        "tupla = (1,2,3)\n",
        "print(tupla)\n",
        "# 2da forma de definir tupla\n",
        "tupla_2 = 1,2,3\n",
        "print(tupla_2)"
      ]
    },
    {
      "cell_type": "code",
      "execution_count": 14,
      "metadata": {},
      "outputs": [
        {
          "name": "stdout",
          "output_type": "stream",
          "text": [
            "('lunes', 'martes', 'miercoles')\n",
            "('lunes', 'martes', 'miercoles', 'jueves', 'viernes')\n",
            "(('lunes', 'martes', 'miercoles'), 'jueves', 'viernes')\n",
            "('lunes', 'martes', 'miercoles', 'jueves', 'viernes')\n"
          ]
        }
      ],
      "source": [
        "# pack empacar\n",
        "# definir dos tuplas\n",
        "tupla_a = ('lunes','martes','miercoles')\n",
        "print(tupla_a)\n",
        "tupla_b = ('lunes','martes','miercoles','jueves','viernes')\n",
        "print(tupla_b)\n",
        "\n",
        "# definir tupla a partir de una existente y nuevos elementos\n",
        "tupla_c = tupla_a, 'jueves','viernes'\n",
        "print(tupla_c)\n",
        "\n",
        "# unpack desempacar\n",
        "# al desempacar las tup´las se debe reservar la misma cantidad de variables adentro de la tupla\n",
        "ele_1_tup_a,ele_2_tup_a,ele_3_tup_a = tupla_a\n",
        "# empacar usando los elementos desempacados\n",
        "tupla_d = ele_1_tup_a,ele_2_tup_a,ele_3_tup_a, 'jueves','viernes'\n",
        "print(tupla_d)"
      ]
    },
    {
      "attachments": {},
      "cell_type": "markdown",
      "metadata": {
        "id": "WkuK0k0JMIAt"
      },
      "source": [
        "**Empaquetado y desempaquetado**"
      ]
    },
    {
      "cell_type": "code",
      "execution_count": 15,
      "metadata": {
        "colab": {
          "base_uri": "https://localhost:8080/"
        },
        "id": "PjMV84CCL7rA",
        "outputId": "d96a1b97-3ed7-4a40-95ed-565b04be052a"
      },
      "outputs": [
        {
          "name": "stdout",
          "output_type": "stream",
          "text": [
            "<class 'tuple'>\n",
            "(20, 'Agosto', 2022)\n"
          ]
        }
      ],
      "source": [
        "tup = 20, \"Agosto\", 2022 # crear una tupla empaquetando elementos\n",
        "print(type(tup))\n",
        "print(tup)"
      ]
    },
    {
      "cell_type": "code",
      "execution_count": 16,
      "metadata": {
        "colab": {
          "base_uri": "https://localhost:8080/"
        },
        "id": "8KKRLkqEMNEc",
        "outputId": "ee1b5d8c-e298-42c4-c945-a5219813834a"
      },
      "outputs": [
        {
          "name": "stdout",
          "output_type": "stream",
          "text": [
            "<class 'int'>\n",
            "20\n",
            "<class 'str'>\n",
            "Agosto\n",
            "<class 'int'>\n",
            "2022\n"
          ]
        }
      ],
      "source": [
        "tup = 20, \"Agosto\", 2022 # crear una tupla empaquetando\n",
        "a, b, c = tup # desempacar una tupla\n",
        "print(type(a))\n",
        "print(a)\n",
        "print(type(b))\n",
        "print(b)\n",
        "print(type(c))\n",
        "print(c)"
      ]
    },
    {
      "attachments": {},
      "cell_type": "markdown",
      "metadata": {
        "id": "PKVwthpaIY-u"
      },
      "source": [
        "## Diccionarios"
      ]
    },
    {
      "attachments": {},
      "cell_type": "markdown",
      "metadata": {
        "id": "1zvU2P8cNngy"
      },
      "source": [
        "Un diccionario es una colección no-ordenada de valores que son accedidos a traves de una clave\n",
        "* El algoritmo que usa Python internamente para buscar un elemento en un diccionario es muy distinto que el que utiliza para buscar en listas. Para buscar en diccionarios se utiliza un algoritmo llamado hash, que se basa en realizar un cálculo numérico sobre la clave del elemento, y tiene una propiedad muy interesante: sin importar cuántos elementos tenga el diccionario, el tiempo de búsqueda es siempre aproximadamente igual."
      ]
    },
    {
      "cell_type": "code",
      "execution_count": 17,
      "metadata": {
        "colab": {
          "base_uri": "https://localhost:8080/"
        },
        "id": "nqwWIHXkIagn",
        "outputId": "5f83bdae-9584-4e91-dfd0-b43b6b21e046"
      },
      "outputs": [
        {
          "name": "stdout",
          "output_type": "stream",
          "text": [
            "<class 'dict'>\n",
            "{}\n"
          ]
        }
      ],
      "source": [
        "dicti = {} \n",
        "print(type(dicti))\n",
        "print(dicti)"
      ]
    },
    {
      "cell_type": "code",
      "execution_count": 20,
      "metadata": {
        "colab": {
          "base_uri": "https://localhost:8080/"
        },
        "id": "Amd96mMzOB7o",
        "outputId": "640a3440-fa7d-40f7-fb4c-ac6734955e6c"
      },
      "outputs": [
        {
          "name": "stdout",
          "output_type": "stream",
          "text": [
            "<class 'dict'>\n",
            "{'Jairo': [29, 'ingenieria'], 'Carlos': [29, 'Matematicas', 'estadistica', 'fisica'], 'Juliana': [25, 'derecho', 'penal'], 'andres': 'se murió'}\n"
          ]
        }
      ],
      "source": [
        "dicti = {} # creo un diccionario vacio\n",
        "\n",
        "dicti[\"Jairo\"] = [29, 'ingenieria'] # asignar informacion a llaves del diccionario\n",
        "dicti[\"Carlos\"] = [29, 'Matematicas','estadistica','fisica'] # asignar informacion a llaves del diccionario\n",
        "dicti[\"Juliana\"] = [25, 'derecho','penal'] # asignar informacion a llaves del diccionario\n",
        "dicti['andres'] = 'se murió'\n",
        "\n",
        "print(type(dicti)) # que tipo de dato quedó siendo\n",
        "print(dicti) # muestre la informacion que tiene el diccionario por dentro"
      ]
    },
    {
      "cell_type": "code",
      "execution_count": 22,
      "metadata": {
        "colab": {
          "base_uri": "https://localhost:8080/"
        },
        "id": "Rh8z2arzOoVb",
        "outputId": "3824ede6-807c-4987-8c1e-8e1ed3f34fab"
      },
      "outputs": [
        {
          "name": "stdout",
          "output_type": "stream",
          "text": [
            "<class 'list'>\n",
            "[29, 'ingenieria']\n"
          ]
        }
      ],
      "source": [
        "dicti = {} # creo diccionario vacio\n",
        "dicti[\"Jairo\"] = [29, 'ingenieria'] #creo una llave con una informacion\n",
        "\n",
        "print(type(dicti[\"Jairo\"] )) # muestre enn pantalla el tipo de dato de la llave jairo\n",
        "print(dicti[\"Jairo\"]) # muestre la informacion que tiene adentro de la llave jairo\n",
        "\n"
      ]
    },
    {
      "cell_type": "code",
      "execution_count": 23,
      "metadata": {},
      "outputs": [
        {
          "name": "stdout",
          "output_type": "stream",
          "text": [
            "<class 'list'>\n",
            "[29, 'ingenieria']\n"
          ]
        }
      ],
      "source": [
        "print(type(dicti.get(\"Jairo\") ))  # metodo get para traer la informacion que tiene en una llave\n",
        "print(dicti.get(\"Jairo\")) # "
      ]
    },
    {
      "attachments": {},
      "cell_type": "markdown",
      "metadata": {
        "id": "waEjd4d6PN4J"
      },
      "source": [
        "**recorrido**"
      ]
    },
    {
      "cell_type": "code",
      "execution_count": 26,
      "metadata": {},
      "outputs": [
        {
          "name": "stdout",
          "output_type": "stream",
          "text": [
            "0\n",
            "1\n",
            "2\n",
            "3\n",
            "4\n",
            "5\n",
            "6\n",
            "7\n",
            "8\n",
            "9\n"
          ]
        }
      ],
      "source": [
        "for i in range(10):\n",
        "    print(i)"
      ]
    },
    {
      "cell_type": "code",
      "execution_count": 28,
      "metadata": {
        "colab": {
          "base_uri": "https://localhost:8080/"
        },
        "id": "tZkxwyGPPEKT",
        "outputId": "df2a586b-d3d3-41c6-a3d3-cbe990a05538"
      },
      "outputs": [
        {
          "name": "stdout",
          "output_type": "stream",
          "text": [
            "Jairo : [29, 'ingenieria']\n",
            "no es jairo\n",
            "no es jairo\n"
          ]
        }
      ],
      "source": [
        "dicti = {} # creo un diccionario\n",
        "dicti[\"Jairo\"] = [29, 'ingenieria'] # lleno de informacion el diccionario segun llaves\n",
        "dicti[\"Carlos\"] = [29, 'Matematicas','estadistica','fisica'] # lleno de informacion el diccionario segun llaves\n",
        "dicti[\"Juliana\"] = [25, 'derecho','penal'] # lleno de informacion el diccionario segun llaves\n",
        "\n",
        "for nombre, info in dicti.items(): # for (estructura de control) usando items\n",
        "   print(nombre, \":\", info) # muestre en pantalla la concatenacion de el nbombre : informacion"
      ]
    },
    {
      "cell_type": "code",
      "execution_count": 32,
      "metadata": {
        "colab": {
          "base_uri": "https://localhost:8080/",
          "height": 223
        },
        "id": "URdJ-ZikDbBu",
        "outputId": "7e99f264-d424-42aa-bab4-305c72e7aaab"
      },
      "outputs": [
        {
          "ename": "ValueError",
          "evalue": "not enough values to unpack (expected 3, got 2)",
          "output_type": "error",
          "traceback": [
            "\u001b[1;31m---------------------------------------------------------------------------\u001b[0m",
            "\u001b[1;31mValueError\u001b[0m                                Traceback (most recent call last)",
            "\u001b[1;32mg:\\My Drive\\Consultoria\\unicafam\\2 - cursos\\Modelos de analítica\\FOSFEC\\20230915 - 20230926\\compartida\\notebooks\\001_python_basic.ipynb Cell 105\u001b[0m line \u001b[0;36m1\n\u001b[0;32m      <a href='vscode-notebook-cell:/g%3A/My%20Drive/Consultoria/unicafam/2%20-%20cursos/Modelos%20de%20anal%C3%ADtica/FOSFEC/20230915%20-%2020230926/compartida/notebooks/001_python_basic.ipynb#Y203sZmlsZQ%3D%3D?line=6'>7</a>\u001b[0m dicti[\u001b[39m\"\u001b[39m\u001b[39mCarla Giraldo\u001b[39m\u001b[39m\"\u001b[39m] \u001b[39m=\u001b[39m \u001b[39m25\u001b[39m\n\u001b[0;32m      <a href='vscode-notebook-cell:/g%3A/My%20Drive/Consultoria/unicafam/2%20-%20cursos/Modelos%20de%20anal%C3%ADtica/FOSFEC/20230915%20-%2020230926/compartida/notebooks/001_python_basic.ipynb#Y203sZmlsZQ%3D%3D?line=8'>9</a>\u001b[0m \u001b[39m# recorrer el diccionario con el metodo items desempacando el nombre y la informacion\u001b[39;00m\n\u001b[1;32m---> <a href='vscode-notebook-cell:/g%3A/My%20Drive/Consultoria/unicafam/2%20-%20cursos/Modelos%20de%20anal%C3%ADtica/FOSFEC/20230915%20-%2020230926/compartida/notebooks/001_python_basic.ipynb#Y203sZmlsZQ%3D%3D?line=9'>10</a>\u001b[0m \u001b[39mfor\u001b[39;00m nombre, info, por \u001b[39min\u001b[39;00m dicti\u001b[39m.\u001b[39mitems():\n\u001b[0;32m     <a href='vscode-notebook-cell:/g%3A/My%20Drive/Consultoria/unicafam/2%20-%20cursos/Modelos%20de%20anal%C3%ADtica/FOSFEC/20230915%20-%2020230926/compartida/notebooks/001_python_basic.ipynb#Y203sZmlsZQ%3D%3D?line=10'>11</a>\u001b[0m    \u001b[39mprint\u001b[39m(nombre, \u001b[39m\"\u001b[39m\u001b[39m:\u001b[39m\u001b[39m\"\u001b[39m, info, por)\n",
            "\u001b[1;31mValueError\u001b[0m: not enough values to unpack (expected 3, got 2)"
          ]
        }
      ],
      "source": [
        "dicti = {}\n",
        "dicti[\"Jairo\"] = [29, 'ingenieria']\n",
        "dicti[\"Carlos\"] = [29, 'Matematicas','estadistica','fisica']\n",
        "dicti[\"Juliana\"] = [25, 'derecho','penal']\n",
        "dicti[\"Carla\"] = 25\n",
        "dicti[\"CarlaG\"] = 25\n",
        "dicti[\"Carla Giraldo\"] = 25\n",
        "\n",
        "# recorrer el diccionario con el metodo items desempacando el nombre y la informacion\n",
        "for nombre, info, por in dicti.items():\n",
        "   print(nombre, \":\", info, por)"
      ]
    },
    {
      "attachments": {},
      "cell_type": "markdown",
      "metadata": {
        "id": "dxyWQi8EUSyl"
      },
      "source": [
        "## Condicionales"
      ]
    },
    {
      "attachments": {},
      "cell_type": "markdown",
      "metadata": {},
      "source": [
        "Comparar\n",
        "\n",
        "* menor <\n",
        "* mayor >\n",
        "* igual == (no usar = debido a que es el simbolo de asignacion)"
      ]
    },
    {
      "cell_type": "code",
      "execution_count": 33,
      "metadata": {},
      "outputs": [
        {
          "data": {
            "text/plain": [
              "True"
            ]
          },
          "execution_count": 33,
          "metadata": {},
          "output_type": "execute_result"
        }
      ],
      "source": [
        "# asignando...\n",
        "var = 15\n",
        "# comparando\n",
        "var < 20220820"
      ]
    },
    {
      "cell_type": "code",
      "execution_count": 37,
      "metadata": {},
      "outputs": [
        {
          "name": "stdout",
          "output_type": "stream",
          "text": [
            "no es menor\n"
          ]
        }
      ],
      "source": [
        "# si cumple una condicion realice una accion....\n",
        "\n",
        "var = 1000000000 # uso = para asignar\n",
        "\n",
        "if var < 20220820: # usando un IF(si se cumple...) ELIF (otra condición) ELSE (todo caso contrario)\n",
        "  print(\"es menor\")\n",
        "else :\n",
        "  print('no es menor')"
      ]
    },
    {
      "cell_type": "code",
      "execution_count": 41,
      "metadata": {},
      "outputs": [
        {
          "name": "stdout",
          "output_type": "stream",
          "text": [
            "No sabe\n"
          ]
        }
      ],
      "source": [
        "# la hija  de camilo es hincha de un equipo\n",
        "camilo = 'No sabe'\n",
        "hija = '...'\n",
        "\n",
        "\n",
        "# el papá va a reaccionar según...\n",
        "if (hija == 'Santafe'):\n",
        "    camilo = 'feliz' # accion a realizar (asignacion de informacion)\n",
        "\n",
        "# mostrar en pantalla contenido de variable camilo\n",
        "print(camilo)"
      ]
    },
    {
      "cell_type": "code",
      "execution_count": 43,
      "metadata": {},
      "outputs": [
        {
          "name": "stdout",
          "output_type": "stream",
          "text": [
            "feliz\n"
          ]
        }
      ],
      "source": [
        "\n",
        "camilo = 'No sabe'\n",
        "# la hija  de camilo es hincha de un equipo\n",
        "hija = 'Santafe'\n",
        "\n",
        "\n",
        "# el papá va a reaccionar según...\n",
        "if (hija == 'Santafe'): # condicion\n",
        "    camilo = 'feliz' # acciones\n",
        "else:\n",
        "    camilo = 'preocupado' # acciones\n",
        "\n",
        "\n",
        "# mostrar en pantalla contenido de variable camilo\n",
        "print(camilo)"
      ]
    },
    {
      "cell_type": "code",
      "execution_count": null,
      "metadata": {},
      "outputs": [],
      "source": [
        "\n",
        "camilo = 'No sabe'\n",
        "# la hija  de camilo es hincha de un equipo\n",
        "hija = 'Santafe'\n",
        "\n",
        "\n",
        "# el papá va a reaccionar según...\n",
        "if (hija == 'Santafe'): # 1ra condicion\n",
        "    camilo = 'feliz' # acciones\n",
        "elif (hija == 'Millonarios'):\n",
        "    camilo = 'Furioso' #2da condicion\n",
        "elif (hija == 'Junior'):\n",
        "    camilo = 'La niña es del ICBF' #3da condicion\n",
        "else: # todo lo contrario (todos los demas casos)\n",
        "    camilo = 'preocupado' # acciones\n",
        "\n",
        "# case when (casos)\n",
        "\n",
        "# mostrar en pantalla contenido de variable camilo\n",
        "print(camilo)"
      ]
    },
    {
      "cell_type": "code",
      "execution_count": 44,
      "metadata": {},
      "outputs": [],
      "source": [
        "# si cumple una condicion realice una accion....\n",
        "\n",
        "var = 15 # uso = para asignar\n",
        "\n",
        "if var == 20220820: # usando un IF ELIF ELSE\n",
        "  print(\"es igual\")"
      ]
    },
    {
      "cell_type": "code",
      "execution_count": 45,
      "metadata": {},
      "outputs": [
        {
          "name": "stdout",
          "output_type": "stream",
          "text": [
            "es mayor\n"
          ]
        }
      ],
      "source": [
        "# si cumple una condicion realice una accion....\n",
        "\n",
        "var = 99999999 # uso = para asignar\n",
        "\n",
        "if var > 20220820: # usando un IF ELIF ELSE\n",
        "  print(\"es mayor\")"
      ]
    },
    {
      "cell_type": "code",
      "execution_count": 46,
      "metadata": {
        "colab": {
          "base_uri": "https://localhost:8080/"
        },
        "id": "j5zgBmg7UChI",
        "outputId": "af8396b7-c7d4-4fb0-97db-f6fc15cf6bd0"
      },
      "outputs": [
        {
          "name": "stdout",
          "output_type": "stream",
          "text": [
            "es mayor\n"
          ]
        }
      ],
      "source": [
        "var = 999999999 # uso = para asignar # si cumple una condicion realice una accion....\n",
        "\n",
        "if var < 20220820: # usando un IF ELIF ELSE\n",
        "  print(\"es menor\") \n",
        "elif var == 20220820: # uso == para comparar # elif en caso de que no se cumpla evalua otra condicion realice una  accion\n",
        "  print(\"es exacto\")\n",
        "else: # my_variable > 20220820 # en todo caso contrario realice una  accion\n",
        "  print(\"es mayor\")"
      ]
    },
    {
      "cell_type": "code",
      "execution_count": 50,
      "metadata": {},
      "outputs": [
        {
          "name": "stdout",
          "output_type": "stream",
          "text": [
            "La hora de llegada de jaime fue a las 7.5\n",
            "Llegó tarde a clase\n"
          ]
        }
      ],
      "source": [
        "# ejemplo\n",
        "# hora de llegada a clase a las 6\n",
        "# hora de finalizacion de la clase a las 9\n",
        "jaime_horallegada = 7.5\n",
        "print('La hora de llegada de jaime fue a las',jaime_horallegada)\n",
        "\n",
        "if (jaime_horallegada<=6):\n",
        "    print('Llegó a tiempo a clase')\n",
        "elif (jaime_horallegada<=9):\n",
        "    print('Llegó tarde a clase')\n",
        "else:\n",
        "    print('No llegó a clase')"
      ]
    },
    {
      "attachments": {},
      "cell_type": "markdown",
      "metadata": {
        "id": "vC7X16TJVv_G"
      },
      "source": [
        "## Loops"
      ]
    },
    {
      "cell_type": "code",
      "execution_count": 55,
      "metadata": {
        "colab": {
          "base_uri": "https://localhost:8080/"
        },
        "id": "v1JoIc8uVf1B",
        "outputId": "9cca4019-eb87-4ab6-f3c9-cf8cff2370a7"
      },
      "outputs": [
        {
          "name": "stdout",
          "output_type": "stream",
          "text": [
            "2022\n",
            "08\n",
            "20\n"
          ]
        }
      ],
      "source": [
        "list = ['2022', '08', '20'] # creo una lista sobre la que quiero recorrer\n",
        "i = 0 # variable de control o de escape que inicia en cero # se desa que converja en algun momento\n",
        "\n",
        "while i < len(list): # mientras se cumpla una condicion\n",
        "  print(list[i]) # muestre en pantalla el elemento i de la lista\n",
        "  i += 1 # es lo mismo que escribir i = i + 1 # una instruccion para obligar a converger"
      ]
    },
    {
      "cell_type": "code",
      "execution_count": 56,
      "metadata": {
        "colab": {
          "base_uri": "https://localhost:8080/"
        },
        "id": "kHWQ6soIVzY9",
        "outputId": "577c7ae1-2253-447e-8d09-064da17a1f6f"
      },
      "outputs": [
        {
          "name": "stdout",
          "output_type": "stream",
          "text": [
            "2022\n",
            "08\n",
            "20\n"
          ]
        }
      ],
      "source": [
        "list = ['2022', '08', '20']\n",
        "for i in range(len(list)): # for \n",
        "  print(list[i]) # usando la posicion del elemento la lista"
      ]
    },
    {
      "cell_type": "code",
      "execution_count": 62,
      "metadata": {
        "colab": {
          "base_uri": "https://localhost:8080/"
        },
        "id": "6ZOo98IPV65T",
        "outputId": "c36bd3d9-824d-4ebc-a93b-3f47f9de5af1"
      },
      "outputs": [
        {
          "name": "stdout",
          "output_type": "stream",
          "text": [
            "2022\n",
            "08\n",
            "20\n"
          ]
        }
      ],
      "source": [
        "list = ['2022', '08', '20']\n",
        "for elementito in list: # for usando la información del elemento la lista\n",
        "  print(elementito)"
      ]
    },
    {
      "cell_type": "code",
      "execution_count": 65,
      "metadata": {
        "colab": {
          "base_uri": "https://localhost:8080/"
        },
        "id": "H3e1zoUGKSuo",
        "outputId": "c80ae1bd-429c-464b-d387-f3f4aaab8408"
      },
      "outputs": [
        {
          "name": "stdout",
          "output_type": "stream",
          "text": [
            "2022\n",
            "08\n",
            "20\n"
          ]
        }
      ],
      "source": [
        "list = ['2022', '08', '20']\n",
        "for i in range(len(list)):\n",
        "  print(list[i])\n",
        "  if i == 1: # condicion de break\n",
        "    break"
      ]
    },
    {
      "cell_type": "code",
      "execution_count": 67,
      "metadata": {},
      "outputs": [
        {
          "name": "stdout",
          "output_type": "stream",
          "text": [
            "repartir sorpresa a : Hugo\n",
            "repartir sorpresa a : Ivan\n",
            "repartir sorpresa a : Juan\n",
            "repartir sorpresa a : Lara\n",
            "repartir sorpresa a : Ana\n",
            "repartir sorpresa a : Enzo\n"
          ]
        }
      ],
      "source": [
        "# fiesta con unos invitados\n",
        "# solo tengo 6 sorpresas de regalos (i == 5)\n",
        "list = ['Hugo','Ivan','Juan','Lara','Ana','Enzo','Leo','Luz','Mar','Nora','Angela','Eric','Eva','Raul','Sara']\n",
        "\n",
        "\n",
        "for i in range(len(list)):\n",
        "  print('repartir sorpresa a :',list[i])\n",
        "  if i == 5: # condicion de break\n",
        "    break"
      ]
    },
    {
      "attachments": {},
      "cell_type": "markdown",
      "metadata": {
        "id": "Zqdxm86VWRFP"
      },
      "source": [
        "## Funciones"
      ]
    },
    {
      "attachments": {},
      "cell_type": "markdown",
      "metadata": {
        "id": "ISgUansdRn2b"
      },
      "source": [
        "Definición de nuevas instrucciones que reciben parametros llamados argumentos.\n",
        "\n",
        "* La documentación de una función se coloca luego del encabezado de la función, en un párrafo encerrado entre tres comillas dobles \"\"\"\n"
      ]
    },
    {
      "cell_type": "markdown",
      "metadata": {},
      "source": [
        "* una función puede recibir un argumento de entrada o varios, sin embargo, tambien tambien puede no recibir ninguno"
      ]
    },
    {
      "cell_type": "code",
      "execution_count": 71,
      "metadata": {},
      "outputs": [],
      "source": [
        "def llegada_tarde(hora):\n",
        "    \"\"\"\n",
        "    se crea funcion para identificar si el alumno llega tarde a clase\n",
        "    variable hora debe ser numerica y corresponde a la hora de llegada del alumno\n",
        "    \"\"\"\n",
        "    # programa\n",
        "    if hora <= 6:\n",
        "        revision = 'El almuno llegó a tiempo'\n",
        "    elif hora <= 9:\n",
        "        revision = 'El almuno llegó a clase tarde'\n",
        "    else:\n",
        "        revision = 'El alumno no llegó a clase'\n",
        "    # accion\n",
        "    print(revision)\n"
      ]
    },
    {
      "cell_type": "code",
      "execution_count": 75,
      "metadata": {},
      "outputs": [],
      "source": [
        "def llegada_tarde(hora):\n",
        "    \"\"\"\n",
        "    se crea funcion para identificar si el alumno llega tarde a clase\n",
        "    variable hora debe ser numerica y corresponde a la hora de llegada del alumno\n",
        "    \"\"\"\n",
        "    if hora <= 6:\n",
        "        revision = 'El almuno llegó a tiempo'\n",
        "    elif hora <= 9:\n",
        "        revision = 'El almuno llegó a clase tarde'\n",
        "    else:\n",
        "        revision = 'El alumno no llegó a clase'\n",
        "    # regresa o entrega la funcion\n",
        "    return revision"
      ]
    },
    {
      "cell_type": "code",
      "execution_count": 77,
      "metadata": {},
      "outputs": [
        {
          "name": "stdout",
          "output_type": "stream",
          "text": [
            "El almuno llegó a tiempo\n",
            "El almuno llegó a clase tarde\n",
            "El alumno no llegó a clase\n",
            "El almuno llegó a tiempo\n"
          ]
        }
      ],
      "source": [
        "# evaluar si el alumno llego a la clase de 6 a 9\n",
        "print(llegada_tarde(6))\n",
        "print(llegada_tarde(8))\n",
        "print(llegada_tarde(10))\n",
        "print(llegada_tarde(2))"
      ]
    },
    {
      "cell_type": "code",
      "execution_count": 78,
      "metadata": {},
      "outputs": [],
      "source": [
        "def llegada_tarde_recargada(hora_alumno,hora_entrada, hora_salida):\n",
        "    \"\"\"\n",
        "    se crea funcion para identificar si el alumno llega tarde a clase\n",
        "    variable hora debe ser numerica y corresponde a la hora de llegada del alumno\n",
        "    variable hora entrada a clase debe ser numerica\n",
        "    variable hora salida a clase debe ser numerica\n",
        "    \"\"\"\n",
        "    if hora_alumno <= hora_entrada:\n",
        "        revision = 'El almuno llegó a tiempo'\n",
        "    elif hora_alumno <= hora_salida:\n",
        "        revision = 'El almuno llegó a clase tarde'\n",
        "    else:\n",
        "        revision = 'El alumno no llegó a clase'\n",
        "    return revision"
      ]
    },
    {
      "cell_type": "code",
      "execution_count": 79,
      "metadata": {},
      "outputs": [
        {
          "name": "stdout",
          "output_type": "stream",
          "text": [
            "El almuno llegó a clase tarde\n",
            "El almuno llegó a clase tarde\n",
            "El almuno llegó a tiempo\n",
            "El almuno llegó a tiempo\n"
          ]
        }
      ],
      "source": [
        "# evaluar si el alumno llego a la clase en las horas debidas\n",
        "print(llegada_tarde_recargada(9,6,9))\n",
        "print(llegada_tarde_recargada(9,8,12))\n",
        "print(llegada_tarde_recargada(9,12,15))\n",
        "print(llegada_tarde_recargada(9,20,22))"
      ]
    },
    {
      "cell_type": "code",
      "execution_count": 83,
      "metadata": {
        "id": "JL2l5TBXWGAI"
      },
      "outputs": [],
      "source": [
        "def func_exp(x):\n",
        "  \"\"\" Aquí debe documentar la función. \"\"\"\n",
        "  y = x ** 2\n",
        "  return y"
      ]
    },
    {
      "cell_type": "code",
      "execution_count": 88,
      "metadata": {
        "colab": {
          "base_uri": "https://localhost:8080/"
        },
        "id": "XuJF4egh6RKe",
        "outputId": "f660122c-45b7-4352-9527-4dc10ff6bd45"
      },
      "outputs": [
        {
          "data": {
            "text/plain": [
              "10000"
            ]
          },
          "execution_count": 88,
          "metadata": {},
          "output_type": "execute_result"
        }
      ],
      "source": [
        "func_exp(100)"
      ]
    },
    {
      "cell_type": "code",
      "execution_count": 89,
      "metadata": {
        "id": "WBikvqhF4cNP"
      },
      "outputs": [],
      "source": [
        "def func_exp(x, exp):\n",
        "  \"\"\" Aquí debe documentar la función. \"\"\"\n",
        "  y = x ** exp\n",
        "  return y"
      ]
    },
    {
      "cell_type": "code",
      "execution_count": 94,
      "metadata": {
        "colab": {
          "base_uri": "https://localhost:8080/"
        },
        "id": "EATiXTwy6Zjz",
        "outputId": "e29cf2ed-7a67-4665-97cc-729daf810832"
      },
      "outputs": [
        {
          "data": {
            "text/plain": [
              "64"
            ]
          },
          "execution_count": 94,
          "metadata": {},
          "output_type": "execute_result"
        }
      ],
      "source": [
        "func_exp(x = 4,exp = 3) # 3x3x3"
      ]
    },
    {
      "cell_type": "code",
      "execution_count": 98,
      "metadata": {
        "id": "t0Ta1BSg4bsy"
      },
      "outputs": [],
      "source": [
        "# funciones anidades o funciones dentro de funciones\n",
        "def func_exp_texto(x, exp):\n",
        "  \"\"\" Aquí debe documentar la función. \"\"\"\n",
        "  y = func_exp(x, exp) # calculeme el resultado\n",
        "  txt = \"{0} elevado a la {1} es igual a {2}.\".format(x, exp, y) # use las parametros de entrada y el resultado en una cadena de texto\n",
        "  return txt"
      ]
    },
    {
      "cell_type": "code",
      "execution_count": 99,
      "metadata": {
        "colab": {
          "base_uri": "https://localhost:8080/",
          "height": 36
        },
        "id": "kEXecjloTRtV",
        "outputId": "cc5db23b-198e-4c94-d198-936f41d98ade"
      },
      "outputs": [
        {
          "data": {
            "text/plain": [
              "'4 elevado a la 3 es igual a 64.'"
            ]
          },
          "execution_count": 99,
          "metadata": {},
          "output_type": "execute_result"
        }
      ],
      "source": [
        "func_exp_texto(4,3) # 4x4x4 = 64"
      ]
    },
    {
      "cell_type": "code",
      "execution_count": 100,
      "metadata": {
        "id": "knvx9TAkOTaf"
      },
      "outputs": [],
      "source": [
        "# tuplas\n",
        "def func_exp_2_3(x):\n",
        "  \"\"\" Aquí debe documentar la función. \"\"\"\n",
        "  y_1 = x ** 2\n",
        "  y_2 = x ** 3\n",
        "  return y_1, y_2"
      ]
    },
    {
      "cell_type": "code",
      "execution_count": 101,
      "metadata": {},
      "outputs": [],
      "source": [
        "a, b = func_exp_2_3(4)"
      ]
    },
    {
      "cell_type": "code",
      "execution_count": 102,
      "metadata": {
        "colab": {
          "base_uri": "https://localhost:8080/"
        },
        "id": "t-NUvrclTToo",
        "outputId": "6bd3878f-f27f-44c0-9f1e-7f8d2f715993"
      },
      "outputs": [
        {
          "name": "stdout",
          "output_type": "stream",
          "text": [
            "<class 'int'>\n",
            "16\n",
            "<class 'int'>\n",
            "64\n"
          ]
        }
      ],
      "source": [
        "a, b = func_exp_2_3(4) # 4x4 = 16 , 4x4x4 = 64\n",
        "print(type(a)) # clase de objeto \n",
        "print(a)\n",
        "print(type(b))\n",
        "print(b)"
      ]
    },
    {
      "attachments": {},
      "cell_type": "markdown",
      "metadata": {
        "id": "XECcj15L_r0H"
      },
      "source": [
        "## Lambda"
      ]
    },
    {
      "attachments": {},
      "cell_type": "markdown",
      "metadata": {
        "id": "nmJM_YvpX7z9"
      },
      "source": [
        " Son funciones anónimas que solo pueden contener una expresión"
      ]
    },
    {
      "cell_type": "code",
      "execution_count": 103,
      "metadata": {},
      "outputs": [
        {
          "data": {
            "text/plain": [
              "<function __main__.<lambda>(arg_entrada)>"
            ]
          },
          "execution_count": 103,
          "metadata": {},
          "output_type": "execute_result"
        }
      ],
      "source": [
        "lambda arg_entrada : arg_entrada+1"
      ]
    },
    {
      "cell_type": "code",
      "execution_count": 104,
      "metadata": {
        "colab": {
          "base_uri": "https://localhost:8080/"
        },
        "id": "rPg2o7K8dW91",
        "outputId": "30a21539-99f4-4344-a6e6-02e44cb71684"
      },
      "outputs": [
        {
          "name": "stdout",
          "output_type": "stream",
          "text": [
            "<class 'str'>\n",
            "Hola, mundo\n"
          ]
        }
      ],
      "source": [
        "# funcion anonima\n",
        "func_lambda_txt = lambda arg1,arg2: arg1+', '+arg2\n",
        "# argumentos\n",
        "txt_1 = 'Hola'\n",
        "txt_2 = 'mundo'\n",
        "# obtener el resultado de aplicar la funcion\n",
        "txt = func_lambda_txt(txt_1,txt_2)\n",
        "# revisar resultados\n",
        "print(type(txt))\n",
        "print(txt)"
      ]
    },
    {
      "attachments": {},
      "cell_type": "markdown",
      "metadata": {
        "id": "-zs05rxrYEPU"
      },
      "source": [
        "## función Map"
      ]
    },
    {
      "attachments": {},
      "cell_type": "markdown",
      "metadata": {
        "id": "tpWPoX4cav_R"
      },
      "source": [
        "Para el procesamiento de objetos iterables como listas e iteradores se ha implementado algunas funciones de orden superior de uso común y estas devuelven un iterador que ahorra espacio."
      ]
    },
    {
      "cell_type": "code",
      "execution_count": 105,
      "metadata": {
        "colab": {
          "base_uri": "https://localhost:8080/"
        },
        "id": "VcIx8Vf5YDph",
        "outputId": "2ec89229-9092-4150-9e55-5b9f76fcdbcb"
      },
      "outputs": [
        {
          "name": "stdout",
          "output_type": "stream",
          "text": [
            "1, 4, 9, 16, 25, 36, "
          ]
        }
      ],
      "source": [
        "# defino una funcion que deseo aplicar a cada uno de los elementos de la lista\n",
        "def func_exp(x):\n",
        "  \"\"\" Aquí debe documentar la función. \"\"\"\n",
        "  y = x ** 2\n",
        "  return y\n",
        "\n",
        "# creo la lista\n",
        "list_a = [1, 2, 3, 4, 5, 6]\n",
        "\n",
        "# recorrer con el map la lista\n",
        "map_a = map(func_exp, list_a)\n",
        "\n",
        "# recorra loss elemento resultado de hacer map\n",
        "for map_i in map_a:\n",
        "    print(map_i, end = \", \")"
      ]
    },
    {
      "cell_type": "code",
      "execution_count": 106,
      "metadata": {
        "colab": {
          "base_uri": "https://localhost:8080/"
        },
        "id": "OGQxhdEAgcu6",
        "outputId": "b9312da5-3e90-46a7-8b0f-da953d6b70bd"
      },
      "outputs": [
        {
          "name": "stdout",
          "output_type": "stream",
          "text": [
            "1, 4, 9, 16, 25, 36, "
          ]
        }
      ],
      "source": [
        "# usando funciones anonimas lambda\n",
        "# crear una lista\n",
        "list_a = [1, 2, 3, 4, 5, 6]\n",
        "\n",
        "# va a recorrer la lista aplicando la funcion anonima lambda\n",
        "map_a = map(lambda x: x ** 2, list_a)\n",
        "\n",
        "# recorra loss elemento resultado de hacer map\n",
        "for map_i in map_a:\n",
        "    print(map_i, end = \", \")"
      ]
    },
    {
      "attachments": {},
      "cell_type": "markdown",
      "metadata": {
        "id": "bAOwhfGMUIn6"
      },
      "source": [
        "## Errores y excepciones"
      ]
    },
    {
      "attachments": {},
      "cell_type": "markdown",
      "metadata": {
        "id": "6mJtaWhoVN_I"
      },
      "source": [
        "Los errores de ejecución son llamados comúnmente excepciones. \\\n",
        "Durante la ejecución de un programa, si dentro de una función surge una excepción y la función no la maneja, la excepción se propaga hacia la función que la invocó, si esta otra tampoco la maneja, la excepción continua propagándose hasta llegar a la función inicial del programa y si esta tampoco la maneja se interrumpe la ejecución del programa"
      ]
    },
    {
      "cell_type": "code",
      "execution_count": 108,
      "metadata": {
        "colab": {
          "base_uri": "https://localhost:8080/",
          "height": 205
        },
        "id": "Yw8oxx4oKw5P",
        "outputId": "848ba934-c389-49fa-ff81-dcc69b371afc"
      },
      "outputs": [
        {
          "ename": "ZeroDivisionError",
          "evalue": "division by zero",
          "output_type": "error",
          "traceback": [
            "\u001b[1;31m---------------------------------------------------------------------------\u001b[0m",
            "\u001b[1;31mZeroDivisionError\u001b[0m                         Traceback (most recent call last)",
            "\u001b[1;32mg:\\My Drive\\Consultoria\\unicafam\\2 - cursos\\Modelos de analítica\\FOSFEC\\20230915 - 20230926\\compartida\\notebooks\\001_python_basic.ipynb Cell 150\u001b[0m line \u001b[0;36m3\n\u001b[0;32m      <a href='vscode-notebook-cell:/g%3A/My%20Drive/Consultoria/unicafam/2%20-%20cursos/Modelos%20de%20anal%C3%ADtica/FOSFEC/20230915%20-%2020230926/compartida/notebooks/001_python_basic.ipynb#Y256sZmlsZQ%3D%3D?line=0'>1</a>\u001b[0m dividendo \u001b[39m=\u001b[39m \u001b[39m5\u001b[39m\n\u001b[0;32m      <a href='vscode-notebook-cell:/g%3A/My%20Drive/Consultoria/unicafam/2%20-%20cursos/Modelos%20de%20anal%C3%ADtica/FOSFEC/20230915%20-%2020230926/compartida/notebooks/001_python_basic.ipynb#Y256sZmlsZQ%3D%3D?line=1'>2</a>\u001b[0m divisor \u001b[39m=\u001b[39m \u001b[39m0\u001b[39m\n\u001b[1;32m----> <a href='vscode-notebook-cell:/g%3A/My%20Drive/Consultoria/unicafam/2%20-%20cursos/Modelos%20de%20anal%C3%ADtica/FOSFEC/20230915%20-%2020230926/compartida/notebooks/001_python_basic.ipynb#Y256sZmlsZQ%3D%3D?line=2'>3</a>\u001b[0m dividendo \u001b[39m/\u001b[39;49m divisor\n",
            "\u001b[1;31mZeroDivisionError\u001b[0m: division by zero"
          ]
        }
      ],
      "source": [
        "dividendo = 5\n",
        "divisor = 0\n",
        "dividendo / divisor"
      ]
    },
    {
      "cell_type": "code",
      "execution_count": 113,
      "metadata": {
        "colab": {
          "base_uri": "https://localhost:8080/"
        },
        "id": "aVlbPG3OUICP",
        "outputId": "b9e36ee1-c947-4a51-d073-5debb1cdf879"
      },
      "outputs": [
        {
          "name": "stdout",
          "output_type": "stream",
          "text": [
            "No se permite la división por cero\n"
          ]
        }
      ],
      "source": [
        "dividendo = 5\n",
        "divisor = 0\n",
        "\n",
        "try: # intente realizar...\n",
        "  cociente = dividendo / divisor\n",
        "  print(cociente)\n",
        "except: # en caso de no poder realizarlo, haga lo siguiente\n",
        "  print(\"No se permite la división por cero\")"
      ]
    },
    {
      "cell_type": "code",
      "execution_count": 114,
      "metadata": {},
      "outputs": [
        {
          "ename": "IndexError",
          "evalue": "string index out of range",
          "output_type": "error",
          "traceback": [
            "\u001b[1;31m---------------------------------------------------------------------------\u001b[0m",
            "\u001b[1;31mIndexError\u001b[0m                                Traceback (most recent call last)",
            "\u001b[1;32mg:\\My Drive\\Consultoria\\unicafam\\2 - cursos\\Modelos de analítica\\FOSFEC\\20230915 - 20230926\\compartida\\notebooks\\001_python_basic.ipynb Cell 152\u001b[0m line \u001b[0;36m2\n\u001b[0;32m      <a href='vscode-notebook-cell:/g%3A/My%20Drive/Consultoria/unicafam/2%20-%20cursos/Modelos%20de%20anal%C3%ADtica/FOSFEC/20230915%20-%2020230926/compartida/notebooks/001_python_basic.ipynb#Y261sZmlsZQ%3D%3D?line=0'>1</a>\u001b[0m txt \u001b[39m=\u001b[39m \u001b[39m'\u001b[39m\u001b[39msiete\u001b[39m\u001b[39m'\u001b[39m \u001b[39m# asigno un texto a una variable\u001b[39;00m\n\u001b[1;32m----> <a href='vscode-notebook-cell:/g%3A/My%20Drive/Consultoria/unicafam/2%20-%20cursos/Modelos%20de%20anal%C3%ADtica/FOSFEC/20230915%20-%2020230926/compartida/notebooks/001_python_basic.ipynb#Y261sZmlsZQ%3D%3D?line=1'>2</a>\u001b[0m \u001b[39mprint\u001b[39m(txt[\u001b[39m7\u001b[39;49m])\n",
            "\u001b[1;31mIndexError\u001b[0m: string index out of range"
          ]
        }
      ],
      "source": [
        "txt = 'siete' # asigno un texto a una variable\n",
        "print(txt[7])"
      ]
    },
    {
      "cell_type": "code",
      "execution_count": 117,
      "metadata": {
        "colab": {
          "base_uri": "https://localhost:8080/"
        },
        "id": "3W55wnfLVZ1z",
        "outputId": "d4dca3f6-a403-4dcf-b625-cc663b2cd833"
      },
      "outputs": [
        {
          "name": "stdout",
          "output_type": "stream",
          "text": [
            "s\n"
          ]
        }
      ],
      "source": [
        "txt = 'siete' # asigno un texto a una variable\n",
        "\n",
        "try: # intente realizar...\n",
        "  print(txt[7])\n",
        "except: # en caso de no poder realizarlo, haga lo siguiente\n",
        "  print(\"No existe el elemento buscado\")"
      ]
    },
    {
      "attachments": {},
      "cell_type": "markdown",
      "metadata": {
        "id": "6Gh9sfak8kXq"
      },
      "source": [
        "## Bibliografía\n"
      ]
    },
    {
      "attachments": {},
      "cell_type": "markdown",
      "metadata": {
        "id": "mOjNZPz7k4Ft"
      },
      "source": [
        "\n",
        "* (2022,Montenegro y Montenegro) Aprendizaje profundo. Diplomado de IA y AP. \n",
        "* BeginnersGuide. link :https://wiki.python.org/moin/BeginnersGuide/Programmers\n",
        "* Uniwebsidad. link :https://uniwebsidad.com/libros/algoritmos-python"
      ]
    }
  ],
  "metadata": {
    "colab": {
      "collapsed_sections": [
        "lWhYWwEGOnk5",
        "XgUduxV4MqQ-",
        "KTW-t3_17QiB",
        "pBCamJX7QmNU",
        "ewsXo0_cIWiF",
        "PKVwthpaIY-u",
        "dxyWQi8EUSyl",
        "vC7X16TJVv_G",
        "Zqdxm86VWRFP",
        "XECcj15L_r0H",
        "-zs05rxrYEPU",
        "bAOwhfGMUIn6"
      ],
      "name": "001_python_basic.ipynb",
      "provenance": []
    },
    "kernelspec": {
      "display_name": "Python 3",
      "name": "python3"
    },
    "language_info": {
      "codemirror_mode": {
        "name": "ipython",
        "version": 3
      },
      "file_extension": ".py",
      "mimetype": "text/x-python",
      "name": "python",
      "nbconvert_exporter": "python",
      "pygments_lexer": "ipython3",
      "version": "3.11.3"
    }
  },
  "nbformat": 4,
  "nbformat_minor": 0
}
